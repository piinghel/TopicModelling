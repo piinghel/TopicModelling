{
 "cells": [
  {
   "cell_type": "code",
   "execution_count": 1,
   "metadata": {},
   "outputs": [],
   "source": [
    "import os \n",
    "os.chdir(\"C:\\\\Users\\\\Pieter-Jan\\\\Documents\\\\Work\\\\Candriam\\\\nlp\\\\ESG\\\\top2Vec\\\\Topic-modelling\")"
   ]
  },
  {
   "cell_type": "code",
   "execution_count": 2,
   "metadata": {},
   "outputs": [],
   "source": [
    "from modules import Top2Vec_custom\n",
    "import pandas as pd\n",
    "import numpy as np\n",
    "from sklearn.metrics.pairwise import cosine_similarity\n",
    "import pickle\n",
    "import plotly.express as px"
   ]
  },
  {
   "cell_type": "code",
   "execution_count": 3,
   "metadata": {},
   "outputs": [],
   "source": [
    "%reload_ext autoreload\n",
    "%autoreload 2"
   ]
  },
  {
   "cell_type": "code",
   "execution_count": 4,
   "metadata": {},
   "outputs": [],
   "source": [
    "df = pd.read_csv(\"data/CRS_processed_PyMuPDF.txt\", sep='\\t')"
   ]
  },
  {
   "cell_type": "code",
   "execution_count": 5,
   "metadata": {},
   "outputs": [
    {
     "data": {
      "text/plain": [
       "(3600, 9)"
      ]
     },
     "execution_count": 5,
     "metadata": {},
     "output_type": "execute_result"
    }
   ],
   "source": [
    "df.shape"
   ]
  },
  {
   "cell_type": "code",
   "execution_count": 6,
   "metadata": {
    "scrolled": true
   },
   "outputs": [
    {
     "data": {
      "text/html": [
       "<div>\n",
       "<style scoped>\n",
       "    .dataframe tbody tr th:only-of-type {\n",
       "        vertical-align: middle;\n",
       "    }\n",
       "\n",
       "    .dataframe tbody tr th {\n",
       "        vertical-align: top;\n",
       "    }\n",
       "\n",
       "    .dataframe thead th {\n",
       "        text-align: right;\n",
       "    }\n",
       "</style>\n",
       "<table border=\"1\" class=\"dataframe\">\n",
       "  <thead>\n",
       "    <tr style=\"text-align: right;\">\n",
       "      <th></th>\n",
       "      <th>company</th>\n",
       "      <th>industry</th>\n",
       "      <th>sector</th>\n",
       "      <th>year</th>\n",
       "      <th>url</th>\n",
       "      <th>filename</th>\n",
       "      <th>paragraph</th>\n",
       "      <th>tot_p</th>\n",
       "      <th>p_nr</th>\n",
       "    </tr>\n",
       "  </thead>\n",
       "  <tbody>\n",
       "    <tr>\n",
       "      <th>0</th>\n",
       "      <td>Alexandria Real Estate Equities, Inc.</td>\n",
       "      <td>REIT - Industrial</td>\n",
       "      <td>Financial</td>\n",
       "      <td>2018.0</td>\n",
       "      <td>https://www.responsibilityreports.com/HostedDa...</td>\n",
       "      <td>AlexandriaRealEstateEquities,Inc.-2018.pdf</td>\n",
       "      <td>CORPORATE RESPONSIBILITY REPORT ALEXANDRIA REA...</td>\n",
       "      <td>111</td>\n",
       "      <td>1</td>\n",
       "    </tr>\n",
       "    <tr>\n",
       "      <th>1</th>\n",
       "      <td>Alexandria Real Estate Equities, Inc.</td>\n",
       "      <td>REIT - Industrial</td>\n",
       "      <td>Financial</td>\n",
       "      <td>2018.0</td>\n",
       "      <td>https://www.responsibilityreports.com/HostedDa...</td>\n",
       "      <td>AlexandriaRealEstateEquities,Inc.-2018.pdf</td>\n",
       "      <td>LARGE CAP EQUITY REIT GOLD AWARD 2015 | 2016 |...</td>\n",
       "      <td>111</td>\n",
       "      <td>2</td>\n",
       "    </tr>\n",
       "  </tbody>\n",
       "</table>\n",
       "</div>"
      ],
      "text/plain": [
       "                                 company           industry     sector  \\\n",
       "0  Alexandria Real Estate Equities, Inc.  REIT - Industrial  Financial   \n",
       "1  Alexandria Real Estate Equities, Inc.  REIT - Industrial  Financial   \n",
       "\n",
       "     year                                                url  \\\n",
       "0  2018.0  https://www.responsibilityreports.com/HostedDa...   \n",
       "1  2018.0  https://www.responsibilityreports.com/HostedDa...   \n",
       "\n",
       "                                     filename  \\\n",
       "0  AlexandriaRealEstateEquities,Inc.-2018.pdf   \n",
       "1  AlexandriaRealEstateEquities,Inc.-2018.pdf   \n",
       "\n",
       "                                           paragraph  tot_p  p_nr  \n",
       "0  CORPORATE RESPONSIBILITY REPORT ALEXANDRIA REA...    111     1  \n",
       "1  LARGE CAP EQUITY REIT GOLD AWARD 2015 | 2016 |...    111     2  "
      ]
     },
     "execution_count": 6,
     "metadata": {},
     "output_type": "execute_result"
    }
   ],
   "source": [
    "df.head(2)"
   ]
  },
  {
   "cell_type": "code",
   "execution_count": 7,
   "metadata": {},
   "outputs": [],
   "source": [
    "paragraphs = df[\"paragraph\"].values.tolist()"
   ]
  },
  {
   "cell_type": "code",
   "execution_count": 16,
   "metadata": {
    "scrolled": false
   },
   "outputs": [
    {
     "name": "stderr",
     "output_type": "stream",
     "text": [
      "2020-12-19 12:51:39,162 - top2vec - INFO - Pre-processing documents for training\n",
      "2020-12-19 12:51:39,162 - top2vec - INFO - Pre-processing documents for training\n",
      "INFO:top2vec:Pre-processing documents for training\n",
      "2020-12-19 12:51:41,020 - top2vec - INFO - Downloading distiluse-base-multilingual-cased model\n",
      "2020-12-19 12:51:41,020 - top2vec - INFO - Downloading distiluse-base-multilingual-cased model\n",
      "INFO:top2vec:Downloading distiluse-base-multilingual-cased model\n",
      "2020-12-19 12:59:13,055 - top2vec - INFO - Creating lower dimension embedding of documents\n",
      "2020-12-19 12:59:13,055 - top2vec - INFO - Creating lower dimension embedding of documents\n",
      "INFO:top2vec:Creating lower dimension embedding of documents\n",
      "2020-12-19 12:59:13,057 - top2vec - INFO - Creating lower dimension embedding of documents\n",
      "2020-12-19 12:59:13,057 - top2vec - INFO - Creating lower dimension embedding of documents\n",
      "INFO:top2vec:Creating lower dimension embedding of documents\n",
      "2020-12-19 12:59:39,758 - top2vec - INFO - Finding dense areas of documents\n",
      "2020-12-19 12:59:39,758 - top2vec - INFO - Finding dense areas of documents\n",
      "INFO:top2vec:Finding dense areas of documents\n",
      "2020-12-19 12:59:39,761 - top2vec - INFO - Finding dense areas of documents\n",
      "2020-12-19 12:59:39,761 - top2vec - INFO - Finding dense areas of documents\n",
      "INFO:top2vec:Finding dense areas of documents\n",
      "2020-12-19 12:59:39,904 - top2vec - INFO - Finding topics\n",
      "2020-12-19 12:59:39,904 - top2vec - INFO - Finding topics\n",
      "INFO:top2vec:Finding topics\n"
     ]
    },
    {
     "name": "stdout",
     "output_type": "stream",
     "text": [
      "Wall time: 8min\n"
     ]
    }
   ],
   "source": [
    "# %%time\n",
    "# model_distilBert = Top2Vec_custom.Top2Vec(\n",
    "#     documents=paragraphs, \n",
    "#     embedding_model='distiluse-base-multilingual-cased',\n",
    "#     load_doc_embed=False,\n",
    "#     save_doc_embed=True,\n",
    "#     path_doc_embed=\"output/distBert_embedding.npy\"\n",
    "# )"
   ]
  },
  {
   "cell_type": "code",
   "execution_count": 17,
   "metadata": {},
   "outputs": [
    {
     "name": "stderr",
     "output_type": "stream",
     "text": [
      "2020-12-19 12:59:41,214 - top2vec - INFO - Pre-processing documents for training\n",
      "2020-12-19 12:59:41,214 - top2vec - INFO - Pre-processing documents for training\n",
      "INFO:top2vec:Pre-processing documents for training\n",
      "2020-12-19 12:59:43,400 - top2vec - INFO - Downloading distiluse-base-multilingual-cased model\n",
      "2020-12-19 12:59:43,400 - top2vec - INFO - Downloading distiluse-base-multilingual-cased model\n",
      "INFO:top2vec:Downloading distiluse-base-multilingual-cased model\n",
      "2020-12-19 12:59:58,713 - top2vec - INFO - Creating lower dimension embedding of documents\n",
      "2020-12-19 12:59:58,713 - top2vec - INFO - Creating lower dimension embedding of documents\n",
      "INFO:top2vec:Creating lower dimension embedding of documents\n",
      "2020-12-19 12:59:58,716 - top2vec - INFO - Creating lower dimension embedding of documents\n",
      "2020-12-19 12:59:58,716 - top2vec - INFO - Creating lower dimension embedding of documents\n",
      "INFO:top2vec:Creating lower dimension embedding of documents\n",
      "2020-12-19 13:00:19,453 - top2vec - INFO - Finding dense areas of documents\n",
      "2020-12-19 13:00:19,453 - top2vec - INFO - Finding dense areas of documents\n",
      "INFO:top2vec:Finding dense areas of documents\n",
      "2020-12-19 13:00:19,455 - top2vec - INFO - Finding dense areas of documents\n",
      "2020-12-19 13:00:19,455 - top2vec - INFO - Finding dense areas of documents\n",
      "INFO:top2vec:Finding dense areas of documents\n",
      "2020-12-19 13:00:19,593 - top2vec - INFO - Finding topics\n",
      "2020-12-19 13:00:19,593 - top2vec - INFO - Finding topics\n",
      "INFO:top2vec:Finding topics\n"
     ]
    },
    {
     "name": "stdout",
     "output_type": "stream",
     "text": [
      "Wall time: 38.5 s\n"
     ]
    }
   ],
   "source": [
    "# %%time\n",
    "# model_distilBert = Top2Vec_custom.Top2Vec(\n",
    "#     documents=paragraphs, \n",
    "#     embedding_model='distiluse-base-multilingual-cased',\n",
    "#     load_doc_embed=True,\n",
    "#     save_doc_embed=Falselse,\n",
    "#     path_doc_embed=\"output/distBert_embedding.npy\"\n",
    "# )"
   ]
  },
  {
   "cell_type": "code",
   "execution_count": 19,
   "metadata": {},
   "outputs": [],
   "source": [
    "# model_dir = \"output/distilBert_REIT-Industrial.sav\"  \n",
    "# with open(model_dir, 'wb') as file:  \n",
    "#     pickle.dump(model_distilBert, file)"
   ]
  },
  {
   "cell_type": "code",
   "execution_count": 9,
   "metadata": {},
   "outputs": [],
   "source": [
    "model_dir = \"output/distilBert_REIT-Industrial.sav\"  \n",
    "with open(model_dir, 'rb') as file:  \n",
    "    model_distilBert = pickle.load(file)"
   ]
  },
  {
   "cell_type": "code",
   "execution_count": 10,
   "metadata": {},
   "outputs": [],
   "source": [
    "topic_words, word_scores, topic_nums = model_distilBert.get_topics()"
   ]
  },
  {
   "cell_type": "code",
   "execution_count": 11,
   "metadata": {},
   "outputs": [],
   "source": [
    "topic_sizes,  topic_nums = model_distilBert.get_topic_sizes()"
   ]
  },
  {
   "cell_type": "code",
   "execution_count": 12,
   "metadata": {
    "scrolled": false
   },
   "outputs": [
    {
     "data": {
      "text/html": [
       "<div>\n",
       "<style scoped>\n",
       "    .dataframe tbody tr th:only-of-type {\n",
       "        vertical-align: middle;\n",
       "    }\n",
       "\n",
       "    .dataframe tbody tr th {\n",
       "        vertical-align: top;\n",
       "    }\n",
       "\n",
       "    .dataframe thead th {\n",
       "        text-align: right;\n",
       "    }\n",
       "</style>\n",
       "<table border=\"1\" class=\"dataframe\">\n",
       "  <thead>\n",
       "    <tr style=\"text-align: right;\">\n",
       "      <th></th>\n",
       "      <th>0</th>\n",
       "      <th>1</th>\n",
       "      <th>2</th>\n",
       "      <th>3</th>\n",
       "      <th>4</th>\n",
       "      <th>5</th>\n",
       "      <th>6</th>\n",
       "      <th>7</th>\n",
       "      <th>8</th>\n",
       "      <th>9</th>\n",
       "      <th>size</th>\n",
       "    </tr>\n",
       "  </thead>\n",
       "  <tbody>\n",
       "    <tr>\n",
       "      <th>0</th>\n",
       "      <td>energy use carbon</td>\n",
       "      <td>energy carbon</td>\n",
       "      <td>energy savings</td>\n",
       "      <td>use carbon emissions</td>\n",
       "      <td>energy use kwh</td>\n",
       "      <td>energy consumption</td>\n",
       "      <td>energy efficient lighting</td>\n",
       "      <td>store electricity use</td>\n",
       "      <td>energy usage</td>\n",
       "      <td>reduce energy</td>\n",
       "      <td>324</td>\n",
       "    </tr>\n",
       "    <tr>\n",
       "      <th>1</th>\n",
       "      <td>responsibility report environmental</td>\n",
       "      <td>responsibility environmental</td>\n",
       "      <td>environmental stewardship social</td>\n",
       "      <td>responsibility report environment</td>\n",
       "      <td>corporate social responsibility</td>\n",
       "      <td>corporate overview environmental</td>\n",
       "      <td>social responsibility ethics</td>\n",
       "      <td>environmental social governance</td>\n",
       "      <td>environmental stewardship approach</td>\n",
       "      <td>ethics governance environmental</td>\n",
       "      <td>260</td>\n",
       "    </tr>\n",
       "    <tr>\n",
       "      <th>2</th>\n",
       "      <td>energy use carbon</td>\n",
       "      <td>use carbon emissions</td>\n",
       "      <td>carbon dioxide emissions</td>\n",
       "      <td>carbon pollution</td>\n",
       "      <td>energy carbon</td>\n",
       "      <td>carbon emissions</td>\n",
       "      <td>emissions carbon</td>\n",
       "      <td>carbon emission</td>\n",
       "      <td>reduce carbon</td>\n",
       "      <td>corporate carbon footprint</td>\n",
       "      <td>208</td>\n",
       "    </tr>\n",
       "    <tr>\n",
       "      <th>3</th>\n",
       "      <td>energy efficient lighting</td>\n",
       "      <td>energy efficient led</td>\n",
       "      <td>renewable energy initiatives</td>\n",
       "      <td>energy efficiency</td>\n",
       "      <td>energy efficient</td>\n",
       "      <td>renewable energy</td>\n",
       "      <td>energy use carbon</td>\n",
       "      <td>renewable energy generation</td>\n",
       "      <td>energy savings</td>\n",
       "      <td>building energy</td>\n",
       "      <td>194</td>\n",
       "    </tr>\n",
       "    <tr>\n",
       "      <th>4</th>\n",
       "      <td>water waste</td>\n",
       "      <td>energy water waste</td>\n",
       "      <td>water conservation</td>\n",
       "      <td>water usage</td>\n",
       "      <td>water efficiency</td>\n",
       "      <td>water use</td>\n",
       "      <td>waste recycling</td>\n",
       "      <td>water consumption</td>\n",
       "      <td>waste management</td>\n",
       "      <td>environmental management</td>\n",
       "      <td>174</td>\n",
       "    </tr>\n",
       "    <tr>\n",
       "      <th>5</th>\n",
       "      <td>charitable organizations</td>\n",
       "      <td>nonprofit organizations</td>\n",
       "      <td>volunteers</td>\n",
       "      <td>volunteering</td>\n",
       "      <td>donations</td>\n",
       "      <td>volunteer hours</td>\n",
       "      <td>donation</td>\n",
       "      <td>charities</td>\n",
       "      <td>volunteerism</td>\n",
       "      <td>volunteer</td>\n",
       "      <td>154</td>\n",
       "    </tr>\n",
       "    <tr>\n",
       "      <th>6</th>\n",
       "      <td>independent assurance report</td>\n",
       "      <td>assurance report</td>\n",
       "      <td>responsibility report continued</td>\n",
       "      <td>data reviewed deloitte</td>\n",
       "      <td>corporate responsibility report</td>\n",
       "      <td>prologis sustainability report</td>\n",
       "      <td>responsibility report corporate</td>\n",
       "      <td>sustainability report</td>\n",
       "      <td>report content</td>\n",
       "      <td>report environment continued</td>\n",
       "      <td>147</td>\n",
       "    </tr>\n",
       "    <tr>\n",
       "      <th>7</th>\n",
       "      <td>yellow self storage</td>\n",
       "      <td>year big yellow</td>\n",
       "      <td>yellow group plc</td>\n",
       "      <td>big yellow group</td>\n",
       "      <td>big yellow self</td>\n",
       "      <td>big yellow</td>\n",
       "      <td>big yellow construction</td>\n",
       "      <td>big yellow foundation</td>\n",
       "      <td>march big yellow</td>\n",
       "      <td>big yellows</td>\n",
       "      <td>146</td>\n",
       "    </tr>\n",
       "    <tr>\n",
       "      <th>8</th>\n",
       "      <td>sustainable building certifications</td>\n",
       "      <td>building certifications</td>\n",
       "      <td>green building</td>\n",
       "      <td>leed certification</td>\n",
       "      <td>energy performance certificates</td>\n",
       "      <td>leed certified</td>\n",
       "      <td>green building council</td>\n",
       "      <td>green roof</td>\n",
       "      <td>sustainable building</td>\n",
       "      <td>performance certificates</td>\n",
       "      <td>134</td>\n",
       "    </tr>\n",
       "    <tr>\n",
       "      <th>9</th>\n",
       "      <td>risk management</td>\n",
       "      <td>evaluation management approach</td>\n",
       "      <td>evaluation management</td>\n",
       "      <td>board governance</td>\n",
       "      <td>board directors</td>\n",
       "      <td>management approach components</td>\n",
       "      <td>csr manager</td>\n",
       "      <td>board governance nomination</td>\n",
       "      <td>senior management</td>\n",
       "      <td>management team</td>\n",
       "      <td>121</td>\n",
       "    </tr>\n",
       "    <tr>\n",
       "      <th>10</th>\n",
       "      <td>report environmental performance</td>\n",
       "      <td>report environmental stewardship</td>\n",
       "      <td>evaluation management approach</td>\n",
       "      <td>defining report content</td>\n",
       "      <td>esg report environmental</td>\n",
       "      <td>responsibility report environment</td>\n",
       "      <td>responsibility report environmental</td>\n",
       "      <td>report environmental</td>\n",
       "      <td>management reporting</td>\n",
       "      <td>report environment</td>\n",
       "      <td>120</td>\n",
       "    </tr>\n",
       "    <tr>\n",
       "      <th>11</th>\n",
       "      <td>report environmental performance</td>\n",
       "      <td>report environment continued</td>\n",
       "      <td>esg report environmental</td>\n",
       "      <td>report environmental stewardship</td>\n",
       "      <td>report environmental</td>\n",
       "      <td>responsibility report environmental</td>\n",
       "      <td>responsibility report environment</td>\n",
       "      <td>report environment</td>\n",
       "      <td>corporate information environmental</td>\n",
       "      <td>csr report</td>\n",
       "      <td>112</td>\n",
       "    </tr>\n",
       "    <tr>\n",
       "      <th>12</th>\n",
       "      <td>rooftop solar installations</td>\n",
       "      <td>rooftop solar</td>\n",
       "      <td>solar electricity generation</td>\n",
       "      <td>solar energy</td>\n",
       "      <td>solar electricity</td>\n",
       "      <td>solar installations</td>\n",
       "      <td>solar panels</td>\n",
       "      <td>solar generation</td>\n",
       "      <td>solar pv</td>\n",
       "      <td>mw solar</td>\n",
       "      <td>106</td>\n",
       "    </tr>\n",
       "    <tr>\n",
       "      <th>13</th>\n",
       "      <td>big yellow foundation</td>\n",
       "      <td>yellow foundation</td>\n",
       "      <td>year big yellow</td>\n",
       "      <td>big yellow construction</td>\n",
       "      <td>big yellow group</td>\n",
       "      <td>big yellow</td>\n",
       "      <td>yellow group plc</td>\n",
       "      <td>big yellows</td>\n",
       "      <td>charitable organizations</td>\n",
       "      <td>yellow construction</td>\n",
       "      <td>98</td>\n",
       "    </tr>\n",
       "    <tr>\n",
       "      <th>14</th>\n",
       "      <td>alexandria real estate</td>\n",
       "      <td>alexandrias corporate</td>\n",
       "      <td>alexandria real</td>\n",
       "      <td>alexandria</td>\n",
       "      <td>alexandrias</td>\n",
       "      <td>health safety performance</td>\n",
       "      <td>charitable organizations</td>\n",
       "      <td>health wellness</td>\n",
       "      <td>nonprofit organizations</td>\n",
       "      <td>big yellow construction</td>\n",
       "      <td>92</td>\n",
       "    </tr>\n",
       "    <tr>\n",
       "      <th>15</th>\n",
       "      <td>investor relations</td>\n",
       "      <td>customers investors</td>\n",
       "      <td>real estate investment</td>\n",
       "      <td>responsibility report environment</td>\n",
       "      <td>responsibility report environmental</td>\n",
       "      <td>corporate responsibility report</td>\n",
       "      <td>responsibility report corporate</td>\n",
       "      <td>estate investment</td>\n",
       "      <td>year big yellow</td>\n",
       "      <td>quarterly earnings calls</td>\n",
       "      <td>86</td>\n",
       "    </tr>\n",
       "    <tr>\n",
       "      <th>16</th>\n",
       "      <td>report environmental performance</td>\n",
       "      <td>report corporate overview</td>\n",
       "      <td>esg impact report</td>\n",
       "      <td>defining report content</td>\n",
       "      <td>report environmental stewardship</td>\n",
       "      <td>esg report environmental</td>\n",
       "      <td>impact report</td>\n",
       "      <td>report environment continued</td>\n",
       "      <td>report environmental</td>\n",
       "      <td>responsibility report environmental</td>\n",
       "      <td>85</td>\n",
       "    </tr>\n",
       "    <tr>\n",
       "      <th>17</th>\n",
       "      <td>code ethics business</td>\n",
       "      <td>ethics business conduct</td>\n",
       "      <td>code ethics</td>\n",
       "      <td>ethics business</td>\n",
       "      <td>ethical standards</td>\n",
       "      <td>ethics governance gri</td>\n",
       "      <td>code conduct</td>\n",
       "      <td>ethics governance environmental</td>\n",
       "      <td>responsibility ethics governance</td>\n",
       "      <td>ethics governance</td>\n",
       "      <td>79</td>\n",
       "    </tr>\n",
       "    <tr>\n",
       "      <th>18</th>\n",
       "      <td>waste recycling</td>\n",
       "      <td>waste landfill</td>\n",
       "      <td>recycling</td>\n",
       "      <td>waste management</td>\n",
       "      <td>store waste</td>\n",
       "      <td>construction waste</td>\n",
       "      <td>recycled</td>\n",
       "      <td>recycled content</td>\n",
       "      <td>waste</td>\n",
       "      <td>water waste</td>\n",
       "      <td>76</td>\n",
       "    </tr>\n",
       "    <tr>\n",
       "      <th>19</th>\n",
       "      <td>real estate sustainability</td>\n",
       "      <td>association real estate</td>\n",
       "      <td>global real estate</td>\n",
       "      <td>real estate association</td>\n",
       "      <td>industrial real estate</td>\n",
       "      <td>green building council</td>\n",
       "      <td>real estate company</td>\n",
       "      <td>real estate investment</td>\n",
       "      <td>estate sustainability benchmark</td>\n",
       "      <td>report environmental stewardship</td>\n",
       "      <td>73</td>\n",
       "    </tr>\n",
       "    <tr>\n",
       "      <th>20</th>\n",
       "      <td>risk management</td>\n",
       "      <td>climate change</td>\n",
       "      <td>risks opportunities</td>\n",
       "      <td>dangerous occurrences</td>\n",
       "      <td>evaluation management approach</td>\n",
       "      <td>extreme weather events</td>\n",
       "      <td>related risk</td>\n",
       "      <td>diseases dangerous occurrences</td>\n",
       "      <td>natural disasters</td>\n",
       "      <td>injuries diseases dangerous</td>\n",
       "      <td>70</td>\n",
       "    </tr>\n",
       "    <tr>\n",
       "      <th>21</th>\n",
       "      <td>training development</td>\n",
       "      <td>management team</td>\n",
       "      <td>career development</td>\n",
       "      <td>csr manager</td>\n",
       "      <td>development programme</td>\n",
       "      <td>learning development</td>\n",
       "      <td>manager</td>\n",
       "      <td>managers</td>\n",
       "      <td>senior management</td>\n",
       "      <td>time employees</td>\n",
       "      <td>67</td>\n",
       "    </tr>\n",
       "    <tr>\n",
       "      <th>22</th>\n",
       "      <td>number reportable injuries</td>\n",
       "      <td>minor injuries reportable</td>\n",
       "      <td>injuries number reportable</td>\n",
       "      <td>number minor injuries</td>\n",
       "      <td>injuries reportable injuries</td>\n",
       "      <td>minor injuries number</td>\n",
       "      <td>annual injury incidence</td>\n",
       "      <td>reportable injuries</td>\n",
       "      <td>reporting injuries</td>\n",
       "      <td>riddor reporting injuries</td>\n",
       "      <td>67</td>\n",
       "    </tr>\n",
       "    <tr>\n",
       "      <th>23</th>\n",
       "      <td>employee engagement survey</td>\n",
       "      <td>employee engagement</td>\n",
       "      <td>average number staff</td>\n",
       "      <td>time employees</td>\n",
       "      <td>number employees</td>\n",
       "      <td>year big yellow</td>\n",
       "      <td>management team</td>\n",
       "      <td>employee turnover</td>\n",
       "      <td>employees communities</td>\n",
       "      <td>quarterly earnings calls</td>\n",
       "      <td>64</td>\n",
       "    </tr>\n",
       "    <tr>\n",
       "      <th>24</th>\n",
       "      <td>time employees</td>\n",
       "      <td>number employees</td>\n",
       "      <td>average number staff</td>\n",
       "      <td>employee turnover</td>\n",
       "      <td>number staff</td>\n",
       "      <td>prologis employees</td>\n",
       "      <td>workforce</td>\n",
       "      <td>employee engagement</td>\n",
       "      <td>employees</td>\n",
       "      <td>male female</td>\n",
       "      <td>61</td>\n",
       "    </tr>\n",
       "    <tr>\n",
       "      <th>25</th>\n",
       "      <td>digital realty esg</td>\n",
       "      <td>digital realty</td>\n",
       "      <td>digital realtys</td>\n",
       "      <td>page digital realty</td>\n",
       "      <td>realty esg report</td>\n",
       "      <td>report environment continued</td>\n",
       "      <td>sustainability reporting</td>\n",
       "      <td>sustainability report</td>\n",
       "      <td>information environmental stewardship</td>\n",
       "      <td>corporate information environmental</td>\n",
       "      <td>60</td>\n",
       "    </tr>\n",
       "    <tr>\n",
       "      <th>26</th>\n",
       "      <td>staff health safety</td>\n",
       "      <td>time employees</td>\n",
       "      <td>staff health</td>\n",
       "      <td>volunteer hours</td>\n",
       "      <td>retirement</td>\n",
       "      <td>health safety performance</td>\n",
       "      <td>occupational health</td>\n",
       "      <td>prologis employees</td>\n",
       "      <td>year total</td>\n",
       "      <td>number employees</td>\n",
       "      <td>55</td>\n",
       "    </tr>\n",
       "    <tr>\n",
       "      <th>27</th>\n",
       "      <td>real estate investment</td>\n",
       "      <td>estate investment</td>\n",
       "      <td>real estate equities</td>\n",
       "      <td>property management</td>\n",
       "      <td>real estate company</td>\n",
       "      <td>industrial real estate</td>\n",
       "      <td>global real estate</td>\n",
       "      <td>investor relations</td>\n",
       "      <td>assets management</td>\n",
       "      <td>association real estate</td>\n",
       "      <td>52</td>\n",
       "    </tr>\n",
       "    <tr>\n",
       "      <th>28</th>\n",
       "      <td>energy use carbon</td>\n",
       "      <td>energy carbon</td>\n",
       "      <td>total energy use</td>\n",
       "      <td>energy use kwh</td>\n",
       "      <td>carbon dioxide emissions</td>\n",
       "      <td>carbon emissions</td>\n",
       "      <td>use carbon emissions</td>\n",
       "      <td>greenhouse gas emissions</td>\n",
       "      <td>emissions carbon</td>\n",
       "      <td>total carbon</td>\n",
       "      <td>45</td>\n",
       "    </tr>\n",
       "    <tr>\n",
       "      <th>29</th>\n",
       "      <td>global reporting</td>\n",
       "      <td>global provider</td>\n",
       "      <td>global real estate</td>\n",
       "      <td>business excellence global</td>\n",
       "      <td>corporate responsibility report</td>\n",
       "      <td>responsibility report corporate</td>\n",
       "      <td>global portfolio</td>\n",
       "      <td>leading global</td>\n",
       "      <td>report corporate overview</td>\n",
       "      <td>report corporate</td>\n",
       "      <td>44</td>\n",
       "    </tr>\n",
       "    <tr>\n",
       "      <th>30</th>\n",
       "      <td>green roof</td>\n",
       "      <td>green roofs</td>\n",
       "      <td>rooftop solar</td>\n",
       "      <td>rooftop solar installations</td>\n",
       "      <td>green building council</td>\n",
       "      <td>green building</td>\n",
       "      <td>high wycombe</td>\n",
       "      <td>energy efficient lighting</td>\n",
       "      <td>energy performance certificates</td>\n",
       "      <td>solar energy</td>\n",
       "      <td>43</td>\n",
       "    </tr>\n",
       "    <tr>\n",
       "      <th>31</th>\n",
       "      <td>natural disasters</td>\n",
       "      <td>emergency response</td>\n",
       "      <td>construction waste</td>\n",
       "      <td>disasters</td>\n",
       "      <td>building design</td>\n",
       "      <td>design construction</td>\n",
       "      <td>big yellow construction</td>\n",
       "      <td>construction materials</td>\n",
       "      <td>considerate constructors scheme</td>\n",
       "      <td>construction sites</td>\n",
       "      <td>43</td>\n",
       "    </tr>\n",
       "    <tr>\n",
       "      <th>32</th>\n",
       "      <td>discrimination</td>\n",
       "      <td>employment type</td>\n",
       "      <td>prologis employees</td>\n",
       "      <td>time employees</td>\n",
       "      <td>hire</td>\n",
       "      <td>equal opportunity</td>\n",
       "      <td>workforce</td>\n",
       "      <td>number employees</td>\n",
       "      <td>employee engagement survey</td>\n",
       "      <td>employee turnover</td>\n",
       "      <td>41</td>\n",
       "    </tr>\n",
       "    <tr>\n",
       "      <th>33</th>\n",
       "      <td>health safety committee</td>\n",
       "      <td>staff health safety</td>\n",
       "      <td>health safety performance</td>\n",
       "      <td>health safety</td>\n",
       "      <td>visitor health safety</td>\n",
       "      <td>safety committee</td>\n",
       "      <td>big yellow construction</td>\n",
       "      <td>yellow construction</td>\n",
       "      <td>assurance report</td>\n",
       "      <td>staff health</td>\n",
       "      <td>36</td>\n",
       "    </tr>\n",
       "    <tr>\n",
       "      <th>34</th>\n",
       "      <td>information security</td>\n",
       "      <td>staff health safety</td>\n",
       "      <td>cybersecurity</td>\n",
       "      <td>security</td>\n",
       "      <td>safety performance</td>\n",
       "      <td>health safety performance</td>\n",
       "      <td>safe</td>\n",
       "      <td>health safety</td>\n",
       "      <td>safety</td>\n",
       "      <td>level assurance</td>\n",
       "      <td>33</td>\n",
       "    </tr>\n",
       "    <tr>\n",
       "      <th>35</th>\n",
       "      <td>waste recycling</td>\n",
       "      <td>recycled content</td>\n",
       "      <td>recycling</td>\n",
       "      <td>recycled</td>\n",
       "      <td>waste landfill</td>\n",
       "      <td>packaging</td>\n",
       "      <td>reduce environmental</td>\n",
       "      <td>corporate overview environmental</td>\n",
       "      <td>report environmental</td>\n",
       "      <td>responsibility report environmental</td>\n",
       "      <td>30</td>\n",
       "    </tr>\n",
       "  </tbody>\n",
       "</table>\n",
       "</div>"
      ],
      "text/plain": [
       "                                      0                                 1  \\\n",
       "0                     energy use carbon                     energy carbon   \n",
       "1   responsibility report environmental      responsibility environmental   \n",
       "2                     energy use carbon              use carbon emissions   \n",
       "3             energy efficient lighting              energy efficient led   \n",
       "4                           water waste                energy water waste   \n",
       "5              charitable organizations           nonprofit organizations   \n",
       "6          independent assurance report                  assurance report   \n",
       "7                   yellow self storage                   year big yellow   \n",
       "8   sustainable building certifications           building certifications   \n",
       "9                       risk management    evaluation management approach   \n",
       "10     report environmental performance  report environmental stewardship   \n",
       "11     report environmental performance      report environment continued   \n",
       "12          rooftop solar installations                     rooftop solar   \n",
       "13                big yellow foundation                 yellow foundation   \n",
       "14               alexandria real estate             alexandrias corporate   \n",
       "15                   investor relations               customers investors   \n",
       "16     report environmental performance         report corporate overview   \n",
       "17                 code ethics business           ethics business conduct   \n",
       "18                      waste recycling                    waste landfill   \n",
       "19           real estate sustainability           association real estate   \n",
       "20                      risk management                    climate change   \n",
       "21                 training development                   management team   \n",
       "22           number reportable injuries         minor injuries reportable   \n",
       "23           employee engagement survey               employee engagement   \n",
       "24                       time employees                  number employees   \n",
       "25                   digital realty esg                    digital realty   \n",
       "26                  staff health safety                    time employees   \n",
       "27               real estate investment                 estate investment   \n",
       "28                    energy use carbon                     energy carbon   \n",
       "29                     global reporting                   global provider   \n",
       "30                           green roof                       green roofs   \n",
       "31                    natural disasters                emergency response   \n",
       "32                       discrimination                   employment type   \n",
       "33              health safety committee               staff health safety   \n",
       "34                 information security               staff health safety   \n",
       "35                      waste recycling                  recycled content   \n",
       "\n",
       "                                   2                                  3  \\\n",
       "0                     energy savings               use carbon emissions   \n",
       "1   environmental stewardship social  responsibility report environment   \n",
       "2           carbon dioxide emissions                   carbon pollution   \n",
       "3       renewable energy initiatives                  energy efficiency   \n",
       "4                 water conservation                        water usage   \n",
       "5                         volunteers                       volunteering   \n",
       "6    responsibility report continued             data reviewed deloitte   \n",
       "7                   yellow group plc                   big yellow group   \n",
       "8                     green building                 leed certification   \n",
       "9              evaluation management                   board governance   \n",
       "10    evaluation management approach            defining report content   \n",
       "11          esg report environmental   report environmental stewardship   \n",
       "12      solar electricity generation                       solar energy   \n",
       "13                   year big yellow            big yellow construction   \n",
       "14                   alexandria real                         alexandria   \n",
       "15            real estate investment  responsibility report environment   \n",
       "16                 esg impact report            defining report content   \n",
       "17                       code ethics                    ethics business   \n",
       "18                         recycling                   waste management   \n",
       "19                global real estate            real estate association   \n",
       "20               risks opportunities              dangerous occurrences   \n",
       "21                career development                        csr manager   \n",
       "22        injuries number reportable              number minor injuries   \n",
       "23              average number staff                     time employees   \n",
       "24              average number staff                  employee turnover   \n",
       "25                   digital realtys                page digital realty   \n",
       "26                      staff health                    volunteer hours   \n",
       "27              real estate equities                property management   \n",
       "28                  total energy use                     energy use kwh   \n",
       "29                global real estate         business excellence global   \n",
       "30                     rooftop solar        rooftop solar installations   \n",
       "31                construction waste                          disasters   \n",
       "32                prologis employees                     time employees   \n",
       "33         health safety performance                      health safety   \n",
       "34                     cybersecurity                           security   \n",
       "35                         recycling                           recycled   \n",
       "\n",
       "                                      4                                    5  \\\n",
       "0                        energy use kwh                   energy consumption   \n",
       "1       corporate social responsibility     corporate overview environmental   \n",
       "2                         energy carbon                     carbon emissions   \n",
       "3                      energy efficient                     renewable energy   \n",
       "4                      water efficiency                            water use   \n",
       "5                             donations                      volunteer hours   \n",
       "6       corporate responsibility report       prologis sustainability report   \n",
       "7                       big yellow self                           big yellow   \n",
       "8       energy performance certificates                       leed certified   \n",
       "9                       board directors       management approach components   \n",
       "10             esg report environmental    responsibility report environment   \n",
       "11                 report environmental  responsibility report environmental   \n",
       "12                    solar electricity                  solar installations   \n",
       "13                     big yellow group                           big yellow   \n",
       "14                          alexandrias            health safety performance   \n",
       "15  responsibility report environmental      corporate responsibility report   \n",
       "16     report environmental stewardship             esg report environmental   \n",
       "17                    ethical standards                ethics governance gri   \n",
       "18                          store waste                   construction waste   \n",
       "19               industrial real estate               green building council   \n",
       "20       evaluation management approach               extreme weather events   \n",
       "21                development programme                 learning development   \n",
       "22         injuries reportable injuries                minor injuries number   \n",
       "23                     number employees                      year big yellow   \n",
       "24                         number staff                   prologis employees   \n",
       "25                    realty esg report         report environment continued   \n",
       "26                           retirement            health safety performance   \n",
       "27                  real estate company               industrial real estate   \n",
       "28             carbon dioxide emissions                     carbon emissions   \n",
       "29      corporate responsibility report      responsibility report corporate   \n",
       "30               green building council                       green building   \n",
       "31                      building design                  design construction   \n",
       "32                                 hire                    equal opportunity   \n",
       "33                visitor health safety                     safety committee   \n",
       "34                   safety performance            health safety performance   \n",
       "35                       waste landfill                            packaging   \n",
       "\n",
       "                                      6                                 7  \\\n",
       "0             energy efficient lighting             store electricity use   \n",
       "1          social responsibility ethics   environmental social governance   \n",
       "2                      emissions carbon                   carbon emission   \n",
       "3                     energy use carbon       renewable energy generation   \n",
       "4                       waste recycling                 water consumption   \n",
       "5                              donation                         charities   \n",
       "6       responsibility report corporate             sustainability report   \n",
       "7               big yellow construction             big yellow foundation   \n",
       "8                green building council                        green roof   \n",
       "9                           csr manager       board governance nomination   \n",
       "10  responsibility report environmental              report environmental   \n",
       "11    responsibility report environment                report environment   \n",
       "12                         solar panels                  solar generation   \n",
       "13                     yellow group plc                       big yellows   \n",
       "14             charitable organizations                   health wellness   \n",
       "15      responsibility report corporate                 estate investment   \n",
       "16                        impact report      report environment continued   \n",
       "17                         code conduct   ethics governance environmental   \n",
       "18                             recycled                  recycled content   \n",
       "19                  real estate company            real estate investment   \n",
       "20                         related risk    diseases dangerous occurrences   \n",
       "21                              manager                          managers   \n",
       "22              annual injury incidence               reportable injuries   \n",
       "23                      management team                 employee turnover   \n",
       "24                            workforce               employee engagement   \n",
       "25             sustainability reporting             sustainability report   \n",
       "26                  occupational health                prologis employees   \n",
       "27                   global real estate                investor relations   \n",
       "28                 use carbon emissions          greenhouse gas emissions   \n",
       "29                     global portfolio                    leading global   \n",
       "30                         high wycombe         energy efficient lighting   \n",
       "31              big yellow construction            construction materials   \n",
       "32                            workforce                  number employees   \n",
       "33              big yellow construction               yellow construction   \n",
       "34                                 safe                     health safety   \n",
       "35                 reduce environmental  corporate overview environmental   \n",
       "\n",
       "                                        8  \\\n",
       "0                            energy usage   \n",
       "1      environmental stewardship approach   \n",
       "2                           reduce carbon   \n",
       "3                          energy savings   \n",
       "4                        waste management   \n",
       "5                            volunteerism   \n",
       "6                          report content   \n",
       "7                        march big yellow   \n",
       "8                    sustainable building   \n",
       "9                       senior management   \n",
       "10                   management reporting   \n",
       "11    corporate information environmental   \n",
       "12                               solar pv   \n",
       "13               charitable organizations   \n",
       "14                nonprofit organizations   \n",
       "15                        year big yellow   \n",
       "16                   report environmental   \n",
       "17       responsibility ethics governance   \n",
       "18                                  waste   \n",
       "19        estate sustainability benchmark   \n",
       "20                      natural disasters   \n",
       "21                      senior management   \n",
       "22                     reporting injuries   \n",
       "23                  employees communities   \n",
       "24                              employees   \n",
       "25  information environmental stewardship   \n",
       "26                             year total   \n",
       "27                      assets management   \n",
       "28                       emissions carbon   \n",
       "29              report corporate overview   \n",
       "30        energy performance certificates   \n",
       "31        considerate constructors scheme   \n",
       "32             employee engagement survey   \n",
       "33                       assurance report   \n",
       "34                                 safety   \n",
       "35                   report environmental   \n",
       "\n",
       "                                      9  size  \n",
       "0                         reduce energy   324  \n",
       "1       ethics governance environmental   260  \n",
       "2            corporate carbon footprint   208  \n",
       "3                       building energy   194  \n",
       "4              environmental management   174  \n",
       "5                             volunteer   154  \n",
       "6          report environment continued   147  \n",
       "7                           big yellows   146  \n",
       "8              performance certificates   134  \n",
       "9                       management team   121  \n",
       "10                   report environment   120  \n",
       "11                           csr report   112  \n",
       "12                             mw solar   106  \n",
       "13                  yellow construction    98  \n",
       "14              big yellow construction    92  \n",
       "15             quarterly earnings calls    86  \n",
       "16  responsibility report environmental    85  \n",
       "17                    ethics governance    79  \n",
       "18                          water waste    76  \n",
       "19     report environmental stewardship    73  \n",
       "20          injuries diseases dangerous    70  \n",
       "21                       time employees    67  \n",
       "22            riddor reporting injuries    67  \n",
       "23             quarterly earnings calls    64  \n",
       "24                          male female    61  \n",
       "25  corporate information environmental    60  \n",
       "26                     number employees    55  \n",
       "27              association real estate    52  \n",
       "28                         total carbon    45  \n",
       "29                     report corporate    44  \n",
       "30                         solar energy    43  \n",
       "31                   construction sites    43  \n",
       "32                    employee turnover    41  \n",
       "33                         staff health    36  \n",
       "34                      level assurance    33  \n",
       "35  responsibility report environmental    30  "
      ]
     },
     "execution_count": 12,
     "metadata": {},
     "output_type": "execute_result"
    }
   ],
   "source": [
    "topics_top2Vec = pd.DataFrame(topic_words).iloc[:,0:10]\n",
    "topics_top2Vec[\"size\"] = topic_sizes\n",
    "topics_top2Vec"
   ]
  },
  {
   "cell_type": "markdown",
   "metadata": {},
   "source": [
    "## Key word / sentence topic loading"
   ]
  },
  {
   "cell_type": "code",
   "execution_count": 13,
   "metadata": {},
   "outputs": [],
   "source": [
    "keyword_embed = model_distilBert.embed([\"volunteering\"])\n",
    "res = cosine_similarity(keyword_embed, model_distilBert.topic_vectors)"
   ]
  },
  {
   "cell_type": "code",
   "execution_count": 14,
   "metadata": {},
   "outputs": [],
   "source": [
    "scores = pd.DataFrame(res, index=[\"Cosine similiarity\"]).T\n",
    "scores[\"Topic\"] = list(range(0,len(scores)))"
   ]
  },
  {
   "cell_type": "code",
   "execution_count": 15,
   "metadata": {},
   "outputs": [],
   "source": [
    "scores[\"Top words\"] = scores[\"Topic\"].apply(lambda x: list(topics_top2Vec.iloc[x,0:3]))"
   ]
  },
  {
   "cell_type": "code",
   "execution_count": 16,
   "metadata": {
    "scrolled": true
   },
   "outputs": [
    {
     "data": {
      "text/html": [
       "<div>\n",
       "<style scoped>\n",
       "    .dataframe tbody tr th:only-of-type {\n",
       "        vertical-align: middle;\n",
       "    }\n",
       "\n",
       "    .dataframe tbody tr th {\n",
       "        vertical-align: top;\n",
       "    }\n",
       "\n",
       "    .dataframe thead th {\n",
       "        text-align: right;\n",
       "    }\n",
       "</style>\n",
       "<table border=\"1\" class=\"dataframe\">\n",
       "  <thead>\n",
       "    <tr style=\"text-align: right;\">\n",
       "      <th></th>\n",
       "      <th>Cosine similiarity</th>\n",
       "      <th>Topic</th>\n",
       "      <th>Top words</th>\n",
       "    </tr>\n",
       "  </thead>\n",
       "  <tbody>\n",
       "    <tr>\n",
       "      <th>5</th>\n",
       "      <td>0.337535</td>\n",
       "      <td>5</td>\n",
       "      <td>[charitable organizations, nonprofit organizat...</td>\n",
       "    </tr>\n",
       "    <tr>\n",
       "      <th>13</th>\n",
       "      <td>0.279354</td>\n",
       "      <td>13</td>\n",
       "      <td>[big yellow foundation, yellow foundation, yea...</td>\n",
       "    </tr>\n",
       "    <tr>\n",
       "      <th>14</th>\n",
       "      <td>0.068916</td>\n",
       "      <td>14</td>\n",
       "      <td>[alexandria real estate, alexandrias corporate...</td>\n",
       "    </tr>\n",
       "    <tr>\n",
       "      <th>21</th>\n",
       "      <td>0.012114</td>\n",
       "      <td>21</td>\n",
       "      <td>[training development, management team, career...</td>\n",
       "    </tr>\n",
       "    <tr>\n",
       "      <th>23</th>\n",
       "      <td>0.000430</td>\n",
       "      <td>23</td>\n",
       "      <td>[employee engagement survey, employee engageme...</td>\n",
       "    </tr>\n",
       "    <tr>\n",
       "      <th>26</th>\n",
       "      <td>-0.001504</td>\n",
       "      <td>26</td>\n",
       "      <td>[staff health safety, time employees, staff he...</td>\n",
       "    </tr>\n",
       "    <tr>\n",
       "      <th>19</th>\n",
       "      <td>-0.017332</td>\n",
       "      <td>19</td>\n",
       "      <td>[real estate sustainability, association real ...</td>\n",
       "    </tr>\n",
       "    <tr>\n",
       "      <th>32</th>\n",
       "      <td>-0.018503</td>\n",
       "      <td>32</td>\n",
       "      <td>[discrimination, employment type, prologis emp...</td>\n",
       "    </tr>\n",
       "    <tr>\n",
       "      <th>7</th>\n",
       "      <td>-0.022055</td>\n",
       "      <td>7</td>\n",
       "      <td>[yellow self storage, year big yellow, yellow ...</td>\n",
       "    </tr>\n",
       "    <tr>\n",
       "      <th>12</th>\n",
       "      <td>-0.024034</td>\n",
       "      <td>12</td>\n",
       "      <td>[rooftop solar installations, rooftop solar, s...</td>\n",
       "    </tr>\n",
       "  </tbody>\n",
       "</table>\n",
       "</div>"
      ],
      "text/plain": [
       "    Cosine similiarity  Topic  \\\n",
       "5             0.337535      5   \n",
       "13            0.279354     13   \n",
       "14            0.068916     14   \n",
       "21            0.012114     21   \n",
       "23            0.000430     23   \n",
       "26           -0.001504     26   \n",
       "19           -0.017332     19   \n",
       "32           -0.018503     32   \n",
       "7            -0.022055      7   \n",
       "12           -0.024034     12   \n",
       "\n",
       "                                            Top words  \n",
       "5   [charitable organizations, nonprofit organizat...  \n",
       "13  [big yellow foundation, yellow foundation, yea...  \n",
       "14  [alexandria real estate, alexandrias corporate...  \n",
       "21  [training development, management team, career...  \n",
       "23  [employee engagement survey, employee engageme...  \n",
       "26  [staff health safety, time employees, staff he...  \n",
       "19  [real estate sustainability, association real ...  \n",
       "32  [discrimination, employment type, prologis emp...  \n",
       "7   [yellow self storage, year big yellow, yellow ...  \n",
       "12  [rooftop solar installations, rooftop solar, s...  "
      ]
     },
     "execution_count": 16,
     "metadata": {},
     "output_type": "execute_result"
    }
   ],
   "source": [
    "scores.sort_values(by=\"Cosine similiarity\", ascending=False, inplace=True)\n",
    "scores.head(10)"
   ]
  },
  {
   "cell_type": "code",
   "execution_count": 101,
   "metadata": {
    "scrolled": false
   },
   "outputs": [
    {
     "data": {
      "application/vnd.plotly.v1+json": {
       "config": {
        "plotlyServerURL": "https://plot.ly"
       },
       "data": [
        {
         "alignmentgroup": "True",
         "hovertemplate": "Topic=%{x}<br>Cosine similiarity=%{y}<br>Top words=%{text}<extra></extra>",
         "legendgroup": "",
         "marker": {
          "color": "#636efa"
         },
         "name": "",
         "offsetgroup": "",
         "orientation": "v",
         "showlegend": false,
         "text": [
          [
           "charitable organizations",
           "nonprofit organizations",
           "volunteers"
          ],
          [
           "big yellow foundation",
           "yellow foundation",
           "year big yellow"
          ],
          [
           "alexandria real estate",
           "alexandrias corporate",
           "alexandria real"
          ],
          [
           "training development",
           "management team",
           "career development"
          ],
          [
           "employee engagement survey",
           "employee engagement",
           "average number staff"
          ],
          [
           "staff health safety",
           "time employees",
           "staff health"
          ],
          [
           "real estate sustainability",
           "association real estate",
           "global real estate"
          ],
          [
           "discrimination",
           "employment type",
           "prologis employees"
          ],
          [
           "yellow self storage",
           "year big yellow",
           "yellow group plc"
          ],
          [
           "rooftop solar installations",
           "rooftop solar",
           "solar electricity generation"
          ]
         ],
         "textposition": "auto",
         "type": "bar",
         "x": [
          5,
          13,
          14,
          21,
          23,
          26,
          19,
          32,
          7,
          12
         ],
         "xaxis": "x",
         "y": [
          0.3375348448753357,
          0.2793542742729187,
          0.0689157173037529,
          0.012114227749407291,
          0.00043007079511880875,
          -0.0015044622123241425,
          -0.017332404851913452,
          -0.018503494560718536,
          -0.022054538130760193,
          -0.02403426729142666
         ],
         "yaxis": "y"
        }
       ],
       "layout": {
        "barmode": "relative",
        "legend": {
         "tracegroupgap": 0
        },
        "template": {
         "data": {
          "bar": [
           {
            "error_x": {
             "color": "#2a3f5f"
            },
            "error_y": {
             "color": "#2a3f5f"
            },
            "marker": {
             "line": {
              "color": "#E5ECF6",
              "width": 0.5
             }
            },
            "type": "bar"
           }
          ],
          "barpolar": [
           {
            "marker": {
             "line": {
              "color": "#E5ECF6",
              "width": 0.5
             }
            },
            "type": "barpolar"
           }
          ],
          "carpet": [
           {
            "aaxis": {
             "endlinecolor": "#2a3f5f",
             "gridcolor": "white",
             "linecolor": "white",
             "minorgridcolor": "white",
             "startlinecolor": "#2a3f5f"
            },
            "baxis": {
             "endlinecolor": "#2a3f5f",
             "gridcolor": "white",
             "linecolor": "white",
             "minorgridcolor": "white",
             "startlinecolor": "#2a3f5f"
            },
            "type": "carpet"
           }
          ],
          "choropleth": [
           {
            "colorbar": {
             "outlinewidth": 0,
             "ticks": ""
            },
            "type": "choropleth"
           }
          ],
          "contour": [
           {
            "colorbar": {
             "outlinewidth": 0,
             "ticks": ""
            },
            "colorscale": [
             [
              0,
              "#0d0887"
             ],
             [
              0.1111111111111111,
              "#46039f"
             ],
             [
              0.2222222222222222,
              "#7201a8"
             ],
             [
              0.3333333333333333,
              "#9c179e"
             ],
             [
              0.4444444444444444,
              "#bd3786"
             ],
             [
              0.5555555555555556,
              "#d8576b"
             ],
             [
              0.6666666666666666,
              "#ed7953"
             ],
             [
              0.7777777777777778,
              "#fb9f3a"
             ],
             [
              0.8888888888888888,
              "#fdca26"
             ],
             [
              1,
              "#f0f921"
             ]
            ],
            "type": "contour"
           }
          ],
          "contourcarpet": [
           {
            "colorbar": {
             "outlinewidth": 0,
             "ticks": ""
            },
            "type": "contourcarpet"
           }
          ],
          "heatmap": [
           {
            "colorbar": {
             "outlinewidth": 0,
             "ticks": ""
            },
            "colorscale": [
             [
              0,
              "#0d0887"
             ],
             [
              0.1111111111111111,
              "#46039f"
             ],
             [
              0.2222222222222222,
              "#7201a8"
             ],
             [
              0.3333333333333333,
              "#9c179e"
             ],
             [
              0.4444444444444444,
              "#bd3786"
             ],
             [
              0.5555555555555556,
              "#d8576b"
             ],
             [
              0.6666666666666666,
              "#ed7953"
             ],
             [
              0.7777777777777778,
              "#fb9f3a"
             ],
             [
              0.8888888888888888,
              "#fdca26"
             ],
             [
              1,
              "#f0f921"
             ]
            ],
            "type": "heatmap"
           }
          ],
          "heatmapgl": [
           {
            "colorbar": {
             "outlinewidth": 0,
             "ticks": ""
            },
            "colorscale": [
             [
              0,
              "#0d0887"
             ],
             [
              0.1111111111111111,
              "#46039f"
             ],
             [
              0.2222222222222222,
              "#7201a8"
             ],
             [
              0.3333333333333333,
              "#9c179e"
             ],
             [
              0.4444444444444444,
              "#bd3786"
             ],
             [
              0.5555555555555556,
              "#d8576b"
             ],
             [
              0.6666666666666666,
              "#ed7953"
             ],
             [
              0.7777777777777778,
              "#fb9f3a"
             ],
             [
              0.8888888888888888,
              "#fdca26"
             ],
             [
              1,
              "#f0f921"
             ]
            ],
            "type": "heatmapgl"
           }
          ],
          "histogram": [
           {
            "marker": {
             "colorbar": {
              "outlinewidth": 0,
              "ticks": ""
             }
            },
            "type": "histogram"
           }
          ],
          "histogram2d": [
           {
            "colorbar": {
             "outlinewidth": 0,
             "ticks": ""
            },
            "colorscale": [
             [
              0,
              "#0d0887"
             ],
             [
              0.1111111111111111,
              "#46039f"
             ],
             [
              0.2222222222222222,
              "#7201a8"
             ],
             [
              0.3333333333333333,
              "#9c179e"
             ],
             [
              0.4444444444444444,
              "#bd3786"
             ],
             [
              0.5555555555555556,
              "#d8576b"
             ],
             [
              0.6666666666666666,
              "#ed7953"
             ],
             [
              0.7777777777777778,
              "#fb9f3a"
             ],
             [
              0.8888888888888888,
              "#fdca26"
             ],
             [
              1,
              "#f0f921"
             ]
            ],
            "type": "histogram2d"
           }
          ],
          "histogram2dcontour": [
           {
            "colorbar": {
             "outlinewidth": 0,
             "ticks": ""
            },
            "colorscale": [
             [
              0,
              "#0d0887"
             ],
             [
              0.1111111111111111,
              "#46039f"
             ],
             [
              0.2222222222222222,
              "#7201a8"
             ],
             [
              0.3333333333333333,
              "#9c179e"
             ],
             [
              0.4444444444444444,
              "#bd3786"
             ],
             [
              0.5555555555555556,
              "#d8576b"
             ],
             [
              0.6666666666666666,
              "#ed7953"
             ],
             [
              0.7777777777777778,
              "#fb9f3a"
             ],
             [
              0.8888888888888888,
              "#fdca26"
             ],
             [
              1,
              "#f0f921"
             ]
            ],
            "type": "histogram2dcontour"
           }
          ],
          "mesh3d": [
           {
            "colorbar": {
             "outlinewidth": 0,
             "ticks": ""
            },
            "type": "mesh3d"
           }
          ],
          "parcoords": [
           {
            "line": {
             "colorbar": {
              "outlinewidth": 0,
              "ticks": ""
             }
            },
            "type": "parcoords"
           }
          ],
          "pie": [
           {
            "automargin": true,
            "type": "pie"
           }
          ],
          "scatter": [
           {
            "marker": {
             "colorbar": {
              "outlinewidth": 0,
              "ticks": ""
             }
            },
            "type": "scatter"
           }
          ],
          "scatter3d": [
           {
            "line": {
             "colorbar": {
              "outlinewidth": 0,
              "ticks": ""
             }
            },
            "marker": {
             "colorbar": {
              "outlinewidth": 0,
              "ticks": ""
             }
            },
            "type": "scatter3d"
           }
          ],
          "scattercarpet": [
           {
            "marker": {
             "colorbar": {
              "outlinewidth": 0,
              "ticks": ""
             }
            },
            "type": "scattercarpet"
           }
          ],
          "scattergeo": [
           {
            "marker": {
             "colorbar": {
              "outlinewidth": 0,
              "ticks": ""
             }
            },
            "type": "scattergeo"
           }
          ],
          "scattergl": [
           {
            "marker": {
             "colorbar": {
              "outlinewidth": 0,
              "ticks": ""
             }
            },
            "type": "scattergl"
           }
          ],
          "scattermapbox": [
           {
            "marker": {
             "colorbar": {
              "outlinewidth": 0,
              "ticks": ""
             }
            },
            "type": "scattermapbox"
           }
          ],
          "scatterpolar": [
           {
            "marker": {
             "colorbar": {
              "outlinewidth": 0,
              "ticks": ""
             }
            },
            "type": "scatterpolar"
           }
          ],
          "scatterpolargl": [
           {
            "marker": {
             "colorbar": {
              "outlinewidth": 0,
              "ticks": ""
             }
            },
            "type": "scatterpolargl"
           }
          ],
          "scatterternary": [
           {
            "marker": {
             "colorbar": {
              "outlinewidth": 0,
              "ticks": ""
             }
            },
            "type": "scatterternary"
           }
          ],
          "surface": [
           {
            "colorbar": {
             "outlinewidth": 0,
             "ticks": ""
            },
            "colorscale": [
             [
              0,
              "#0d0887"
             ],
             [
              0.1111111111111111,
              "#46039f"
             ],
             [
              0.2222222222222222,
              "#7201a8"
             ],
             [
              0.3333333333333333,
              "#9c179e"
             ],
             [
              0.4444444444444444,
              "#bd3786"
             ],
             [
              0.5555555555555556,
              "#d8576b"
             ],
             [
              0.6666666666666666,
              "#ed7953"
             ],
             [
              0.7777777777777778,
              "#fb9f3a"
             ],
             [
              0.8888888888888888,
              "#fdca26"
             ],
             [
              1,
              "#f0f921"
             ]
            ],
            "type": "surface"
           }
          ],
          "table": [
           {
            "cells": {
             "fill": {
              "color": "#EBF0F8"
             },
             "line": {
              "color": "white"
             }
            },
            "header": {
             "fill": {
              "color": "#C8D4E3"
             },
             "line": {
              "color": "white"
             }
            },
            "type": "table"
           }
          ]
         },
         "layout": {
          "annotationdefaults": {
           "arrowcolor": "#2a3f5f",
           "arrowhead": 0,
           "arrowwidth": 1
          },
          "coloraxis": {
           "colorbar": {
            "outlinewidth": 0,
            "ticks": ""
           }
          },
          "colorscale": {
           "diverging": [
            [
             0,
             "#8e0152"
            ],
            [
             0.1,
             "#c51b7d"
            ],
            [
             0.2,
             "#de77ae"
            ],
            [
             0.3,
             "#f1b6da"
            ],
            [
             0.4,
             "#fde0ef"
            ],
            [
             0.5,
             "#f7f7f7"
            ],
            [
             0.6,
             "#e6f5d0"
            ],
            [
             0.7,
             "#b8e186"
            ],
            [
             0.8,
             "#7fbc41"
            ],
            [
             0.9,
             "#4d9221"
            ],
            [
             1,
             "#276419"
            ]
           ],
           "sequential": [
            [
             0,
             "#0d0887"
            ],
            [
             0.1111111111111111,
             "#46039f"
            ],
            [
             0.2222222222222222,
             "#7201a8"
            ],
            [
             0.3333333333333333,
             "#9c179e"
            ],
            [
             0.4444444444444444,
             "#bd3786"
            ],
            [
             0.5555555555555556,
             "#d8576b"
            ],
            [
             0.6666666666666666,
             "#ed7953"
            ],
            [
             0.7777777777777778,
             "#fb9f3a"
            ],
            [
             0.8888888888888888,
             "#fdca26"
            ],
            [
             1,
             "#f0f921"
            ]
           ],
           "sequentialminus": [
            [
             0,
             "#0d0887"
            ],
            [
             0.1111111111111111,
             "#46039f"
            ],
            [
             0.2222222222222222,
             "#7201a8"
            ],
            [
             0.3333333333333333,
             "#9c179e"
            ],
            [
             0.4444444444444444,
             "#bd3786"
            ],
            [
             0.5555555555555556,
             "#d8576b"
            ],
            [
             0.6666666666666666,
             "#ed7953"
            ],
            [
             0.7777777777777778,
             "#fb9f3a"
            ],
            [
             0.8888888888888888,
             "#fdca26"
            ],
            [
             1,
             "#f0f921"
            ]
           ]
          },
          "colorway": [
           "#636efa",
           "#EF553B",
           "#00cc96",
           "#ab63fa",
           "#FFA15A",
           "#19d3f3",
           "#FF6692",
           "#B6E880",
           "#FF97FF",
           "#FECB52"
          ],
          "font": {
           "color": "#2a3f5f"
          },
          "geo": {
           "bgcolor": "white",
           "lakecolor": "white",
           "landcolor": "#E5ECF6",
           "showlakes": true,
           "showland": true,
           "subunitcolor": "white"
          },
          "hoverlabel": {
           "align": "left"
          },
          "hovermode": "closest",
          "mapbox": {
           "style": "light"
          },
          "paper_bgcolor": "white",
          "plot_bgcolor": "#E5ECF6",
          "polar": {
           "angularaxis": {
            "gridcolor": "white",
            "linecolor": "white",
            "ticks": ""
           },
           "bgcolor": "#E5ECF6",
           "radialaxis": {
            "gridcolor": "white",
            "linecolor": "white",
            "ticks": ""
           }
          },
          "scene": {
           "xaxis": {
            "backgroundcolor": "#E5ECF6",
            "gridcolor": "white",
            "gridwidth": 2,
            "linecolor": "white",
            "showbackground": true,
            "ticks": "",
            "zerolinecolor": "white"
           },
           "yaxis": {
            "backgroundcolor": "#E5ECF6",
            "gridcolor": "white",
            "gridwidth": 2,
            "linecolor": "white",
            "showbackground": true,
            "ticks": "",
            "zerolinecolor": "white"
           },
           "zaxis": {
            "backgroundcolor": "#E5ECF6",
            "gridcolor": "white",
            "gridwidth": 2,
            "linecolor": "white",
            "showbackground": true,
            "ticks": "",
            "zerolinecolor": "white"
           }
          },
          "shapedefaults": {
           "line": {
            "color": "#2a3f5f"
           }
          },
          "ternary": {
           "aaxis": {
            "gridcolor": "white",
            "linecolor": "white",
            "ticks": ""
           },
           "baxis": {
            "gridcolor": "white",
            "linecolor": "white",
            "ticks": ""
           },
           "bgcolor": "#E5ECF6",
           "caxis": {
            "gridcolor": "white",
            "linecolor": "white",
            "ticks": ""
           }
          },
          "title": {
           "x": 0.05
          },
          "xaxis": {
           "automargin": true,
           "gridcolor": "white",
           "linecolor": "white",
           "ticks": "",
           "title": {
            "standoff": 15
           },
           "zerolinecolor": "white",
           "zerolinewidth": 2
          },
          "yaxis": {
           "automargin": true,
           "gridcolor": "white",
           "linecolor": "white",
           "ticks": "",
           "title": {
            "standoff": 15
           },
           "zerolinecolor": "white",
           "zerolinewidth": 2
          }
         }
        },
        "title": {
         "text": "10 highest topic loadings"
        },
        "xaxis": {
         "anchor": "y",
         "domain": [
          0,
          1
         ],
         "title": {
          "text": "Topic number"
         },
         "type": "category"
        },
        "yaxis": {
         "anchor": "x",
         "domain": [
          0,
          1
         ],
         "title": {
          "text": "Cosine similiarity"
         }
        }
       }
      },
      "text/html": [
       "<div>                            <div id=\"ce482f82-6449-4719-80fd-9c6d0aa06799\" class=\"plotly-graph-div\" style=\"height:525px; width:100%;\"></div>            <script type=\"text/javascript\">                require([\"plotly\"], function(Plotly) {                    window.PLOTLYENV=window.PLOTLYENV || {};                                    if (document.getElementById(\"ce482f82-6449-4719-80fd-9c6d0aa06799\")) {                    Plotly.newPlot(                        \"ce482f82-6449-4719-80fd-9c6d0aa06799\",                        [{\"alignmentgroup\": \"True\", \"hovertemplate\": \"Topic=%{x}<br>Cosine similiarity=%{y}<br>Top words=%{text}<extra></extra>\", \"legendgroup\": \"\", \"marker\": {\"color\": \"#636efa\"}, \"name\": \"\", \"offsetgroup\": \"\", \"orientation\": \"v\", \"showlegend\": false, \"text\": [[\"charitable organizations\", \"nonprofit organizations\", \"volunteers\"], [\"big yellow foundation\", \"yellow foundation\", \"year big yellow\"], [\"alexandria real estate\", \"alexandrias corporate\", \"alexandria real\"], [\"training development\", \"management team\", \"career development\"], [\"employee engagement survey\", \"employee engagement\", \"average number staff\"], [\"staff health safety\", \"time employees\", \"staff health\"], [\"real estate sustainability\", \"association real estate\", \"global real estate\"], [\"discrimination\", \"employment type\", \"prologis employees\"], [\"yellow self storage\", \"year big yellow\", \"yellow group plc\"], [\"rooftop solar installations\", \"rooftop solar\", \"solar electricity generation\"]], \"textposition\": \"auto\", \"type\": \"bar\", \"x\": [5, 13, 14, 21, 23, 26, 19, 32, 7, 12], \"xaxis\": \"x\", \"y\": [0.3375348448753357, 0.2793542742729187, 0.0689157173037529, 0.012114227749407291, 0.00043007079511880875, -0.0015044622123241425, -0.017332404851913452, -0.018503494560718536, -0.022054538130760193, -0.02403426729142666], \"yaxis\": \"y\"}],                        {\"barmode\": \"relative\", \"legend\": {\"tracegroupgap\": 0}, \"template\": {\"data\": {\"bar\": [{\"error_x\": {\"color\": \"#2a3f5f\"}, \"error_y\": {\"color\": \"#2a3f5f\"}, \"marker\": {\"line\": {\"color\": \"#E5ECF6\", \"width\": 0.5}}, \"type\": \"bar\"}], \"barpolar\": [{\"marker\": {\"line\": {\"color\": \"#E5ECF6\", \"width\": 0.5}}, \"type\": \"barpolar\"}], \"carpet\": [{\"aaxis\": {\"endlinecolor\": \"#2a3f5f\", \"gridcolor\": \"white\", \"linecolor\": \"white\", \"minorgridcolor\": \"white\", \"startlinecolor\": \"#2a3f5f\"}, \"baxis\": {\"endlinecolor\": \"#2a3f5f\", \"gridcolor\": \"white\", \"linecolor\": \"white\", \"minorgridcolor\": \"white\", \"startlinecolor\": \"#2a3f5f\"}, \"type\": \"carpet\"}], \"choropleth\": [{\"colorbar\": {\"outlinewidth\": 0, \"ticks\": \"\"}, \"type\": \"choropleth\"}], \"contour\": [{\"colorbar\": {\"outlinewidth\": 0, \"ticks\": \"\"}, \"colorscale\": [[0.0, \"#0d0887\"], [0.1111111111111111, \"#46039f\"], [0.2222222222222222, \"#7201a8\"], [0.3333333333333333, \"#9c179e\"], [0.4444444444444444, \"#bd3786\"], [0.5555555555555556, \"#d8576b\"], [0.6666666666666666, \"#ed7953\"], [0.7777777777777778, \"#fb9f3a\"], [0.8888888888888888, \"#fdca26\"], [1.0, \"#f0f921\"]], \"type\": \"contour\"}], \"contourcarpet\": [{\"colorbar\": {\"outlinewidth\": 0, \"ticks\": \"\"}, \"type\": \"contourcarpet\"}], \"heatmap\": [{\"colorbar\": {\"outlinewidth\": 0, \"ticks\": \"\"}, \"colorscale\": [[0.0, \"#0d0887\"], [0.1111111111111111, \"#46039f\"], [0.2222222222222222, \"#7201a8\"], [0.3333333333333333, \"#9c179e\"], [0.4444444444444444, \"#bd3786\"], [0.5555555555555556, \"#d8576b\"], [0.6666666666666666, \"#ed7953\"], [0.7777777777777778, \"#fb9f3a\"], [0.8888888888888888, \"#fdca26\"], [1.0, \"#f0f921\"]], \"type\": \"heatmap\"}], \"heatmapgl\": [{\"colorbar\": {\"outlinewidth\": 0, \"ticks\": \"\"}, \"colorscale\": [[0.0, \"#0d0887\"], [0.1111111111111111, \"#46039f\"], [0.2222222222222222, \"#7201a8\"], [0.3333333333333333, \"#9c179e\"], [0.4444444444444444, \"#bd3786\"], [0.5555555555555556, \"#d8576b\"], [0.6666666666666666, \"#ed7953\"], [0.7777777777777778, \"#fb9f3a\"], [0.8888888888888888, \"#fdca26\"], [1.0, \"#f0f921\"]], \"type\": \"heatmapgl\"}], \"histogram\": [{\"marker\": {\"colorbar\": {\"outlinewidth\": 0, \"ticks\": \"\"}}, \"type\": \"histogram\"}], \"histogram2d\": [{\"colorbar\": {\"outlinewidth\": 0, \"ticks\": \"\"}, \"colorscale\": [[0.0, \"#0d0887\"], [0.1111111111111111, \"#46039f\"], [0.2222222222222222, \"#7201a8\"], [0.3333333333333333, \"#9c179e\"], [0.4444444444444444, \"#bd3786\"], [0.5555555555555556, \"#d8576b\"], [0.6666666666666666, \"#ed7953\"], [0.7777777777777778, \"#fb9f3a\"], [0.8888888888888888, \"#fdca26\"], [1.0, \"#f0f921\"]], \"type\": \"histogram2d\"}], \"histogram2dcontour\": [{\"colorbar\": {\"outlinewidth\": 0, \"ticks\": \"\"}, \"colorscale\": [[0.0, \"#0d0887\"], [0.1111111111111111, \"#46039f\"], [0.2222222222222222, \"#7201a8\"], [0.3333333333333333, \"#9c179e\"], [0.4444444444444444, \"#bd3786\"], [0.5555555555555556, \"#d8576b\"], [0.6666666666666666, \"#ed7953\"], [0.7777777777777778, \"#fb9f3a\"], [0.8888888888888888, \"#fdca26\"], [1.0, \"#f0f921\"]], \"type\": \"histogram2dcontour\"}], \"mesh3d\": [{\"colorbar\": {\"outlinewidth\": 0, \"ticks\": \"\"}, \"type\": \"mesh3d\"}], \"parcoords\": [{\"line\": {\"colorbar\": {\"outlinewidth\": 0, \"ticks\": \"\"}}, \"type\": \"parcoords\"}], \"pie\": [{\"automargin\": true, \"type\": \"pie\"}], \"scatter\": [{\"marker\": {\"colorbar\": {\"outlinewidth\": 0, \"ticks\": \"\"}}, \"type\": \"scatter\"}], \"scatter3d\": [{\"line\": {\"colorbar\": {\"outlinewidth\": 0, \"ticks\": \"\"}}, \"marker\": {\"colorbar\": {\"outlinewidth\": 0, \"ticks\": \"\"}}, \"type\": \"scatter3d\"}], \"scattercarpet\": [{\"marker\": {\"colorbar\": {\"outlinewidth\": 0, \"ticks\": \"\"}}, \"type\": \"scattercarpet\"}], \"scattergeo\": [{\"marker\": {\"colorbar\": {\"outlinewidth\": 0, \"ticks\": \"\"}}, \"type\": \"scattergeo\"}], \"scattergl\": [{\"marker\": {\"colorbar\": {\"outlinewidth\": 0, \"ticks\": \"\"}}, \"type\": \"scattergl\"}], \"scattermapbox\": [{\"marker\": {\"colorbar\": {\"outlinewidth\": 0, \"ticks\": \"\"}}, \"type\": \"scattermapbox\"}], \"scatterpolar\": [{\"marker\": {\"colorbar\": {\"outlinewidth\": 0, \"ticks\": \"\"}}, \"type\": \"scatterpolar\"}], \"scatterpolargl\": [{\"marker\": {\"colorbar\": {\"outlinewidth\": 0, \"ticks\": \"\"}}, \"type\": \"scatterpolargl\"}], \"scatterternary\": [{\"marker\": {\"colorbar\": {\"outlinewidth\": 0, \"ticks\": \"\"}}, \"type\": \"scatterternary\"}], \"surface\": [{\"colorbar\": {\"outlinewidth\": 0, \"ticks\": \"\"}, \"colorscale\": [[0.0, \"#0d0887\"], [0.1111111111111111, \"#46039f\"], [0.2222222222222222, \"#7201a8\"], [0.3333333333333333, \"#9c179e\"], [0.4444444444444444, \"#bd3786\"], [0.5555555555555556, \"#d8576b\"], [0.6666666666666666, \"#ed7953\"], [0.7777777777777778, \"#fb9f3a\"], [0.8888888888888888, \"#fdca26\"], [1.0, \"#f0f921\"]], \"type\": \"surface\"}], \"table\": [{\"cells\": {\"fill\": {\"color\": \"#EBF0F8\"}, \"line\": {\"color\": \"white\"}}, \"header\": {\"fill\": {\"color\": \"#C8D4E3\"}, \"line\": {\"color\": \"white\"}}, \"type\": \"table\"}]}, \"layout\": {\"annotationdefaults\": {\"arrowcolor\": \"#2a3f5f\", \"arrowhead\": 0, \"arrowwidth\": 1}, \"coloraxis\": {\"colorbar\": {\"outlinewidth\": 0, \"ticks\": \"\"}}, \"colorscale\": {\"diverging\": [[0, \"#8e0152\"], [0.1, \"#c51b7d\"], [0.2, \"#de77ae\"], [0.3, \"#f1b6da\"], [0.4, \"#fde0ef\"], [0.5, \"#f7f7f7\"], [0.6, \"#e6f5d0\"], [0.7, \"#b8e186\"], [0.8, \"#7fbc41\"], [0.9, \"#4d9221\"], [1, \"#276419\"]], \"sequential\": [[0.0, \"#0d0887\"], [0.1111111111111111, \"#46039f\"], [0.2222222222222222, \"#7201a8\"], [0.3333333333333333, \"#9c179e\"], [0.4444444444444444, \"#bd3786\"], [0.5555555555555556, \"#d8576b\"], [0.6666666666666666, \"#ed7953\"], [0.7777777777777778, \"#fb9f3a\"], [0.8888888888888888, \"#fdca26\"], [1.0, \"#f0f921\"]], \"sequentialminus\": [[0.0, \"#0d0887\"], [0.1111111111111111, \"#46039f\"], [0.2222222222222222, \"#7201a8\"], [0.3333333333333333, \"#9c179e\"], [0.4444444444444444, \"#bd3786\"], [0.5555555555555556, \"#d8576b\"], [0.6666666666666666, \"#ed7953\"], [0.7777777777777778, \"#fb9f3a\"], [0.8888888888888888, \"#fdca26\"], [1.0, \"#f0f921\"]]}, \"colorway\": [\"#636efa\", \"#EF553B\", \"#00cc96\", \"#ab63fa\", \"#FFA15A\", \"#19d3f3\", \"#FF6692\", \"#B6E880\", \"#FF97FF\", \"#FECB52\"], \"font\": {\"color\": \"#2a3f5f\"}, \"geo\": {\"bgcolor\": \"white\", \"lakecolor\": \"white\", \"landcolor\": \"#E5ECF6\", \"showlakes\": true, \"showland\": true, \"subunitcolor\": \"white\"}, \"hoverlabel\": {\"align\": \"left\"}, \"hovermode\": \"closest\", \"mapbox\": {\"style\": \"light\"}, \"paper_bgcolor\": \"white\", \"plot_bgcolor\": \"#E5ECF6\", \"polar\": {\"angularaxis\": {\"gridcolor\": \"white\", \"linecolor\": \"white\", \"ticks\": \"\"}, \"bgcolor\": \"#E5ECF6\", \"radialaxis\": {\"gridcolor\": \"white\", \"linecolor\": \"white\", \"ticks\": \"\"}}, \"scene\": {\"xaxis\": {\"backgroundcolor\": \"#E5ECF6\", \"gridcolor\": \"white\", \"gridwidth\": 2, \"linecolor\": \"white\", \"showbackground\": true, \"ticks\": \"\", \"zerolinecolor\": \"white\"}, \"yaxis\": {\"backgroundcolor\": \"#E5ECF6\", \"gridcolor\": \"white\", \"gridwidth\": 2, \"linecolor\": \"white\", \"showbackground\": true, \"ticks\": \"\", \"zerolinecolor\": \"white\"}, \"zaxis\": {\"backgroundcolor\": \"#E5ECF6\", \"gridcolor\": \"white\", \"gridwidth\": 2, \"linecolor\": \"white\", \"showbackground\": true, \"ticks\": \"\", \"zerolinecolor\": \"white\"}}, \"shapedefaults\": {\"line\": {\"color\": \"#2a3f5f\"}}, \"ternary\": {\"aaxis\": {\"gridcolor\": \"white\", \"linecolor\": \"white\", \"ticks\": \"\"}, \"baxis\": {\"gridcolor\": \"white\", \"linecolor\": \"white\", \"ticks\": \"\"}, \"bgcolor\": \"#E5ECF6\", \"caxis\": {\"gridcolor\": \"white\", \"linecolor\": \"white\", \"ticks\": \"\"}}, \"title\": {\"x\": 0.05}, \"xaxis\": {\"automargin\": true, \"gridcolor\": \"white\", \"linecolor\": \"white\", \"ticks\": \"\", \"title\": {\"standoff\": 15}, \"zerolinecolor\": \"white\", \"zerolinewidth\": 2}, \"yaxis\": {\"automargin\": true, \"gridcolor\": \"white\", \"linecolor\": \"white\", \"ticks\": \"\", \"title\": {\"standoff\": 15}, \"zerolinecolor\": \"white\", \"zerolinewidth\": 2}}}, \"title\": {\"text\": \"10 highest topic loadings\"}, \"xaxis\": {\"anchor\": \"y\", \"domain\": [0.0, 1.0], \"title\": {\"text\": \"Topic number\"}, \"type\": \"category\"}, \"yaxis\": {\"anchor\": \"x\", \"domain\": [0.0, 1.0], \"title\": {\"text\": \"Cosine similiarity\"}}},                        {\"responsive\": true}                    ).then(function(){\n",
       "                            \n",
       "var gd = document.getElementById('ce482f82-6449-4719-80fd-9c6d0aa06799');\n",
       "var x = new MutationObserver(function (mutations, observer) {{\n",
       "        var display = window.getComputedStyle(gd).display;\n",
       "        if (!display || display === 'none') {{\n",
       "            console.log([gd, 'removed!']);\n",
       "            Plotly.purge(gd);\n",
       "            observer.disconnect();\n",
       "        }}\n",
       "}});\n",
       "\n",
       "// Listen for the removal of the full notebook cells\n",
       "var notebookContainer = gd.closest('#notebook-container');\n",
       "if (notebookContainer) {{\n",
       "    x.observe(notebookContainer, {childList: true});\n",
       "}}\n",
       "\n",
       "// Listen for the clearing of the current output cell\n",
       "var outputEl = gd.closest('.output');\n",
       "if (outputEl) {{\n",
       "    x.observe(outputEl, {childList: true});\n",
       "}}\n",
       "\n",
       "                        })                };                });            </script>        </div>"
      ]
     },
     "metadata": {},
     "output_type": "display_data"
    }
   ],
   "source": [
    "fig = px.bar(scores.iloc[0:10,:], x='Topic', y='Cosine similiarity', text=\"Top words\", title='10 highest topic loadings')\n",
    "fig.update_layout(xaxis=dict(type='category'),\n",
    "                  xaxis_title=\"Topic number\")\n",
    "fig.show()"
   ]
  },
  {
   "cell_type": "markdown",
   "metadata": {},
   "source": [
    "## Most similar documents for a topic"
   ]
  },
  {
   "cell_type": "code",
   "execution_count": 19,
   "metadata": {
    "scrolled": false
   },
   "outputs": [
    {
     "name": "stdout",
     "output_type": "stream",
     "text": [
      "Document: 3234, Filename (Company and year): Prologis-2016.pdf, Score: 0.8135864734649658\n",
      "-----------\n",
      "Space for Good Prologis developed Space for Good to provide temporary space in our distribution facilities rent-free to help charitable organizations address seasonal and short-term needs and provide disaster relief. Space for Good demonstrates Prologis commitment to corporate citizenship and willingness to form meaningful public/private partnerships on behalf of our local communities. Highlights for 2016 Prologis and the Prologis Foundation made $1.6 million in donations and matching gifts to nonprofit organizations working in the areas of education, human welfare and disaster relief. On IMPACT Day, Prologis employees volunteered 7,000 hours to benefit 60 different nonprofit organizations. Employees volunteered an additional 3,420 hours to various organizations throughout the year. OurSpace for Goodprogram, which provides warehouse spaceat free or reduced rental rate tononprofits and nongovernmental organizations (NGOs), gave82months of rent-free space to 12 non-\n",
      "-----------\n",
      "\n",
      "Document: 2680, Filename (Company and year): Prologis-2012.pdf, Score: 0.7971879243850708\n",
      "-----------\n",
      "Some of the organizations which received financial support from the Prologis Foundation in 2012 included: American Red Cross Boys and Girls Clubs Habitat for Humanity Junior Achievement Metro Volunteers Ronald McDonald House Charities Space for Good Prologis developed the Space for Good program to provide warehouse space to charitable organizations in need of such space on temporary basis to address seasonal needs and respond to disaster relief efforts. Space for Good is an example of program that aligns our business with our charitable activities in way that directly benefits the needs of the local communities where we operate. In 2012, Prologis donated more than 4 million square feet (400,000 square meters) of distribution center space on temporary basis to organizations in need. This space represents value of more\n",
      "-----------\n",
      "\n"
     ]
    }
   ],
   "source": [
    "documents, document_scores, document_ids = model_distilBert.search_documents_by_topic(topic_num=5, num_docs=2)\n",
    "for doc, score, doc_id in zip(documents, document_scores, document_ids):\n",
    "    print(f\"Document: {doc_id}, Filename (Company and year): {df.iloc[doc_id,:].filename}, Score: {score}\")\n",
    "    print(\"-----------\")\n",
    "    print(doc)\n",
    "    print(\"-----------\")\n",
    "    print()"
   ]
  },
  {
   "cell_type": "code",
   "execution_count": 30,
   "metadata": {
    "scrolled": true
   },
   "outputs": [],
   "source": [
    "unique_labels = set(model_distilBert.clustering.labels_)"
   ]
  },
  {
   "cell_type": "code",
   "execution_count": 27,
   "metadata": {},
   "outputs": [],
   "source": [
    "model_distilBert._create_topic_vectors()"
   ]
  },
  {
   "cell_type": "code",
   "execution_count": 37,
   "metadata": {},
   "outputs": [],
   "source": [
    "df[\"topic\"] = model_distilBert.clustering.labels_"
   ]
  },
  {
   "cell_type": "code",
   "execution_count": 111,
   "metadata": {
    "scrolled": false
   },
   "outputs": [],
   "source": [
    "out = pd.DataFrame(df.groupby([\"filename\",\"topic\"]).count().iloc[:,0])"
   ]
  },
  {
   "cell_type": "code",
   "execution_count": 125,
   "metadata": {},
   "outputs": [],
   "source": [
    "out_sorted = (out.iloc[out.index.get_level_values(0) == out.index.get_level_values(0)[0],:].\n",
    "sort_values(out.columns[0], ascending=False))\n",
    "out_sorted[\"topic\"] = out_sorted.index.get_level_values(1)\n",
    "out_sorted[\"top words\"] = out_sorted[\"topic\"].apply(lambda x: list(topics_top2Vec.iloc[x, 0:3]) if x >= 0 else list([\"Noise topic\"]))"
   ]
  },
  {
   "cell_type": "code",
   "execution_count": 126,
   "metadata": {},
   "outputs": [
    {
     "data": {
      "text/html": [
       "<div>\n",
       "<style scoped>\n",
       "    .dataframe tbody tr th:only-of-type {\n",
       "        vertical-align: middle;\n",
       "    }\n",
       "\n",
       "    .dataframe tbody tr th {\n",
       "        vertical-align: top;\n",
       "    }\n",
       "\n",
       "    .dataframe thead th {\n",
       "        text-align: right;\n",
       "    }\n",
       "</style>\n",
       "<table border=\"1\" class=\"dataframe\">\n",
       "  <thead>\n",
       "    <tr style=\"text-align: right;\">\n",
       "      <th></th>\n",
       "      <th></th>\n",
       "      <th>company</th>\n",
       "      <th>topic</th>\n",
       "      <th>top words</th>\n",
       "    </tr>\n",
       "    <tr>\n",
       "      <th>filename</th>\n",
       "      <th>topic</th>\n",
       "      <th></th>\n",
       "      <th></th>\n",
       "      <th></th>\n",
       "    </tr>\n",
       "  </thead>\n",
       "  <tbody>\n",
       "    <tr>\n",
       "      <th rowspan=\"17\" valign=\"top\">AlexandriaRealEstateEquities,Inc.-2018.pdf</th>\n",
       "      <th>-1</th>\n",
       "      <td>40</td>\n",
       "      <td>-1</td>\n",
       "      <td>[Noise topic]</td>\n",
       "    </tr>\n",
       "    <tr>\n",
       "      <th>16</th>\n",
       "      <td>33</td>\n",
       "      <td>16</td>\n",
       "      <td>[report environmental performance, report corp...</td>\n",
       "    </tr>\n",
       "    <tr>\n",
       "      <th>10</th>\n",
       "      <td>8</td>\n",
       "      <td>10</td>\n",
       "      <td>[report environmental performance, report envi...</td>\n",
       "    </tr>\n",
       "    <tr>\n",
       "      <th>4</th>\n",
       "      <td>6</td>\n",
       "      <td>4</td>\n",
       "      <td>[water waste, energy water waste, water conser...</td>\n",
       "    </tr>\n",
       "    <tr>\n",
       "      <th>15</th>\n",
       "      <td>5</td>\n",
       "      <td>15</td>\n",
       "      <td>[investor relations, customers investors, real...</td>\n",
       "    </tr>\n",
       "    <tr>\n",
       "      <th>13</th>\n",
       "      <td>4</td>\n",
       "      <td>13</td>\n",
       "      <td>[big yellow foundation, yellow foundation, yea...</td>\n",
       "    </tr>\n",
       "    <tr>\n",
       "      <th>23</th>\n",
       "      <td>2</td>\n",
       "      <td>23</td>\n",
       "      <td>[employee engagement survey, employee engageme...</td>\n",
       "    </tr>\n",
       "    <tr>\n",
       "      <th>2</th>\n",
       "      <td>2</td>\n",
       "      <td>2</td>\n",
       "      <td>[energy use carbon, use carbon emissions, carb...</td>\n",
       "    </tr>\n",
       "    <tr>\n",
       "      <th>19</th>\n",
       "      <td>2</td>\n",
       "      <td>19</td>\n",
       "      <td>[real estate sustainability, association real ...</td>\n",
       "    </tr>\n",
       "    <tr>\n",
       "      <th>26</th>\n",
       "      <td>2</td>\n",
       "      <td>26</td>\n",
       "      <td>[staff health safety, time employees, staff he...</td>\n",
       "    </tr>\n",
       "    <tr>\n",
       "      <th>32</th>\n",
       "      <td>1</td>\n",
       "      <td>32</td>\n",
       "      <td>[discrimination, employment type, prologis emp...</td>\n",
       "    </tr>\n",
       "    <tr>\n",
       "      <th>27</th>\n",
       "      <td>1</td>\n",
       "      <td>27</td>\n",
       "      <td>[real estate investment, estate investment, re...</td>\n",
       "    </tr>\n",
       "    <tr>\n",
       "      <th>17</th>\n",
       "      <td>1</td>\n",
       "      <td>17</td>\n",
       "      <td>[code ethics business, ethics business conduct...</td>\n",
       "    </tr>\n",
       "    <tr>\n",
       "      <th>21</th>\n",
       "      <td>1</td>\n",
       "      <td>21</td>\n",
       "      <td>[training development, management team, career...</td>\n",
       "    </tr>\n",
       "    <tr>\n",
       "      <th>18</th>\n",
       "      <td>1</td>\n",
       "      <td>18</td>\n",
       "      <td>[waste recycling, waste landfill, recycling]</td>\n",
       "    </tr>\n",
       "    <tr>\n",
       "      <th>0</th>\n",
       "      <td>1</td>\n",
       "      <td>0</td>\n",
       "      <td>[energy use carbon, energy carbon, energy savi...</td>\n",
       "    </tr>\n",
       "    <tr>\n",
       "      <th>33</th>\n",
       "      <td>1</td>\n",
       "      <td>33</td>\n",
       "      <td>[health safety committee, staff health safety,...</td>\n",
       "    </tr>\n",
       "  </tbody>\n",
       "</table>\n",
       "</div>"
      ],
      "text/plain": [
       "                                                  company  topic  \\\n",
       "filename                                   topic                   \n",
       "AlexandriaRealEstateEquities,Inc.-2018.pdf -1          40     -1   \n",
       "                                            16         33     16   \n",
       "                                            10          8     10   \n",
       "                                            4           6      4   \n",
       "                                            15          5     15   \n",
       "                                            13          4     13   \n",
       "                                            23          2     23   \n",
       "                                            2           2      2   \n",
       "                                            19          2     19   \n",
       "                                            26          2     26   \n",
       "                                            32          1     32   \n",
       "                                            27          1     27   \n",
       "                                            17          1     17   \n",
       "                                            21          1     21   \n",
       "                                            18          1     18   \n",
       "                                            0           1      0   \n",
       "                                            33          1     33   \n",
       "\n",
       "                                                                                          top words  \n",
       "filename                                   topic                                                     \n",
       "AlexandriaRealEstateEquities,Inc.-2018.pdf -1                                         [Noise topic]  \n",
       "                                            16    [report environmental performance, report corp...  \n",
       "                                            10    [report environmental performance, report envi...  \n",
       "                                            4     [water waste, energy water waste, water conser...  \n",
       "                                            15    [investor relations, customers investors, real...  \n",
       "                                            13    [big yellow foundation, yellow foundation, yea...  \n",
       "                                            23    [employee engagement survey, employee engageme...  \n",
       "                                            2     [energy use carbon, use carbon emissions, carb...  \n",
       "                                            19    [real estate sustainability, association real ...  \n",
       "                                            26    [staff health safety, time employees, staff he...  \n",
       "                                            32    [discrimination, employment type, prologis emp...  \n",
       "                                            27    [real estate investment, estate investment, re...  \n",
       "                                            17    [code ethics business, ethics business conduct...  \n",
       "                                            21    [training development, management team, career...  \n",
       "                                            18         [waste recycling, waste landfill, recycling]  \n",
       "                                            0     [energy use carbon, energy carbon, energy savi...  \n",
       "                                            33    [health safety committee, staff health safety,...  "
      ]
     },
     "execution_count": 126,
     "metadata": {},
     "output_type": "execute_result"
    }
   ],
   "source": [
    "out_sorted"
   ]
  },
  {
   "cell_type": "code",
   "execution_count": 127,
   "metadata": {},
   "outputs": [
    {
     "data": {
      "application/vnd.plotly.v1+json": {
       "config": {
        "plotlyServerURL": "https://plot.ly"
       },
       "data": [
        {
         "alignmentgroup": "True",
         "hovertemplate": "topic=%{x}<br>company=%{y}<br>top words=%{text}<extra></extra>",
         "legendgroup": "",
         "marker": {
          "color": "#636efa"
         },
         "name": "",
         "offsetgroup": "",
         "orientation": "v",
         "showlegend": false,
         "text": [
          [
           "Noise topic"
          ],
          [
           "report environmental performance",
           "report corporate overview",
           "esg impact report"
          ],
          [
           "report environmental performance",
           "report environmental stewardship",
           "evaluation management approach"
          ],
          [
           "water waste",
           "energy water waste",
           "water conservation"
          ],
          [
           "investor relations",
           "customers investors",
           "real estate investment"
          ],
          [
           "big yellow foundation",
           "yellow foundation",
           "year big yellow"
          ],
          [
           "employee engagement survey",
           "employee engagement",
           "average number staff"
          ],
          [
           "energy use carbon",
           "use carbon emissions",
           "carbon dioxide emissions"
          ],
          [
           "real estate sustainability",
           "association real estate",
           "global real estate"
          ],
          [
           "staff health safety",
           "time employees",
           "staff health"
          ]
         ],
         "textposition": "auto",
         "type": "bar",
         "x": [
          -1,
          16,
          10,
          4,
          15,
          13,
          23,
          2,
          19,
          26
         ],
         "xaxis": "x",
         "y": [
          40,
          33,
          8,
          6,
          5,
          4,
          2,
          2,
          2,
          2
         ],
         "yaxis": "y"
        }
       ],
       "layout": {
        "barmode": "relative",
        "legend": {
         "tracegroupgap": 0
        },
        "template": {
         "data": {
          "bar": [
           {
            "error_x": {
             "color": "#2a3f5f"
            },
            "error_y": {
             "color": "#2a3f5f"
            },
            "marker": {
             "line": {
              "color": "#E5ECF6",
              "width": 0.5
             }
            },
            "type": "bar"
           }
          ],
          "barpolar": [
           {
            "marker": {
             "line": {
              "color": "#E5ECF6",
              "width": 0.5
             }
            },
            "type": "barpolar"
           }
          ],
          "carpet": [
           {
            "aaxis": {
             "endlinecolor": "#2a3f5f",
             "gridcolor": "white",
             "linecolor": "white",
             "minorgridcolor": "white",
             "startlinecolor": "#2a3f5f"
            },
            "baxis": {
             "endlinecolor": "#2a3f5f",
             "gridcolor": "white",
             "linecolor": "white",
             "minorgridcolor": "white",
             "startlinecolor": "#2a3f5f"
            },
            "type": "carpet"
           }
          ],
          "choropleth": [
           {
            "colorbar": {
             "outlinewidth": 0,
             "ticks": ""
            },
            "type": "choropleth"
           }
          ],
          "contour": [
           {
            "colorbar": {
             "outlinewidth": 0,
             "ticks": ""
            },
            "colorscale": [
             [
              0,
              "#0d0887"
             ],
             [
              0.1111111111111111,
              "#46039f"
             ],
             [
              0.2222222222222222,
              "#7201a8"
             ],
             [
              0.3333333333333333,
              "#9c179e"
             ],
             [
              0.4444444444444444,
              "#bd3786"
             ],
             [
              0.5555555555555556,
              "#d8576b"
             ],
             [
              0.6666666666666666,
              "#ed7953"
             ],
             [
              0.7777777777777778,
              "#fb9f3a"
             ],
             [
              0.8888888888888888,
              "#fdca26"
             ],
             [
              1,
              "#f0f921"
             ]
            ],
            "type": "contour"
           }
          ],
          "contourcarpet": [
           {
            "colorbar": {
             "outlinewidth": 0,
             "ticks": ""
            },
            "type": "contourcarpet"
           }
          ],
          "heatmap": [
           {
            "colorbar": {
             "outlinewidth": 0,
             "ticks": ""
            },
            "colorscale": [
             [
              0,
              "#0d0887"
             ],
             [
              0.1111111111111111,
              "#46039f"
             ],
             [
              0.2222222222222222,
              "#7201a8"
             ],
             [
              0.3333333333333333,
              "#9c179e"
             ],
             [
              0.4444444444444444,
              "#bd3786"
             ],
             [
              0.5555555555555556,
              "#d8576b"
             ],
             [
              0.6666666666666666,
              "#ed7953"
             ],
             [
              0.7777777777777778,
              "#fb9f3a"
             ],
             [
              0.8888888888888888,
              "#fdca26"
             ],
             [
              1,
              "#f0f921"
             ]
            ],
            "type": "heatmap"
           }
          ],
          "heatmapgl": [
           {
            "colorbar": {
             "outlinewidth": 0,
             "ticks": ""
            },
            "colorscale": [
             [
              0,
              "#0d0887"
             ],
             [
              0.1111111111111111,
              "#46039f"
             ],
             [
              0.2222222222222222,
              "#7201a8"
             ],
             [
              0.3333333333333333,
              "#9c179e"
             ],
             [
              0.4444444444444444,
              "#bd3786"
             ],
             [
              0.5555555555555556,
              "#d8576b"
             ],
             [
              0.6666666666666666,
              "#ed7953"
             ],
             [
              0.7777777777777778,
              "#fb9f3a"
             ],
             [
              0.8888888888888888,
              "#fdca26"
             ],
             [
              1,
              "#f0f921"
             ]
            ],
            "type": "heatmapgl"
           }
          ],
          "histogram": [
           {
            "marker": {
             "colorbar": {
              "outlinewidth": 0,
              "ticks": ""
             }
            },
            "type": "histogram"
           }
          ],
          "histogram2d": [
           {
            "colorbar": {
             "outlinewidth": 0,
             "ticks": ""
            },
            "colorscale": [
             [
              0,
              "#0d0887"
             ],
             [
              0.1111111111111111,
              "#46039f"
             ],
             [
              0.2222222222222222,
              "#7201a8"
             ],
             [
              0.3333333333333333,
              "#9c179e"
             ],
             [
              0.4444444444444444,
              "#bd3786"
             ],
             [
              0.5555555555555556,
              "#d8576b"
             ],
             [
              0.6666666666666666,
              "#ed7953"
             ],
             [
              0.7777777777777778,
              "#fb9f3a"
             ],
             [
              0.8888888888888888,
              "#fdca26"
             ],
             [
              1,
              "#f0f921"
             ]
            ],
            "type": "histogram2d"
           }
          ],
          "histogram2dcontour": [
           {
            "colorbar": {
             "outlinewidth": 0,
             "ticks": ""
            },
            "colorscale": [
             [
              0,
              "#0d0887"
             ],
             [
              0.1111111111111111,
              "#46039f"
             ],
             [
              0.2222222222222222,
              "#7201a8"
             ],
             [
              0.3333333333333333,
              "#9c179e"
             ],
             [
              0.4444444444444444,
              "#bd3786"
             ],
             [
              0.5555555555555556,
              "#d8576b"
             ],
             [
              0.6666666666666666,
              "#ed7953"
             ],
             [
              0.7777777777777778,
              "#fb9f3a"
             ],
             [
              0.8888888888888888,
              "#fdca26"
             ],
             [
              1,
              "#f0f921"
             ]
            ],
            "type": "histogram2dcontour"
           }
          ],
          "mesh3d": [
           {
            "colorbar": {
             "outlinewidth": 0,
             "ticks": ""
            },
            "type": "mesh3d"
           }
          ],
          "parcoords": [
           {
            "line": {
             "colorbar": {
              "outlinewidth": 0,
              "ticks": ""
             }
            },
            "type": "parcoords"
           }
          ],
          "pie": [
           {
            "automargin": true,
            "type": "pie"
           }
          ],
          "scatter": [
           {
            "marker": {
             "colorbar": {
              "outlinewidth": 0,
              "ticks": ""
             }
            },
            "type": "scatter"
           }
          ],
          "scatter3d": [
           {
            "line": {
             "colorbar": {
              "outlinewidth": 0,
              "ticks": ""
             }
            },
            "marker": {
             "colorbar": {
              "outlinewidth": 0,
              "ticks": ""
             }
            },
            "type": "scatter3d"
           }
          ],
          "scattercarpet": [
           {
            "marker": {
             "colorbar": {
              "outlinewidth": 0,
              "ticks": ""
             }
            },
            "type": "scattercarpet"
           }
          ],
          "scattergeo": [
           {
            "marker": {
             "colorbar": {
              "outlinewidth": 0,
              "ticks": ""
             }
            },
            "type": "scattergeo"
           }
          ],
          "scattergl": [
           {
            "marker": {
             "colorbar": {
              "outlinewidth": 0,
              "ticks": ""
             }
            },
            "type": "scattergl"
           }
          ],
          "scattermapbox": [
           {
            "marker": {
             "colorbar": {
              "outlinewidth": 0,
              "ticks": ""
             }
            },
            "type": "scattermapbox"
           }
          ],
          "scatterpolar": [
           {
            "marker": {
             "colorbar": {
              "outlinewidth": 0,
              "ticks": ""
             }
            },
            "type": "scatterpolar"
           }
          ],
          "scatterpolargl": [
           {
            "marker": {
             "colorbar": {
              "outlinewidth": 0,
              "ticks": ""
             }
            },
            "type": "scatterpolargl"
           }
          ],
          "scatterternary": [
           {
            "marker": {
             "colorbar": {
              "outlinewidth": 0,
              "ticks": ""
             }
            },
            "type": "scatterternary"
           }
          ],
          "surface": [
           {
            "colorbar": {
             "outlinewidth": 0,
             "ticks": ""
            },
            "colorscale": [
             [
              0,
              "#0d0887"
             ],
             [
              0.1111111111111111,
              "#46039f"
             ],
             [
              0.2222222222222222,
              "#7201a8"
             ],
             [
              0.3333333333333333,
              "#9c179e"
             ],
             [
              0.4444444444444444,
              "#bd3786"
             ],
             [
              0.5555555555555556,
              "#d8576b"
             ],
             [
              0.6666666666666666,
              "#ed7953"
             ],
             [
              0.7777777777777778,
              "#fb9f3a"
             ],
             [
              0.8888888888888888,
              "#fdca26"
             ],
             [
              1,
              "#f0f921"
             ]
            ],
            "type": "surface"
           }
          ],
          "table": [
           {
            "cells": {
             "fill": {
              "color": "#EBF0F8"
             },
             "line": {
              "color": "white"
             }
            },
            "header": {
             "fill": {
              "color": "#C8D4E3"
             },
             "line": {
              "color": "white"
             }
            },
            "type": "table"
           }
          ]
         },
         "layout": {
          "annotationdefaults": {
           "arrowcolor": "#2a3f5f",
           "arrowhead": 0,
           "arrowwidth": 1
          },
          "coloraxis": {
           "colorbar": {
            "outlinewidth": 0,
            "ticks": ""
           }
          },
          "colorscale": {
           "diverging": [
            [
             0,
             "#8e0152"
            ],
            [
             0.1,
             "#c51b7d"
            ],
            [
             0.2,
             "#de77ae"
            ],
            [
             0.3,
             "#f1b6da"
            ],
            [
             0.4,
             "#fde0ef"
            ],
            [
             0.5,
             "#f7f7f7"
            ],
            [
             0.6,
             "#e6f5d0"
            ],
            [
             0.7,
             "#b8e186"
            ],
            [
             0.8,
             "#7fbc41"
            ],
            [
             0.9,
             "#4d9221"
            ],
            [
             1,
             "#276419"
            ]
           ],
           "sequential": [
            [
             0,
             "#0d0887"
            ],
            [
             0.1111111111111111,
             "#46039f"
            ],
            [
             0.2222222222222222,
             "#7201a8"
            ],
            [
             0.3333333333333333,
             "#9c179e"
            ],
            [
             0.4444444444444444,
             "#bd3786"
            ],
            [
             0.5555555555555556,
             "#d8576b"
            ],
            [
             0.6666666666666666,
             "#ed7953"
            ],
            [
             0.7777777777777778,
             "#fb9f3a"
            ],
            [
             0.8888888888888888,
             "#fdca26"
            ],
            [
             1,
             "#f0f921"
            ]
           ],
           "sequentialminus": [
            [
             0,
             "#0d0887"
            ],
            [
             0.1111111111111111,
             "#46039f"
            ],
            [
             0.2222222222222222,
             "#7201a8"
            ],
            [
             0.3333333333333333,
             "#9c179e"
            ],
            [
             0.4444444444444444,
             "#bd3786"
            ],
            [
             0.5555555555555556,
             "#d8576b"
            ],
            [
             0.6666666666666666,
             "#ed7953"
            ],
            [
             0.7777777777777778,
             "#fb9f3a"
            ],
            [
             0.8888888888888888,
             "#fdca26"
            ],
            [
             1,
             "#f0f921"
            ]
           ]
          },
          "colorway": [
           "#636efa",
           "#EF553B",
           "#00cc96",
           "#ab63fa",
           "#FFA15A",
           "#19d3f3",
           "#FF6692",
           "#B6E880",
           "#FF97FF",
           "#FECB52"
          ],
          "font": {
           "color": "#2a3f5f"
          },
          "geo": {
           "bgcolor": "white",
           "lakecolor": "white",
           "landcolor": "#E5ECF6",
           "showlakes": true,
           "showland": true,
           "subunitcolor": "white"
          },
          "hoverlabel": {
           "align": "left"
          },
          "hovermode": "closest",
          "mapbox": {
           "style": "light"
          },
          "paper_bgcolor": "white",
          "plot_bgcolor": "#E5ECF6",
          "polar": {
           "angularaxis": {
            "gridcolor": "white",
            "linecolor": "white",
            "ticks": ""
           },
           "bgcolor": "#E5ECF6",
           "radialaxis": {
            "gridcolor": "white",
            "linecolor": "white",
            "ticks": ""
           }
          },
          "scene": {
           "xaxis": {
            "backgroundcolor": "#E5ECF6",
            "gridcolor": "white",
            "gridwidth": 2,
            "linecolor": "white",
            "showbackground": true,
            "ticks": "",
            "zerolinecolor": "white"
           },
           "yaxis": {
            "backgroundcolor": "#E5ECF6",
            "gridcolor": "white",
            "gridwidth": 2,
            "linecolor": "white",
            "showbackground": true,
            "ticks": "",
            "zerolinecolor": "white"
           },
           "zaxis": {
            "backgroundcolor": "#E5ECF6",
            "gridcolor": "white",
            "gridwidth": 2,
            "linecolor": "white",
            "showbackground": true,
            "ticks": "",
            "zerolinecolor": "white"
           }
          },
          "shapedefaults": {
           "line": {
            "color": "#2a3f5f"
           }
          },
          "ternary": {
           "aaxis": {
            "gridcolor": "white",
            "linecolor": "white",
            "ticks": ""
           },
           "baxis": {
            "gridcolor": "white",
            "linecolor": "white",
            "ticks": ""
           },
           "bgcolor": "#E5ECF6",
           "caxis": {
            "gridcolor": "white",
            "linecolor": "white",
            "ticks": ""
           }
          },
          "title": {
           "x": 0.05
          },
          "xaxis": {
           "automargin": true,
           "gridcolor": "white",
           "linecolor": "white",
           "ticks": "",
           "title": {
            "standoff": 15
           },
           "zerolinecolor": "white",
           "zerolinewidth": 2
          },
          "yaxis": {
           "automargin": true,
           "gridcolor": "white",
           "linecolor": "white",
           "ticks": "",
           "title": {
            "standoff": 15
           },
           "zerolinecolor": "white",
           "zerolinewidth": 2
          }
         }
        },
        "title": {
         "text": "10 highest topic counts"
        },
        "xaxis": {
         "anchor": "y",
         "domain": [
          0,
          1
         ],
         "title": {
          "text": "Topic number"
         },
         "type": "category"
        },
        "yaxis": {
         "anchor": "x",
         "domain": [
          0,
          1
         ],
         "title": {
          "text": "Count"
         }
        }
       }
      },
      "text/html": [
       "<div>                            <div id=\"1a002f1d-c51c-49ab-9a11-440523bf5551\" class=\"plotly-graph-div\" style=\"height:525px; width:100%;\"></div>            <script type=\"text/javascript\">                require([\"plotly\"], function(Plotly) {                    window.PLOTLYENV=window.PLOTLYENV || {};                                    if (document.getElementById(\"1a002f1d-c51c-49ab-9a11-440523bf5551\")) {                    Plotly.newPlot(                        \"1a002f1d-c51c-49ab-9a11-440523bf5551\",                        [{\"alignmentgroup\": \"True\", \"hovertemplate\": \"topic=%{x}<br>company=%{y}<br>top words=%{text}<extra></extra>\", \"legendgroup\": \"\", \"marker\": {\"color\": \"#636efa\"}, \"name\": \"\", \"offsetgroup\": \"\", \"orientation\": \"v\", \"showlegend\": false, \"text\": [[\"Noise topic\"], [\"report environmental performance\", \"report corporate overview\", \"esg impact report\"], [\"report environmental performance\", \"report environmental stewardship\", \"evaluation management approach\"], [\"water waste\", \"energy water waste\", \"water conservation\"], [\"investor relations\", \"customers investors\", \"real estate investment\"], [\"big yellow foundation\", \"yellow foundation\", \"year big yellow\"], [\"employee engagement survey\", \"employee engagement\", \"average number staff\"], [\"energy use carbon\", \"use carbon emissions\", \"carbon dioxide emissions\"], [\"real estate sustainability\", \"association real estate\", \"global real estate\"], [\"staff health safety\", \"time employees\", \"staff health\"]], \"textposition\": \"auto\", \"type\": \"bar\", \"x\": [-1, 16, 10, 4, 15, 13, 23, 2, 19, 26], \"xaxis\": \"x\", \"y\": [40, 33, 8, 6, 5, 4, 2, 2, 2, 2], \"yaxis\": \"y\"}],                        {\"barmode\": \"relative\", \"legend\": {\"tracegroupgap\": 0}, \"template\": {\"data\": {\"bar\": [{\"error_x\": {\"color\": \"#2a3f5f\"}, \"error_y\": {\"color\": \"#2a3f5f\"}, \"marker\": {\"line\": {\"color\": \"#E5ECF6\", \"width\": 0.5}}, \"type\": \"bar\"}], \"barpolar\": [{\"marker\": {\"line\": {\"color\": \"#E5ECF6\", \"width\": 0.5}}, \"type\": \"barpolar\"}], \"carpet\": [{\"aaxis\": {\"endlinecolor\": \"#2a3f5f\", \"gridcolor\": \"white\", \"linecolor\": \"white\", \"minorgridcolor\": \"white\", \"startlinecolor\": \"#2a3f5f\"}, \"baxis\": {\"endlinecolor\": \"#2a3f5f\", \"gridcolor\": \"white\", \"linecolor\": \"white\", \"minorgridcolor\": \"white\", \"startlinecolor\": \"#2a3f5f\"}, \"type\": \"carpet\"}], \"choropleth\": [{\"colorbar\": {\"outlinewidth\": 0, \"ticks\": \"\"}, \"type\": \"choropleth\"}], \"contour\": [{\"colorbar\": {\"outlinewidth\": 0, \"ticks\": \"\"}, \"colorscale\": [[0.0, \"#0d0887\"], [0.1111111111111111, \"#46039f\"], [0.2222222222222222, \"#7201a8\"], [0.3333333333333333, \"#9c179e\"], [0.4444444444444444, \"#bd3786\"], [0.5555555555555556, \"#d8576b\"], [0.6666666666666666, \"#ed7953\"], [0.7777777777777778, \"#fb9f3a\"], [0.8888888888888888, \"#fdca26\"], [1.0, \"#f0f921\"]], \"type\": \"contour\"}], \"contourcarpet\": [{\"colorbar\": {\"outlinewidth\": 0, \"ticks\": \"\"}, \"type\": \"contourcarpet\"}], \"heatmap\": [{\"colorbar\": {\"outlinewidth\": 0, \"ticks\": \"\"}, \"colorscale\": [[0.0, \"#0d0887\"], [0.1111111111111111, \"#46039f\"], [0.2222222222222222, \"#7201a8\"], [0.3333333333333333, \"#9c179e\"], [0.4444444444444444, \"#bd3786\"], [0.5555555555555556, \"#d8576b\"], [0.6666666666666666, \"#ed7953\"], [0.7777777777777778, \"#fb9f3a\"], [0.8888888888888888, \"#fdca26\"], [1.0, \"#f0f921\"]], \"type\": \"heatmap\"}], \"heatmapgl\": [{\"colorbar\": {\"outlinewidth\": 0, \"ticks\": \"\"}, \"colorscale\": [[0.0, \"#0d0887\"], [0.1111111111111111, \"#46039f\"], [0.2222222222222222, \"#7201a8\"], [0.3333333333333333, \"#9c179e\"], [0.4444444444444444, \"#bd3786\"], [0.5555555555555556, \"#d8576b\"], [0.6666666666666666, \"#ed7953\"], [0.7777777777777778, \"#fb9f3a\"], [0.8888888888888888, \"#fdca26\"], [1.0, \"#f0f921\"]], \"type\": \"heatmapgl\"}], \"histogram\": [{\"marker\": {\"colorbar\": {\"outlinewidth\": 0, \"ticks\": \"\"}}, \"type\": \"histogram\"}], \"histogram2d\": [{\"colorbar\": {\"outlinewidth\": 0, \"ticks\": \"\"}, \"colorscale\": [[0.0, \"#0d0887\"], [0.1111111111111111, \"#46039f\"], [0.2222222222222222, \"#7201a8\"], [0.3333333333333333, \"#9c179e\"], [0.4444444444444444, \"#bd3786\"], [0.5555555555555556, \"#d8576b\"], [0.6666666666666666, \"#ed7953\"], [0.7777777777777778, \"#fb9f3a\"], [0.8888888888888888, \"#fdca26\"], [1.0, \"#f0f921\"]], \"type\": \"histogram2d\"}], \"histogram2dcontour\": [{\"colorbar\": {\"outlinewidth\": 0, \"ticks\": \"\"}, \"colorscale\": [[0.0, \"#0d0887\"], [0.1111111111111111, \"#46039f\"], [0.2222222222222222, \"#7201a8\"], [0.3333333333333333, \"#9c179e\"], [0.4444444444444444, \"#bd3786\"], [0.5555555555555556, \"#d8576b\"], [0.6666666666666666, \"#ed7953\"], [0.7777777777777778, \"#fb9f3a\"], [0.8888888888888888, \"#fdca26\"], [1.0, \"#f0f921\"]], \"type\": \"histogram2dcontour\"}], \"mesh3d\": [{\"colorbar\": {\"outlinewidth\": 0, \"ticks\": \"\"}, \"type\": \"mesh3d\"}], \"parcoords\": [{\"line\": {\"colorbar\": {\"outlinewidth\": 0, \"ticks\": \"\"}}, \"type\": \"parcoords\"}], \"pie\": [{\"automargin\": true, \"type\": \"pie\"}], \"scatter\": [{\"marker\": {\"colorbar\": {\"outlinewidth\": 0, \"ticks\": \"\"}}, \"type\": \"scatter\"}], \"scatter3d\": [{\"line\": {\"colorbar\": {\"outlinewidth\": 0, \"ticks\": \"\"}}, \"marker\": {\"colorbar\": {\"outlinewidth\": 0, \"ticks\": \"\"}}, \"type\": \"scatter3d\"}], \"scattercarpet\": [{\"marker\": {\"colorbar\": {\"outlinewidth\": 0, \"ticks\": \"\"}}, \"type\": \"scattercarpet\"}], \"scattergeo\": [{\"marker\": {\"colorbar\": {\"outlinewidth\": 0, \"ticks\": \"\"}}, \"type\": \"scattergeo\"}], \"scattergl\": [{\"marker\": {\"colorbar\": {\"outlinewidth\": 0, \"ticks\": \"\"}}, \"type\": \"scattergl\"}], \"scattermapbox\": [{\"marker\": {\"colorbar\": {\"outlinewidth\": 0, \"ticks\": \"\"}}, \"type\": \"scattermapbox\"}], \"scatterpolar\": [{\"marker\": {\"colorbar\": {\"outlinewidth\": 0, \"ticks\": \"\"}}, \"type\": \"scatterpolar\"}], \"scatterpolargl\": [{\"marker\": {\"colorbar\": {\"outlinewidth\": 0, \"ticks\": \"\"}}, \"type\": \"scatterpolargl\"}], \"scatterternary\": [{\"marker\": {\"colorbar\": {\"outlinewidth\": 0, \"ticks\": \"\"}}, \"type\": \"scatterternary\"}], \"surface\": [{\"colorbar\": {\"outlinewidth\": 0, \"ticks\": \"\"}, \"colorscale\": [[0.0, \"#0d0887\"], [0.1111111111111111, \"#46039f\"], [0.2222222222222222, \"#7201a8\"], [0.3333333333333333, \"#9c179e\"], [0.4444444444444444, \"#bd3786\"], [0.5555555555555556, \"#d8576b\"], [0.6666666666666666, \"#ed7953\"], [0.7777777777777778, \"#fb9f3a\"], [0.8888888888888888, \"#fdca26\"], [1.0, \"#f0f921\"]], \"type\": \"surface\"}], \"table\": [{\"cells\": {\"fill\": {\"color\": \"#EBF0F8\"}, \"line\": {\"color\": \"white\"}}, \"header\": {\"fill\": {\"color\": \"#C8D4E3\"}, \"line\": {\"color\": \"white\"}}, \"type\": \"table\"}]}, \"layout\": {\"annotationdefaults\": {\"arrowcolor\": \"#2a3f5f\", \"arrowhead\": 0, \"arrowwidth\": 1}, \"coloraxis\": {\"colorbar\": {\"outlinewidth\": 0, \"ticks\": \"\"}}, \"colorscale\": {\"diverging\": [[0, \"#8e0152\"], [0.1, \"#c51b7d\"], [0.2, \"#de77ae\"], [0.3, \"#f1b6da\"], [0.4, \"#fde0ef\"], [0.5, \"#f7f7f7\"], [0.6, \"#e6f5d0\"], [0.7, \"#b8e186\"], [0.8, \"#7fbc41\"], [0.9, \"#4d9221\"], [1, \"#276419\"]], \"sequential\": [[0.0, \"#0d0887\"], [0.1111111111111111, \"#46039f\"], [0.2222222222222222, \"#7201a8\"], [0.3333333333333333, \"#9c179e\"], [0.4444444444444444, \"#bd3786\"], [0.5555555555555556, \"#d8576b\"], [0.6666666666666666, \"#ed7953\"], [0.7777777777777778, \"#fb9f3a\"], [0.8888888888888888, \"#fdca26\"], [1.0, \"#f0f921\"]], \"sequentialminus\": [[0.0, \"#0d0887\"], [0.1111111111111111, \"#46039f\"], [0.2222222222222222, \"#7201a8\"], [0.3333333333333333, \"#9c179e\"], [0.4444444444444444, \"#bd3786\"], [0.5555555555555556, \"#d8576b\"], [0.6666666666666666, \"#ed7953\"], [0.7777777777777778, \"#fb9f3a\"], [0.8888888888888888, \"#fdca26\"], [1.0, \"#f0f921\"]]}, \"colorway\": [\"#636efa\", \"#EF553B\", \"#00cc96\", \"#ab63fa\", \"#FFA15A\", \"#19d3f3\", \"#FF6692\", \"#B6E880\", \"#FF97FF\", \"#FECB52\"], \"font\": {\"color\": \"#2a3f5f\"}, \"geo\": {\"bgcolor\": \"white\", \"lakecolor\": \"white\", \"landcolor\": \"#E5ECF6\", \"showlakes\": true, \"showland\": true, \"subunitcolor\": \"white\"}, \"hoverlabel\": {\"align\": \"left\"}, \"hovermode\": \"closest\", \"mapbox\": {\"style\": \"light\"}, \"paper_bgcolor\": \"white\", \"plot_bgcolor\": \"#E5ECF6\", \"polar\": {\"angularaxis\": {\"gridcolor\": \"white\", \"linecolor\": \"white\", \"ticks\": \"\"}, \"bgcolor\": \"#E5ECF6\", \"radialaxis\": {\"gridcolor\": \"white\", \"linecolor\": \"white\", \"ticks\": \"\"}}, \"scene\": {\"xaxis\": {\"backgroundcolor\": \"#E5ECF6\", \"gridcolor\": \"white\", \"gridwidth\": 2, \"linecolor\": \"white\", \"showbackground\": true, \"ticks\": \"\", \"zerolinecolor\": \"white\"}, \"yaxis\": {\"backgroundcolor\": \"#E5ECF6\", \"gridcolor\": \"white\", \"gridwidth\": 2, \"linecolor\": \"white\", \"showbackground\": true, \"ticks\": \"\", \"zerolinecolor\": \"white\"}, \"zaxis\": {\"backgroundcolor\": \"#E5ECF6\", \"gridcolor\": \"white\", \"gridwidth\": 2, \"linecolor\": \"white\", \"showbackground\": true, \"ticks\": \"\", \"zerolinecolor\": \"white\"}}, \"shapedefaults\": {\"line\": {\"color\": \"#2a3f5f\"}}, \"ternary\": {\"aaxis\": {\"gridcolor\": \"white\", \"linecolor\": \"white\", \"ticks\": \"\"}, \"baxis\": {\"gridcolor\": \"white\", \"linecolor\": \"white\", \"ticks\": \"\"}, \"bgcolor\": \"#E5ECF6\", \"caxis\": {\"gridcolor\": \"white\", \"linecolor\": \"white\", \"ticks\": \"\"}}, \"title\": {\"x\": 0.05}, \"xaxis\": {\"automargin\": true, \"gridcolor\": \"white\", \"linecolor\": \"white\", \"ticks\": \"\", \"title\": {\"standoff\": 15}, \"zerolinecolor\": \"white\", \"zerolinewidth\": 2}, \"yaxis\": {\"automargin\": true, \"gridcolor\": \"white\", \"linecolor\": \"white\", \"ticks\": \"\", \"title\": {\"standoff\": 15}, \"zerolinecolor\": \"white\", \"zerolinewidth\": 2}}}, \"title\": {\"text\": \"10 highest topic counts\"}, \"xaxis\": {\"anchor\": \"y\", \"domain\": [0.0, 1.0], \"title\": {\"text\": \"Topic number\"}, \"type\": \"category\"}, \"yaxis\": {\"anchor\": \"x\", \"domain\": [0.0, 1.0], \"title\": {\"text\": \"Count\"}}},                        {\"responsive\": true}                    ).then(function(){\n",
       "                            \n",
       "var gd = document.getElementById('1a002f1d-c51c-49ab-9a11-440523bf5551');\n",
       "var x = new MutationObserver(function (mutations, observer) {{\n",
       "        var display = window.getComputedStyle(gd).display;\n",
       "        if (!display || display === 'none') {{\n",
       "            console.log([gd, 'removed!']);\n",
       "            Plotly.purge(gd);\n",
       "            observer.disconnect();\n",
       "        }}\n",
       "}});\n",
       "\n",
       "// Listen for the removal of the full notebook cells\n",
       "var notebookContainer = gd.closest('#notebook-container');\n",
       "if (notebookContainer) {{\n",
       "    x.observe(notebookContainer, {childList: true});\n",
       "}}\n",
       "\n",
       "// Listen for the clearing of the current output cell\n",
       "var outputEl = gd.closest('.output');\n",
       "if (outputEl) {{\n",
       "    x.observe(outputEl, {childList: true});\n",
       "}}\n",
       "\n",
       "                        })                };                });            </script>        </div>"
      ]
     },
     "metadata": {},
     "output_type": "display_data"
    }
   ],
   "source": [
    "fig = px.bar(out_sorted.head(10), x='topic', y=out.columns[0], text=\"top words\", title='10 highest topic counts')\n",
    "fig.update_layout(xaxis=dict(type='category'),\n",
    "                  xaxis_title=\"Topic number\",\n",
    "                  yaxis_title=\"Count\")\n",
    "fig.show()"
   ]
  },
  {
   "cell_type": "code",
   "execution_count": 34,
   "metadata": {},
   "outputs": [
    {
     "data": {
      "text/plain": [
       "(36, 512)"
      ]
     },
     "execution_count": 34,
     "metadata": {},
     "output_type": "execute_result"
    }
   ],
   "source": [
    "model_distilBert._deduplicate_topics()\n",
    "model_distilBert.topic_vectors.shape"
   ]
  },
  {
   "cell_type": "code",
   "execution_count": 35,
   "metadata": {},
   "outputs": [
    {
     "data": {
      "text/plain": [
       "36"
      ]
     },
     "execution_count": 35,
     "metadata": {},
     "output_type": "execute_result"
    }
   ],
   "source": [
    "model_distilBert.get_num_topics()"
   ]
  },
  {
   "cell_type": "markdown",
   "metadata": {},
   "source": [
    "## Update model"
   ]
  },
  {
   "cell_type": "code",
   "execution_count": 262,
   "metadata": {},
   "outputs": [
    {
     "name": "stderr",
     "output_type": "stream",
     "text": [
      "2020-12-17 17:39:48,537 - top2vec - INFO - Pre-processing documents for training\n",
      "2020-12-17 17:39:48,537 - top2vec - INFO - Pre-processing documents for training\n",
      "2020-12-17 17:39:48,537 - top2vec - INFO - Pre-processing documents for training\n",
      "2020-12-17 17:39:48,537 - top2vec - INFO - Pre-processing documents for training\n",
      "2020-12-17 17:39:48,537 - top2vec - INFO - Pre-processing documents for training\n",
      "2020-12-17 17:39:48,537 - top2vec - INFO - Pre-processing documents for training\n",
      "2020-12-17 17:39:48,537 - top2vec - INFO - Pre-processing documents for training\n",
      "2020-12-17 17:39:48,537 - top2vec - INFO - Pre-processing documents for training\n",
      "2020-12-17 17:39:48,537 - top2vec - INFO - Pre-processing documents for training\n",
      "2020-12-17 17:39:48,537 - top2vec - INFO - Pre-processing documents for training\n",
      "2020-12-17 17:39:48,537 - top2vec - INFO - Pre-processing documents for training\n",
      "2020-12-17 17:39:48,537 - top2vec - INFO - Pre-processing documents for training\n",
      "2020-12-17 17:39:48,537 - top2vec - INFO - Pre-processing documents for training\n",
      "2020-12-17 17:39:48,537 - top2vec - INFO - Pre-processing documents for training\n",
      "2020-12-17 17:39:48,537 - top2vec - INFO - Pre-processing documents for training\n",
      "2020-12-17 17:39:48,537 - top2vec - INFO - Pre-processing documents for training\n",
      "2020-12-17 17:39:48,537 - top2vec - INFO - Pre-processing documents for training\n",
      "2020-12-17 17:39:48,537 - top2vec - INFO - Pre-processing documents for training\n",
      "2020-12-17 17:39:48,537 - top2vec - INFO - Pre-processing documents for training\n",
      "2020-12-17 17:39:48,537 - top2vec - INFO - Pre-processing documents for training\n",
      "2020-12-17 17:39:48,537 - top2vec - INFO - Pre-processing documents for training\n",
      "2020-12-17 17:39:48,537 - top2vec - INFO - Pre-processing documents for training\n",
      "2020-12-17 17:39:48,537 - top2vec - INFO - Pre-processing documents for training\n",
      "2020-12-17 17:39:48,537 - top2vec - INFO - Pre-processing documents for training\n",
      "2020-12-17 17:39:48,537 - top2vec - INFO - Pre-processing documents for training\n",
      "2020-12-17 17:39:48,537 - top2vec - INFO - Pre-processing documents for training\n",
      "2020-12-17 17:39:48,537 - top2vec - INFO - Pre-processing documents for training\n",
      "2020-12-17 17:39:48,537 - top2vec - INFO - Pre-processing documents for training\n",
      "2020-12-17 17:39:48,537 - top2vec - INFO - Pre-processing documents for training\n",
      "2020-12-17 17:39:48,537 - top2vec - INFO - Pre-processing documents for training\n",
      "2020-12-17 17:39:48,537 - top2vec - INFO - Pre-processing documents for training\n",
      "2020-12-17 17:39:48,537 - top2vec - INFO - Pre-processing documents for training\n",
      "2020-12-17 17:39:48,537 - top2vec - INFO - Pre-processing documents for training\n",
      "2020-12-17 17:39:48,537 - top2vec - INFO - Pre-processing documents for training\n",
      "2020-12-17 17:39:48,537 - top2vec - INFO - Pre-processing documents for training\n",
      "INFO:top2vec:Pre-processing documents for training\n",
      "2020-12-17 17:40:59,406 - top2vec - INFO - Creating lower dimension embedding of documents\n",
      "2020-12-17 17:40:59,406 - top2vec - INFO - Creating lower dimension embedding of documents\n",
      "2020-12-17 17:40:59,406 - top2vec - INFO - Creating lower dimension embedding of documents\n",
      "2020-12-17 17:40:59,406 - top2vec - INFO - Creating lower dimension embedding of documents\n",
      "2020-12-17 17:40:59,406 - top2vec - INFO - Creating lower dimension embedding of documents\n",
      "2020-12-17 17:40:59,406 - top2vec - INFO - Creating lower dimension embedding of documents\n",
      "2020-12-17 17:40:59,406 - top2vec - INFO - Creating lower dimension embedding of documents\n",
      "2020-12-17 17:40:59,406 - top2vec - INFO - Creating lower dimension embedding of documents\n",
      "2020-12-17 17:40:59,406 - top2vec - INFO - Creating lower dimension embedding of documents\n",
      "2020-12-17 17:40:59,406 - top2vec - INFO - Creating lower dimension embedding of documents\n",
      "2020-12-17 17:40:59,406 - top2vec - INFO - Creating lower dimension embedding of documents\n",
      "2020-12-17 17:40:59,406 - top2vec - INFO - Creating lower dimension embedding of documents\n",
      "2020-12-17 17:40:59,406 - top2vec - INFO - Creating lower dimension embedding of documents\n",
      "2020-12-17 17:40:59,406 - top2vec - INFO - Creating lower dimension embedding of documents\n",
      "2020-12-17 17:40:59,406 - top2vec - INFO - Creating lower dimension embedding of documents\n",
      "2020-12-17 17:40:59,406 - top2vec - INFO - Creating lower dimension embedding of documents\n",
      "2020-12-17 17:40:59,406 - top2vec - INFO - Creating lower dimension embedding of documents\n",
      "2020-12-17 17:40:59,406 - top2vec - INFO - Creating lower dimension embedding of documents\n",
      "2020-12-17 17:40:59,406 - top2vec - INFO - Creating lower dimension embedding of documents\n",
      "2020-12-17 17:40:59,406 - top2vec - INFO - Creating lower dimension embedding of documents\n",
      "2020-12-17 17:40:59,406 - top2vec - INFO - Creating lower dimension embedding of documents\n",
      "2020-12-17 17:40:59,406 - top2vec - INFO - Creating lower dimension embedding of documents\n",
      "2020-12-17 17:40:59,406 - top2vec - INFO - Creating lower dimension embedding of documents\n",
      "2020-12-17 17:40:59,406 - top2vec - INFO - Creating lower dimension embedding of documents\n",
      "2020-12-17 17:40:59,406 - top2vec - INFO - Creating lower dimension embedding of documents\n",
      "2020-12-17 17:40:59,406 - top2vec - INFO - Creating lower dimension embedding of documents\n",
      "2020-12-17 17:40:59,406 - top2vec - INFO - Creating lower dimension embedding of documents\n",
      "2020-12-17 17:40:59,406 - top2vec - INFO - Creating lower dimension embedding of documents\n",
      "2020-12-17 17:40:59,406 - top2vec - INFO - Creating lower dimension embedding of documents\n",
      "2020-12-17 17:40:59,406 - top2vec - INFO - Creating lower dimension embedding of documents\n",
      "2020-12-17 17:40:59,406 - top2vec - INFO - Creating lower dimension embedding of documents\n",
      "2020-12-17 17:40:59,406 - top2vec - INFO - Creating lower dimension embedding of documents\n",
      "2020-12-17 17:40:59,406 - top2vec - INFO - Creating lower dimension embedding of documents\n",
      "2020-12-17 17:40:59,406 - top2vec - INFO - Creating lower dimension embedding of documents\n",
      "2020-12-17 17:40:59,406 - top2vec - INFO - Creating lower dimension embedding of documents\n",
      "INFO:top2vec:Creating lower dimension embedding of documents\n",
      "2020-12-17 17:40:59,489 - top2vec - INFO - Creating lower dimension embedding of documents\n",
      "2020-12-17 17:40:59,489 - top2vec - INFO - Creating lower dimension embedding of documents\n",
      "2020-12-17 17:40:59,489 - top2vec - INFO - Creating lower dimension embedding of documents\n",
      "2020-12-17 17:40:59,489 - top2vec - INFO - Creating lower dimension embedding of documents\n",
      "2020-12-17 17:40:59,489 - top2vec - INFO - Creating lower dimension embedding of documents\n",
      "2020-12-17 17:40:59,489 - top2vec - INFO - Creating lower dimension embedding of documents\n",
      "2020-12-17 17:40:59,489 - top2vec - INFO - Creating lower dimension embedding of documents\n",
      "2020-12-17 17:40:59,489 - top2vec - INFO - Creating lower dimension embedding of documents\n",
      "2020-12-17 17:40:59,489 - top2vec - INFO - Creating lower dimension embedding of documents\n",
      "2020-12-17 17:40:59,489 - top2vec - INFO - Creating lower dimension embedding of documents\n",
      "2020-12-17 17:40:59,489 - top2vec - INFO - Creating lower dimension embedding of documents\n",
      "2020-12-17 17:40:59,489 - top2vec - INFO - Creating lower dimension embedding of documents\n",
      "2020-12-17 17:40:59,489 - top2vec - INFO - Creating lower dimension embedding of documents\n",
      "2020-12-17 17:40:59,489 - top2vec - INFO - Creating lower dimension embedding of documents\n",
      "2020-12-17 17:40:59,489 - top2vec - INFO - Creating lower dimension embedding of documents\n",
      "2020-12-17 17:40:59,489 - top2vec - INFO - Creating lower dimension embedding of documents\n",
      "2020-12-17 17:40:59,489 - top2vec - INFO - Creating lower dimension embedding of documents\n",
      "2020-12-17 17:40:59,489 - top2vec - INFO - Creating lower dimension embedding of documents\n",
      "2020-12-17 17:40:59,489 - top2vec - INFO - Creating lower dimension embedding of documents\n",
      "2020-12-17 17:40:59,489 - top2vec - INFO - Creating lower dimension embedding of documents\n",
      "2020-12-17 17:40:59,489 - top2vec - INFO - Creating lower dimension embedding of documents\n",
      "2020-12-17 17:40:59,489 - top2vec - INFO - Creating lower dimension embedding of documents\n",
      "2020-12-17 17:40:59,489 - top2vec - INFO - Creating lower dimension embedding of documents\n"
     ]
    },
    {
     "name": "stderr",
     "output_type": "stream",
     "text": [
      "2020-12-17 17:40:59,489 - top2vec - INFO - Creating lower dimension embedding of documents\n",
      "2020-12-17 17:40:59,489 - top2vec - INFO - Creating lower dimension embedding of documents\n",
      "2020-12-17 17:40:59,489 - top2vec - INFO - Creating lower dimension embedding of documents\n",
      "2020-12-17 17:40:59,489 - top2vec - INFO - Creating lower dimension embedding of documents\n",
      "2020-12-17 17:40:59,489 - top2vec - INFO - Creating lower dimension embedding of documents\n",
      "2020-12-17 17:40:59,489 - top2vec - INFO - Creating lower dimension embedding of documents\n",
      "2020-12-17 17:40:59,489 - top2vec - INFO - Creating lower dimension embedding of documents\n",
      "2020-12-17 17:40:59,489 - top2vec - INFO - Creating lower dimension embedding of documents\n",
      "2020-12-17 17:40:59,489 - top2vec - INFO - Creating lower dimension embedding of documents\n",
      "2020-12-17 17:40:59,489 - top2vec - INFO - Creating lower dimension embedding of documents\n",
      "2020-12-17 17:40:59,489 - top2vec - INFO - Creating lower dimension embedding of documents\n",
      "2020-12-17 17:40:59,489 - top2vec - INFO - Creating lower dimension embedding of documents\n",
      "INFO:top2vec:Creating lower dimension embedding of documents\n",
      "2020-12-17 17:42:28,665 - top2vec - INFO - Finding dense areas of documents\n",
      "2020-12-17 17:42:28,665 - top2vec - INFO - Finding dense areas of documents\n",
      "2020-12-17 17:42:28,665 - top2vec - INFO - Finding dense areas of documents\n",
      "2020-12-17 17:42:28,665 - top2vec - INFO - Finding dense areas of documents\n",
      "2020-12-17 17:42:28,665 - top2vec - INFO - Finding dense areas of documents\n",
      "2020-12-17 17:42:28,665 - top2vec - INFO - Finding dense areas of documents\n",
      "2020-12-17 17:42:28,665 - top2vec - INFO - Finding dense areas of documents\n",
      "2020-12-17 17:42:28,665 - top2vec - INFO - Finding dense areas of documents\n",
      "2020-12-17 17:42:28,665 - top2vec - INFO - Finding dense areas of documents\n",
      "2020-12-17 17:42:28,665 - top2vec - INFO - Finding dense areas of documents\n",
      "2020-12-17 17:42:28,665 - top2vec - INFO - Finding dense areas of documents\n",
      "2020-12-17 17:42:28,665 - top2vec - INFO - Finding dense areas of documents\n",
      "2020-12-17 17:42:28,665 - top2vec - INFO - Finding dense areas of documents\n",
      "2020-12-17 17:42:28,665 - top2vec - INFO - Finding dense areas of documents\n",
      "2020-12-17 17:42:28,665 - top2vec - INFO - Finding dense areas of documents\n",
      "2020-12-17 17:42:28,665 - top2vec - INFO - Finding dense areas of documents\n",
      "2020-12-17 17:42:28,665 - top2vec - INFO - Finding dense areas of documents\n",
      "2020-12-17 17:42:28,665 - top2vec - INFO - Finding dense areas of documents\n",
      "2020-12-17 17:42:28,665 - top2vec - INFO - Finding dense areas of documents\n",
      "2020-12-17 17:42:28,665 - top2vec - INFO - Finding dense areas of documents\n",
      "2020-12-17 17:42:28,665 - top2vec - INFO - Finding dense areas of documents\n",
      "2020-12-17 17:42:28,665 - top2vec - INFO - Finding dense areas of documents\n",
      "2020-12-17 17:42:28,665 - top2vec - INFO - Finding dense areas of documents\n",
      "2020-12-17 17:42:28,665 - top2vec - INFO - Finding dense areas of documents\n",
      "2020-12-17 17:42:28,665 - top2vec - INFO - Finding dense areas of documents\n",
      "2020-12-17 17:42:28,665 - top2vec - INFO - Finding dense areas of documents\n",
      "2020-12-17 17:42:28,665 - top2vec - INFO - Finding dense areas of documents\n",
      "2020-12-17 17:42:28,665 - top2vec - INFO - Finding dense areas of documents\n",
      "2020-12-17 17:42:28,665 - top2vec - INFO - Finding dense areas of documents\n",
      "2020-12-17 17:42:28,665 - top2vec - INFO - Finding dense areas of documents\n",
      "2020-12-17 17:42:28,665 - top2vec - INFO - Finding dense areas of documents\n",
      "2020-12-17 17:42:28,665 - top2vec - INFO - Finding dense areas of documents\n",
      "2020-12-17 17:42:28,665 - top2vec - INFO - Finding dense areas of documents\n",
      "2020-12-17 17:42:28,665 - top2vec - INFO - Finding dense areas of documents\n",
      "2020-12-17 17:42:28,665 - top2vec - INFO - Finding dense areas of documents\n",
      "INFO:top2vec:Finding dense areas of documents\n",
      "2020-12-17 17:42:28,717 - top2vec - INFO - Finding dense areas of documents\n",
      "2020-12-17 17:42:28,717 - top2vec - INFO - Finding dense areas of documents\n",
      "2020-12-17 17:42:28,717 - top2vec - INFO - Finding dense areas of documents\n",
      "2020-12-17 17:42:28,717 - top2vec - INFO - Finding dense areas of documents\n",
      "2020-12-17 17:42:28,717 - top2vec - INFO - Finding dense areas of documents\n",
      "2020-12-17 17:42:28,717 - top2vec - INFO - Finding dense areas of documents\n",
      "2020-12-17 17:42:28,717 - top2vec - INFO - Finding dense areas of documents\n",
      "2020-12-17 17:42:28,717 - top2vec - INFO - Finding dense areas of documents\n",
      "2020-12-17 17:42:28,717 - top2vec - INFO - Finding dense areas of documents\n",
      "2020-12-17 17:42:28,717 - top2vec - INFO - Finding dense areas of documents\n",
      "2020-12-17 17:42:28,717 - top2vec - INFO - Finding dense areas of documents\n",
      "2020-12-17 17:42:28,717 - top2vec - INFO - Finding dense areas of documents\n",
      "2020-12-17 17:42:28,717 - top2vec - INFO - Finding dense areas of documents\n",
      "2020-12-17 17:42:28,717 - top2vec - INFO - Finding dense areas of documents\n",
      "2020-12-17 17:42:28,717 - top2vec - INFO - Finding dense areas of documents\n",
      "2020-12-17 17:42:28,717 - top2vec - INFO - Finding dense areas of documents\n",
      "2020-12-17 17:42:28,717 - top2vec - INFO - Finding dense areas of documents\n",
      "2020-12-17 17:42:28,717 - top2vec - INFO - Finding dense areas of documents\n",
      "2020-12-17 17:42:28,717 - top2vec - INFO - Finding dense areas of documents\n",
      "2020-12-17 17:42:28,717 - top2vec - INFO - Finding dense areas of documents\n",
      "2020-12-17 17:42:28,717 - top2vec - INFO - Finding dense areas of documents\n",
      "2020-12-17 17:42:28,717 - top2vec - INFO - Finding dense areas of documents\n",
      "2020-12-17 17:42:28,717 - top2vec - INFO - Finding dense areas of documents\n",
      "2020-12-17 17:42:28,717 - top2vec - INFO - Finding dense areas of documents\n",
      "2020-12-17 17:42:28,717 - top2vec - INFO - Finding dense areas of documents\n",
      "2020-12-17 17:42:28,717 - top2vec - INFO - Finding dense areas of documents\n",
      "2020-12-17 17:42:28,717 - top2vec - INFO - Finding dense areas of documents\n",
      "2020-12-17 17:42:28,717 - top2vec - INFO - Finding dense areas of documents\n",
      "2020-12-17 17:42:28,717 - top2vec - INFO - Finding dense areas of documents\n",
      "2020-12-17 17:42:28,717 - top2vec - INFO - Finding dense areas of documents\n",
      "2020-12-17 17:42:28,717 - top2vec - INFO - Finding dense areas of documents\n",
      "2020-12-17 17:42:28,717 - top2vec - INFO - Finding dense areas of documents\n",
      "2020-12-17 17:42:28,717 - top2vec - INFO - Finding dense areas of documents\n",
      "2020-12-17 17:42:28,717 - top2vec - INFO - Finding dense areas of documents\n",
      "2020-12-17 17:42:28,717 - top2vec - INFO - Finding dense areas of documents\n",
      "INFO:top2vec:Finding dense areas of documents\n",
      "2020-12-17 17:42:30,918 - top2vec - INFO - Finding topics\n",
      "2020-12-17 17:42:30,918 - top2vec - INFO - Finding topics\n",
      "2020-12-17 17:42:30,918 - top2vec - INFO - Finding topics\n",
      "2020-12-17 17:42:30,918 - top2vec - INFO - Finding topics\n",
      "2020-12-17 17:42:30,918 - top2vec - INFO - Finding topics\n",
      "2020-12-17 17:42:30,918 - top2vec - INFO - Finding topics\n",
      "2020-12-17 17:42:30,918 - top2vec - INFO - Finding topics\n",
      "2020-12-17 17:42:30,918 - top2vec - INFO - Finding topics\n",
      "2020-12-17 17:42:30,918 - top2vec - INFO - Finding topics\n",
      "2020-12-17 17:42:30,918 - top2vec - INFO - Finding topics\n",
      "2020-12-17 17:42:30,918 - top2vec - INFO - Finding topics\n",
      "2020-12-17 17:42:30,918 - top2vec - INFO - Finding topics\n",
      "2020-12-17 17:42:30,918 - top2vec - INFO - Finding topics\n",
      "2020-12-17 17:42:30,918 - top2vec - INFO - Finding topics\n",
      "2020-12-17 17:42:30,918 - top2vec - INFO - Finding topics\n",
      "2020-12-17 17:42:30,918 - top2vec - INFO - Finding topics\n",
      "2020-12-17 17:42:30,918 - top2vec - INFO - Finding topics\n",
      "2020-12-17 17:42:30,918 - top2vec - INFO - Finding topics\n",
      "2020-12-17 17:42:30,918 - top2vec - INFO - Finding topics\n",
      "2020-12-17 17:42:30,918 - top2vec - INFO - Finding topics\n",
      "2020-12-17 17:42:30,918 - top2vec - INFO - Finding topics\n",
      "2020-12-17 17:42:30,918 - top2vec - INFO - Finding topics\n",
      "2020-12-17 17:42:30,918 - top2vec - INFO - Finding topics\n",
      "2020-12-17 17:42:30,918 - top2vec - INFO - Finding topics\n",
      "2020-12-17 17:42:30,918 - top2vec - INFO - Finding topics\n",
      "2020-12-17 17:42:30,918 - top2vec - INFO - Finding topics\n",
      "2020-12-17 17:42:30,918 - top2vec - INFO - Finding topics\n",
      "2020-12-17 17:42:30,918 - top2vec - INFO - Finding topics\n",
      "2020-12-17 17:42:30,918 - top2vec - INFO - Finding topics\n"
     ]
    },
    {
     "name": "stderr",
     "output_type": "stream",
     "text": [
      "2020-12-17 17:42:30,918 - top2vec - INFO - Finding topics\n",
      "2020-12-17 17:42:30,918 - top2vec - INFO - Finding topics\n",
      "2020-12-17 17:42:30,918 - top2vec - INFO - Finding topics\n",
      "2020-12-17 17:42:30,918 - top2vec - INFO - Finding topics\n",
      "2020-12-17 17:42:30,918 - top2vec - INFO - Finding topics\n",
      "2020-12-17 17:42:30,918 - top2vec - INFO - Finding topics\n",
      "INFO:top2vec:Finding topics\n"
     ]
    }
   ],
   "source": [
    "model_distilBert.n_components = 5\n",
    "model_distilBert.ngram_range = (1,4)\n",
    "model_distilBert._update_steps(documents=paragraphs, step=1)"
   ]
  },
  {
   "cell_type": "code",
   "execution_count": 263,
   "metadata": {},
   "outputs": [
    {
     "data": {
      "text/html": [
       "<div>\n",
       "<style scoped>\n",
       "    .dataframe tbody tr th:only-of-type {\n",
       "        vertical-align: middle;\n",
       "    }\n",
       "\n",
       "    .dataframe tbody tr th {\n",
       "        vertical-align: top;\n",
       "    }\n",
       "\n",
       "    .dataframe thead th {\n",
       "        text-align: right;\n",
       "    }\n",
       "</style>\n",
       "<table border=\"1\" class=\"dataframe\">\n",
       "  <thead>\n",
       "    <tr style=\"text-align: right;\">\n",
       "      <th></th>\n",
       "      <th>0</th>\n",
       "      <th>1</th>\n",
       "      <th>2</th>\n",
       "      <th>3</th>\n",
       "      <th>4</th>\n",
       "      <th>5</th>\n",
       "      <th>6</th>\n",
       "      <th>7</th>\n",
       "      <th>8</th>\n",
       "      <th>9</th>\n",
       "      <th>size</th>\n",
       "    </tr>\n",
       "  </thead>\n",
       "  <tbody>\n",
       "    <tr>\n",
       "      <th>0</th>\n",
       "      <td>energy use carbon emissions</td>\n",
       "      <td>energy use carbon</td>\n",
       "      <td>energy carbon</td>\n",
       "      <td>energy savings</td>\n",
       "      <td>use carbon emissions</td>\n",
       "      <td>energy use kwh</td>\n",
       "      <td>energy consumption</td>\n",
       "      <td>energy efficient lighting</td>\n",
       "      <td>store electricity use</td>\n",
       "      <td>energy usage</td>\n",
       "      <td>320</td>\n",
       "    </tr>\n",
       "    <tr>\n",
       "      <th>1</th>\n",
       "      <td>environmental stewardship social responsibility</td>\n",
       "      <td>corporate responsibility report environmental</td>\n",
       "      <td>responsibility ethics governance environmental</td>\n",
       "      <td>social responsibility report environment</td>\n",
       "      <td>responsibility report environment continued</td>\n",
       "      <td>responsibility report environmental stewardship</td>\n",
       "      <td>responsibility report environmental</td>\n",
       "      <td>corporate overview environmental stewardship</td>\n",
       "      <td>responsibility environmental</td>\n",
       "      <td>stewardship social responsibility ethics</td>\n",
       "      <td>250</td>\n",
       "    </tr>\n",
       "    <tr>\n",
       "      <th>2</th>\n",
       "      <td>water waste</td>\n",
       "      <td>energy water waste</td>\n",
       "      <td>water conservation</td>\n",
       "      <td>water usage</td>\n",
       "      <td>water efficiency</td>\n",
       "      <td>waste recycling</td>\n",
       "      <td>establishment environmental assessment</td>\n",
       "      <td>environmental management</td>\n",
       "      <td>low environmental impact</td>\n",
       "      <td>waste management</td>\n",
       "      <td>179</td>\n",
       "    </tr>\n",
       "    <tr>\n",
       "      <th>3</th>\n",
       "      <td>energy use carbon emissions</td>\n",
       "      <td>energy use carbon</td>\n",
       "      <td>use carbon emissions</td>\n",
       "      <td>reduce carbon</td>\n",
       "      <td>carbon pollution</td>\n",
       "      <td>carbon dioxide emissions</td>\n",
       "      <td>energy carbon</td>\n",
       "      <td>carbon emissions</td>\n",
       "      <td>emissions carbon</td>\n",
       "      <td>carbon reduction commitment</td>\n",
       "      <td>174</td>\n",
       "    </tr>\n",
       "    <tr>\n",
       "      <th>4</th>\n",
       "      <td>sustainable building certifications</td>\n",
       "      <td>building certifications</td>\n",
       "      <td>energy performance certificates</td>\n",
       "      <td>green building</td>\n",
       "      <td>green building council</td>\n",
       "      <td>leed certification</td>\n",
       "      <td>report environment continued</td>\n",
       "      <td>leed certified</td>\n",
       "      <td>sustainable building</td>\n",
       "      <td>green roof</td>\n",
       "      <td>171</td>\n",
       "    </tr>\n",
       "    <tr>\n",
       "      <th>5</th>\n",
       "      <td>independent assurance report</td>\n",
       "      <td>assurance report</td>\n",
       "      <td>page independent assurance report</td>\n",
       "      <td>responsibility report continued</td>\n",
       "      <td>responsibility report environment continued</td>\n",
       "      <td>responsibility report corporate overview</td>\n",
       "      <td>data reviewed deloitte llp</td>\n",
       "      <td>prologis corporate responsibility report</td>\n",
       "      <td>data reviewed deloitte</td>\n",
       "      <td>responsibility report environmental stewardship</td>\n",
       "      <td>161</td>\n",
       "    </tr>\n",
       "    <tr>\n",
       "      <th>6</th>\n",
       "      <td>charitable organizations</td>\n",
       "      <td>volunteers</td>\n",
       "      <td>nonprofit organizations</td>\n",
       "      <td>volunteering</td>\n",
       "      <td>volunteer hours</td>\n",
       "      <td>donations</td>\n",
       "      <td>donation</td>\n",
       "      <td>volunteerism</td>\n",
       "      <td>volunteer</td>\n",
       "      <td>charities</td>\n",
       "      <td>159</td>\n",
       "    </tr>\n",
       "    <tr>\n",
       "      <th>7</th>\n",
       "      <td>big yellow self storage</td>\n",
       "      <td>big yellow group plc</td>\n",
       "      <td>yellow group plc corporate</td>\n",
       "      <td>yellow self storage</td>\n",
       "      <td>year big yellow</td>\n",
       "      <td>big yellow self</td>\n",
       "      <td>big yellow group</td>\n",
       "      <td>yellow group plc</td>\n",
       "      <td>big yellow</td>\n",
       "      <td>big yellow construction</td>\n",
       "      <td>145</td>\n",
       "    </tr>\n",
       "    <tr>\n",
       "      <th>8</th>\n",
       "      <td>energy efficient lighting</td>\n",
       "      <td>energy efficient led</td>\n",
       "      <td>energy efficiency</td>\n",
       "      <td>energy efficient</td>\n",
       "      <td>efficient lighting</td>\n",
       "      <td>renewable energy initiatives</td>\n",
       "      <td>portfolio energy</td>\n",
       "      <td>renewable energy</td>\n",
       "      <td>energy savings</td>\n",
       "      <td>renewable energy generation</td>\n",
       "      <td>137</td>\n",
       "    </tr>\n",
       "    <tr>\n",
       "      <th>9</th>\n",
       "      <td>report environmental performance page</td>\n",
       "      <td>report environmental stewardship page</td>\n",
       "      <td>report corporate overview environmental</td>\n",
       "      <td>esg report environmental performance</td>\n",
       "      <td>report environmental performance</td>\n",
       "      <td>governance gri content index</td>\n",
       "      <td>corporate responsibility report environmental</td>\n",
       "      <td>report environmental stewardship</td>\n",
       "      <td>governance environmental stewardship approach</td>\n",
       "      <td>defining report content</td>\n",
       "      <td>124</td>\n",
       "    </tr>\n",
       "    <tr>\n",
       "      <th>10</th>\n",
       "      <td>rooftop solar installations</td>\n",
       "      <td>rooftop solar</td>\n",
       "      <td>solar electricity generation</td>\n",
       "      <td>solar energy</td>\n",
       "      <td>solar electricity</td>\n",
       "      <td>solar installations</td>\n",
       "      <td>solar panels</td>\n",
       "      <td>solar generation</td>\n",
       "      <td>solar pv</td>\n",
       "      <td>mw solar</td>\n",
       "      <td>107</td>\n",
       "    </tr>\n",
       "    <tr>\n",
       "      <th>11</th>\n",
       "      <td>esg report environmental performance</td>\n",
       "      <td>report environmental performance</td>\n",
       "      <td>report corporate overview environmental</td>\n",
       "      <td>report environmental performance page</td>\n",
       "      <td>corporate responsibility report environmental</td>\n",
       "      <td>report environment continued</td>\n",
       "      <td>esg report environmental</td>\n",
       "      <td>report environmental stewardship</td>\n",
       "      <td>responsibility report environment continued</td>\n",
       "      <td>report environmental</td>\n",
       "      <td>106</td>\n",
       "    </tr>\n",
       "    <tr>\n",
       "      <th>12</th>\n",
       "      <td>alexandria real estate</td>\n",
       "      <td>alexandria real estate equities</td>\n",
       "      <td>alexandrias corporate</td>\n",
       "      <td>alexandria real</td>\n",
       "      <td>alexandria</td>\n",
       "      <td>health safety performance</td>\n",
       "      <td>alexandrias</td>\n",
       "      <td>health wellness</td>\n",
       "      <td>charitable organizations</td>\n",
       "      <td>nonprofit organizations</td>\n",
       "      <td>101</td>\n",
       "    </tr>\n",
       "    <tr>\n",
       "      <th>13</th>\n",
       "      <td>global real estate</td>\n",
       "      <td>real estate equities corporate</td>\n",
       "      <td>real estate investment</td>\n",
       "      <td>global real estate sustainability</td>\n",
       "      <td>property management</td>\n",
       "      <td>real estate company</td>\n",
       "      <td>estate investment</td>\n",
       "      <td>real estate equities</td>\n",
       "      <td>industrial real estate</td>\n",
       "      <td>assets management</td>\n",
       "      <td>101</td>\n",
       "    </tr>\n",
       "    <tr>\n",
       "      <th>14</th>\n",
       "      <td>big yellow foundation</td>\n",
       "      <td>yellow foundation</td>\n",
       "      <td>year big yellow</td>\n",
       "      <td>big yellow group plc</td>\n",
       "      <td>big yellow construction</td>\n",
       "      <td>big yellow group</td>\n",
       "      <td>big yellow</td>\n",
       "      <td>yellow group plc corporate</td>\n",
       "      <td>big yellow self storage</td>\n",
       "      <td>big yellows</td>\n",
       "      <td>94</td>\n",
       "    </tr>\n",
       "    <tr>\n",
       "      <th>15</th>\n",
       "      <td>report corporate overview environmental</td>\n",
       "      <td>corporate responsibility report environmental</td>\n",
       "      <td>esg report environmental performance</td>\n",
       "      <td>report environmental performance</td>\n",
       "      <td>report environmental performance page</td>\n",
       "      <td>esg impact report</td>\n",
       "      <td>responsibility report corporate overview</td>\n",
       "      <td>report corporate overview</td>\n",
       "      <td>report environmental stewardship</td>\n",
       "      <td>equities corporate responsibility report</td>\n",
       "      <td>90</td>\n",
       "    </tr>\n",
       "    <tr>\n",
       "      <th>16</th>\n",
       "      <td>investor relations</td>\n",
       "      <td>customers investors</td>\n",
       "      <td>corporate responsibility report environmental</td>\n",
       "      <td>prologis corporate responsibility report</td>\n",
       "      <td>responsibility report corporate overview</td>\n",
       "      <td>equities corporate responsibility report</td>\n",
       "      <td>social responsibility report environment</td>\n",
       "      <td>real estate investment</td>\n",
       "      <td>responsibility report environment continued</td>\n",
       "      <td>corporate social responsibility report</td>\n",
       "      <td>90</td>\n",
       "    </tr>\n",
       "    <tr>\n",
       "      <th>17</th>\n",
       "      <td>code ethics business conduct</td>\n",
       "      <td>code ethics business</td>\n",
       "      <td>ethics business conduct</td>\n",
       "      <td>code ethics</td>\n",
       "      <td>ethics business</td>\n",
       "      <td>ethical standards</td>\n",
       "      <td>ethics governance gri</td>\n",
       "      <td>ethics governance gri index</td>\n",
       "      <td>ethics governance environmental stewardship</td>\n",
       "      <td>responsibility ethics governance gri</td>\n",
       "      <td>82</td>\n",
       "    </tr>\n",
       "    <tr>\n",
       "      <th>18</th>\n",
       "      <td>waste recycling</td>\n",
       "      <td>waste landfill</td>\n",
       "      <td>recycling</td>\n",
       "      <td>waste management</td>\n",
       "      <td>store waste</td>\n",
       "      <td>construction waste</td>\n",
       "      <td>recycled</td>\n",
       "      <td>recycled content</td>\n",
       "      <td>waste</td>\n",
       "      <td>water waste</td>\n",
       "      <td>72</td>\n",
       "    </tr>\n",
       "    <tr>\n",
       "      <th>19</th>\n",
       "      <td>risk management</td>\n",
       "      <td>climate change</td>\n",
       "      <td>risks opportunities</td>\n",
       "      <td>dangerous occurrences</td>\n",
       "      <td>injuries diseases dangerous occurrences</td>\n",
       "      <td>extreme weather events</td>\n",
       "      <td>evaluation management approach</td>\n",
       "      <td>reporting injuries diseases dangerous</td>\n",
       "      <td>related risk</td>\n",
       "      <td>diseases dangerous occurrences</td>\n",
       "      <td>70</td>\n",
       "    </tr>\n",
       "    <tr>\n",
       "      <th>20</th>\n",
       "      <td>minor injuries number reportable</td>\n",
       "      <td>injuries number reportable injuries</td>\n",
       "      <td>minor injuries reportable injuries</td>\n",
       "      <td>number reportable injuries</td>\n",
       "      <td>minor injuries reportable</td>\n",
       "      <td>injuries number reportable</td>\n",
       "      <td>number reportable injuries riddor</td>\n",
       "      <td>number minor injuries</td>\n",
       "      <td>injuries reportable injuries</td>\n",
       "      <td>number minor injuries number</td>\n",
       "      <td>68</td>\n",
       "    </tr>\n",
       "    <tr>\n",
       "      <th>21</th>\n",
       "      <td>risk management</td>\n",
       "      <td>evaluation management approach</td>\n",
       "      <td>evaluation management</td>\n",
       "      <td>management approach components</td>\n",
       "      <td>related risk</td>\n",
       "      <td>management approach</td>\n",
       "      <td>dangerous occurrences</td>\n",
       "      <td>injuries diseases dangerous occurrences</td>\n",
       "      <td>risks opportunities</td>\n",
       "      <td>management reporting</td>\n",
       "      <td>68</td>\n",
       "    </tr>\n",
       "    <tr>\n",
       "      <th>22</th>\n",
       "      <td>training development</td>\n",
       "      <td>management team</td>\n",
       "      <td>career development</td>\n",
       "      <td>csr manager</td>\n",
       "      <td>development programme</td>\n",
       "      <td>manager</td>\n",
       "      <td>learning development</td>\n",
       "      <td>managers</td>\n",
       "      <td>senior management</td>\n",
       "      <td>time employees</td>\n",
       "      <td>66</td>\n",
       "    </tr>\n",
       "    <tr>\n",
       "      <th>23</th>\n",
       "      <td>energy use carbon emissions</td>\n",
       "      <td>energy use carbon</td>\n",
       "      <td>esg report environmental</td>\n",
       "      <td>use carbon emissions</td>\n",
       "      <td>report environmental</td>\n",
       "      <td>report corporate overview environmental</td>\n",
       "      <td>greenhouse gas ghg emissions</td>\n",
       "      <td>greenhouse gas emissions</td>\n",
       "      <td>esg report environmental performance</td>\n",
       "      <td>report environmental stewardship</td>\n",
       "      <td>58</td>\n",
       "    </tr>\n",
       "    <tr>\n",
       "      <th>24</th>\n",
       "      <td>employment type</td>\n",
       "      <td>discrimination</td>\n",
       "      <td>prologis employees</td>\n",
       "      <td>number employees</td>\n",
       "      <td>employee turnover</td>\n",
       "      <td>hire</td>\n",
       "      <td>time employees</td>\n",
       "      <td>yellow group plc corporate</td>\n",
       "      <td>career development</td>\n",
       "      <td>workforce</td>\n",
       "      <td>58</td>\n",
       "    </tr>\n",
       "    <tr>\n",
       "      <th>25</th>\n",
       "      <td>time employees</td>\n",
       "      <td>number employees</td>\n",
       "      <td>average number staff</td>\n",
       "      <td>employee turnover</td>\n",
       "      <td>number staff</td>\n",
       "      <td>prologis employees</td>\n",
       "      <td>employees</td>\n",
       "      <td>workforce</td>\n",
       "      <td>employee engagement</td>\n",
       "      <td>employee engagement survey</td>\n",
       "      <td>56</td>\n",
       "    </tr>\n",
       "    <tr>\n",
       "      <th>26</th>\n",
       "      <td>energy performance certificates</td>\n",
       "      <td>green roof</td>\n",
       "      <td>energy efficient lighting</td>\n",
       "      <td>green roofs</td>\n",
       "      <td>rooftop solar</td>\n",
       "      <td>green building council</td>\n",
       "      <td>rooftop solar installations</td>\n",
       "      <td>green building</td>\n",
       "      <td>energy efficient led</td>\n",
       "      <td>energy efficient</td>\n",
       "      <td>55</td>\n",
       "    </tr>\n",
       "    <tr>\n",
       "      <th>27</th>\n",
       "      <td>employee engagement survey</td>\n",
       "      <td>employee engagement</td>\n",
       "      <td>yellow group plc corporate</td>\n",
       "      <td>time employees</td>\n",
       "      <td>employees communities</td>\n",
       "      <td>year big yellow</td>\n",
       "      <td>big yellow group plc</td>\n",
       "      <td>employee turnover</td>\n",
       "      <td>yellow group plc</td>\n",
       "      <td>number employees</td>\n",
       "      <td>55</td>\n",
       "    </tr>\n",
       "    <tr>\n",
       "      <th>28</th>\n",
       "      <td>staff health safety</td>\n",
       "      <td>time employees</td>\n",
       "      <td>staff health</td>\n",
       "      <td>volunteer hours</td>\n",
       "      <td>retirement</td>\n",
       "      <td>health safety performance</td>\n",
       "      <td>occupational health</td>\n",
       "      <td>prologis employees</td>\n",
       "      <td>number employees</td>\n",
       "      <td>year total</td>\n",
       "      <td>52</td>\n",
       "    </tr>\n",
       "    <tr>\n",
       "      <th>29</th>\n",
       "      <td>green building council</td>\n",
       "      <td>association real estate</td>\n",
       "      <td>real estate association</td>\n",
       "      <td>global real estate sustainability</td>\n",
       "      <td>real estate equities corporate</td>\n",
       "      <td>green building</td>\n",
       "      <td>real estate sustainability</td>\n",
       "      <td>real estate sustainability benchmark</td>\n",
       "      <td>industrial real estate</td>\n",
       "      <td>estate association</td>\n",
       "      <td>51</td>\n",
       "    </tr>\n",
       "    <tr>\n",
       "      <th>30</th>\n",
       "      <td>board governance nomination committee</td>\n",
       "      <td>board directors</td>\n",
       "      <td>board governance nomination</td>\n",
       "      <td>board governance</td>\n",
       "      <td>governance nomination committee</td>\n",
       "      <td>senior management</td>\n",
       "      <td>management approach components</td>\n",
       "      <td>csr manager</td>\n",
       "      <td>advisory board</td>\n",
       "      <td>audit committee</td>\n",
       "      <td>50</td>\n",
       "    </tr>\n",
       "    <tr>\n",
       "      <th>31</th>\n",
       "      <td>energy use carbon emissions</td>\n",
       "      <td>energy use carbon</td>\n",
       "      <td>energy carbon</td>\n",
       "      <td>total energy use</td>\n",
       "      <td>greenhouse gas ghg emissions</td>\n",
       "      <td>energy use kwh</td>\n",
       "      <td>greenhouse gas emissions</td>\n",
       "      <td>energy water waste</td>\n",
       "      <td>energy consumption</td>\n",
       "      <td>total energy</td>\n",
       "      <td>48</td>\n",
       "    </tr>\n",
       "    <tr>\n",
       "      <th>32</th>\n",
       "      <td>information security</td>\n",
       "      <td>staff health safety</td>\n",
       "      <td>cybersecurity</td>\n",
       "      <td>safety performance</td>\n",
       "      <td>security</td>\n",
       "      <td>health safety performance</td>\n",
       "      <td>health safety</td>\n",
       "      <td>safe</td>\n",
       "      <td>safety</td>\n",
       "      <td>level assurance</td>\n",
       "      <td>42</td>\n",
       "    </tr>\n",
       "    <tr>\n",
       "      <th>33</th>\n",
       "      <td>natural disasters</td>\n",
       "      <td>emergency response</td>\n",
       "      <td>construction waste</td>\n",
       "      <td>disasters</td>\n",
       "      <td>building design</td>\n",
       "      <td>design construction</td>\n",
       "      <td>big yellow construction</td>\n",
       "      <td>considerate constructors scheme</td>\n",
       "      <td>construction materials</td>\n",
       "      <td>yellow construction</td>\n",
       "      <td>40</td>\n",
       "    </tr>\n",
       "    <tr>\n",
       "      <th>34</th>\n",
       "      <td>health safety committee</td>\n",
       "      <td>staff health safety</td>\n",
       "      <td>visitor health safety</td>\n",
       "      <td>health safety performance</td>\n",
       "      <td>health safety</td>\n",
       "      <td>safety committee</td>\n",
       "      <td>yellow construction</td>\n",
       "      <td>big yellow construction</td>\n",
       "      <td>assurance report</td>\n",
       "      <td>reporting injuries diseases dangerous</td>\n",
       "      <td>38</td>\n",
       "    </tr>\n",
       "    <tr>\n",
       "      <th>35</th>\n",
       "      <td>renewable energy initiatives</td>\n",
       "      <td>building research establishment environmental</td>\n",
       "      <td>research establishment environmental</td>\n",
       "      <td>corporate responsibility report environmental</td>\n",
       "      <td>research establishment environmental assessment</td>\n",
       "      <td>energy use carbon emissions</td>\n",
       "      <td>rooftop solar installations</td>\n",
       "      <td>energy initiatives</td>\n",
       "      <td>rooftop solar</td>\n",
       "      <td>energy use carbon</td>\n",
       "      <td>32</td>\n",
       "    </tr>\n",
       "    <tr>\n",
       "      <th>36</th>\n",
       "      <td>waste recycling</td>\n",
       "      <td>recycled content</td>\n",
       "      <td>recycling</td>\n",
       "      <td>recycled</td>\n",
       "      <td>waste landfill</td>\n",
       "      <td>packaging</td>\n",
       "      <td>reduce environmental</td>\n",
       "      <td>corporate responsibility report environmental</td>\n",
       "      <td>report corporate overview environmental</td>\n",
       "      <td>corporate overview environmental</td>\n",
       "      <td>30</td>\n",
       "    </tr>\n",
       "  </tbody>\n",
       "</table>\n",
       "</div>"
      ],
      "text/plain": [
       "                                                  0  \\\n",
       "0                       energy use carbon emissions   \n",
       "1   environmental stewardship social responsibility   \n",
       "2                                       water waste   \n",
       "3                       energy use carbon emissions   \n",
       "4               sustainable building certifications   \n",
       "5                      independent assurance report   \n",
       "6                          charitable organizations   \n",
       "7                           big yellow self storage   \n",
       "8                         energy efficient lighting   \n",
       "9             report environmental performance page   \n",
       "10                      rooftop solar installations   \n",
       "11             esg report environmental performance   \n",
       "12                           alexandria real estate   \n",
       "13                               global real estate   \n",
       "14                            big yellow foundation   \n",
       "15          report corporate overview environmental   \n",
       "16                               investor relations   \n",
       "17                     code ethics business conduct   \n",
       "18                                  waste recycling   \n",
       "19                                  risk management   \n",
       "20                 minor injuries number reportable   \n",
       "21                                  risk management   \n",
       "22                             training development   \n",
       "23                      energy use carbon emissions   \n",
       "24                                  employment type   \n",
       "25                                   time employees   \n",
       "26                  energy performance certificates   \n",
       "27                       employee engagement survey   \n",
       "28                              staff health safety   \n",
       "29                           green building council   \n",
       "30            board governance nomination committee   \n",
       "31                      energy use carbon emissions   \n",
       "32                             information security   \n",
       "33                                natural disasters   \n",
       "34                          health safety committee   \n",
       "35                     renewable energy initiatives   \n",
       "36                                  waste recycling   \n",
       "\n",
       "                                                1  \\\n",
       "0                               energy use carbon   \n",
       "1   corporate responsibility report environmental   \n",
       "2                              energy water waste   \n",
       "3                               energy use carbon   \n",
       "4                         building certifications   \n",
       "5                                assurance report   \n",
       "6                                      volunteers   \n",
       "7                            big yellow group plc   \n",
       "8                            energy efficient led   \n",
       "9           report environmental stewardship page   \n",
       "10                                  rooftop solar   \n",
       "11               report environmental performance   \n",
       "12                alexandria real estate equities   \n",
       "13                 real estate equities corporate   \n",
       "14                              yellow foundation   \n",
       "15  corporate responsibility report environmental   \n",
       "16                            customers investors   \n",
       "17                           code ethics business   \n",
       "18                                 waste landfill   \n",
       "19                                 climate change   \n",
       "20            injuries number reportable injuries   \n",
       "21                 evaluation management approach   \n",
       "22                                management team   \n",
       "23                              energy use carbon   \n",
       "24                                 discrimination   \n",
       "25                               number employees   \n",
       "26                                     green roof   \n",
       "27                            employee engagement   \n",
       "28                                 time employees   \n",
       "29                        association real estate   \n",
       "30                                board directors   \n",
       "31                              energy use carbon   \n",
       "32                            staff health safety   \n",
       "33                             emergency response   \n",
       "34                            staff health safety   \n",
       "35  building research establishment environmental   \n",
       "36                               recycled content   \n",
       "\n",
       "                                                 2  \\\n",
       "0                                    energy carbon   \n",
       "1   responsibility ethics governance environmental   \n",
       "2                               water conservation   \n",
       "3                             use carbon emissions   \n",
       "4                  energy performance certificates   \n",
       "5                page independent assurance report   \n",
       "6                          nonprofit organizations   \n",
       "7                       yellow group plc corporate   \n",
       "8                                energy efficiency   \n",
       "9          report corporate overview environmental   \n",
       "10                    solar electricity generation   \n",
       "11         report corporate overview environmental   \n",
       "12                           alexandrias corporate   \n",
       "13                          real estate investment   \n",
       "14                                 year big yellow   \n",
       "15            esg report environmental performance   \n",
       "16   corporate responsibility report environmental   \n",
       "17                         ethics business conduct   \n",
       "18                                       recycling   \n",
       "19                             risks opportunities   \n",
       "20              minor injuries reportable injuries   \n",
       "21                           evaluation management   \n",
       "22                              career development   \n",
       "23                        esg report environmental   \n",
       "24                              prologis employees   \n",
       "25                            average number staff   \n",
       "26                       energy efficient lighting   \n",
       "27                      yellow group plc corporate   \n",
       "28                                    staff health   \n",
       "29                         real estate association   \n",
       "30                     board governance nomination   \n",
       "31                                   energy carbon   \n",
       "32                                   cybersecurity   \n",
       "33                              construction waste   \n",
       "34                           visitor health safety   \n",
       "35            research establishment environmental   \n",
       "36                                       recycling   \n",
       "\n",
       "                                                3  \\\n",
       "0                                  energy savings   \n",
       "1        social responsibility report environment   \n",
       "2                                     water usage   \n",
       "3                                   reduce carbon   \n",
       "4                                  green building   \n",
       "5                 responsibility report continued   \n",
       "6                                    volunteering   \n",
       "7                             yellow self storage   \n",
       "8                                energy efficient   \n",
       "9            esg report environmental performance   \n",
       "10                                   solar energy   \n",
       "11          report environmental performance page   \n",
       "12                                alexandria real   \n",
       "13              global real estate sustainability   \n",
       "14                           big yellow group plc   \n",
       "15               report environmental performance   \n",
       "16       prologis corporate responsibility report   \n",
       "17                                    code ethics   \n",
       "18                               waste management   \n",
       "19                          dangerous occurrences   \n",
       "20                     number reportable injuries   \n",
       "21                 management approach components   \n",
       "22                                    csr manager   \n",
       "23                           use carbon emissions   \n",
       "24                               number employees   \n",
       "25                              employee turnover   \n",
       "26                                    green roofs   \n",
       "27                                 time employees   \n",
       "28                                volunteer hours   \n",
       "29              global real estate sustainability   \n",
       "30                               board governance   \n",
       "31                               total energy use   \n",
       "32                             safety performance   \n",
       "33                                      disasters   \n",
       "34                      health safety performance   \n",
       "35  corporate responsibility report environmental   \n",
       "36                                       recycled   \n",
       "\n",
       "                                                  4  \\\n",
       "0                              use carbon emissions   \n",
       "1       responsibility report environment continued   \n",
       "2                                  water efficiency   \n",
       "3                                  carbon pollution   \n",
       "4                            green building council   \n",
       "5       responsibility report environment continued   \n",
       "6                                   volunteer hours   \n",
       "7                                   year big yellow   \n",
       "8                                efficient lighting   \n",
       "9                  report environmental performance   \n",
       "10                                solar electricity   \n",
       "11    corporate responsibility report environmental   \n",
       "12                                       alexandria   \n",
       "13                              property management   \n",
       "14                          big yellow construction   \n",
       "15            report environmental performance page   \n",
       "16         responsibility report corporate overview   \n",
       "17                                  ethics business   \n",
       "18                                      store waste   \n",
       "19          injuries diseases dangerous occurrences   \n",
       "20                        minor injuries reportable   \n",
       "21                                     related risk   \n",
       "22                            development programme   \n",
       "23                             report environmental   \n",
       "24                                employee turnover   \n",
       "25                                     number staff   \n",
       "26                                    rooftop solar   \n",
       "27                            employees communities   \n",
       "28                                       retirement   \n",
       "29                   real estate equities corporate   \n",
       "30                  governance nomination committee   \n",
       "31                     greenhouse gas ghg emissions   \n",
       "32                                         security   \n",
       "33                                  building design   \n",
       "34                                    health safety   \n",
       "35  research establishment environmental assessment   \n",
       "36                                   waste landfill   \n",
       "\n",
       "                                                  5  \\\n",
       "0                                    energy use kwh   \n",
       "1   responsibility report environmental stewardship   \n",
       "2                                   waste recycling   \n",
       "3                          carbon dioxide emissions   \n",
       "4                                leed certification   \n",
       "5          responsibility report corporate overview   \n",
       "6                                         donations   \n",
       "7                                   big yellow self   \n",
       "8                      renewable energy initiatives   \n",
       "9                      governance gri content index   \n",
       "10                              solar installations   \n",
       "11                     report environment continued   \n",
       "12                        health safety performance   \n",
       "13                              real estate company   \n",
       "14                                 big yellow group   \n",
       "15                                esg impact report   \n",
       "16         equities corporate responsibility report   \n",
       "17                                ethical standards   \n",
       "18                               construction waste   \n",
       "19                           extreme weather events   \n",
       "20                       injuries number reportable   \n",
       "21                              management approach   \n",
       "22                                          manager   \n",
       "23          report corporate overview environmental   \n",
       "24                                             hire   \n",
       "25                               prologis employees   \n",
       "26                           green building council   \n",
       "27                                  year big yellow   \n",
       "28                        health safety performance   \n",
       "29                                   green building   \n",
       "30                                senior management   \n",
       "31                                   energy use kwh   \n",
       "32                        health safety performance   \n",
       "33                              design construction   \n",
       "34                                 safety committee   \n",
       "35                      energy use carbon emissions   \n",
       "36                                        packaging   \n",
       "\n",
       "                                                6  \\\n",
       "0                              energy consumption   \n",
       "1             responsibility report environmental   \n",
       "2          establishment environmental assessment   \n",
       "3                                   energy carbon   \n",
       "4                    report environment continued   \n",
       "5                      data reviewed deloitte llp   \n",
       "6                                        donation   \n",
       "7                                big yellow group   \n",
       "8                                portfolio energy   \n",
       "9   corporate responsibility report environmental   \n",
       "10                                   solar panels   \n",
       "11                       esg report environmental   \n",
       "12                                    alexandrias   \n",
       "13                              estate investment   \n",
       "14                                     big yellow   \n",
       "15       responsibility report corporate overview   \n",
       "16       social responsibility report environment   \n",
       "17                          ethics governance gri   \n",
       "18                                       recycled   \n",
       "19                 evaluation management approach   \n",
       "20              number reportable injuries riddor   \n",
       "21                          dangerous occurrences   \n",
       "22                           learning development   \n",
       "23                   greenhouse gas ghg emissions   \n",
       "24                                 time employees   \n",
       "25                                      employees   \n",
       "26                    rooftop solar installations   \n",
       "27                           big yellow group plc   \n",
       "28                            occupational health   \n",
       "29                     real estate sustainability   \n",
       "30                 management approach components   \n",
       "31                       greenhouse gas emissions   \n",
       "32                                  health safety   \n",
       "33                        big yellow construction   \n",
       "34                            yellow construction   \n",
       "35                    rooftop solar installations   \n",
       "36                           reduce environmental   \n",
       "\n",
       "                                                7  \\\n",
       "0                       energy efficient lighting   \n",
       "1    corporate overview environmental stewardship   \n",
       "2                        environmental management   \n",
       "3                                carbon emissions   \n",
       "4                                  leed certified   \n",
       "5        prologis corporate responsibility report   \n",
       "6                                    volunteerism   \n",
       "7                                yellow group plc   \n",
       "8                                renewable energy   \n",
       "9                report environmental stewardship   \n",
       "10                               solar generation   \n",
       "11               report environmental stewardship   \n",
       "12                                health wellness   \n",
       "13                           real estate equities   \n",
       "14                     yellow group plc corporate   \n",
       "15                      report corporate overview   \n",
       "16                         real estate investment   \n",
       "17                    ethics governance gri index   \n",
       "18                               recycled content   \n",
       "19          reporting injuries diseases dangerous   \n",
       "20                          number minor injuries   \n",
       "21        injuries diseases dangerous occurrences   \n",
       "22                                       managers   \n",
       "23                       greenhouse gas emissions   \n",
       "24                     yellow group plc corporate   \n",
       "25                                      workforce   \n",
       "26                                 green building   \n",
       "27                              employee turnover   \n",
       "28                             prologis employees   \n",
       "29           real estate sustainability benchmark   \n",
       "30                                    csr manager   \n",
       "31                             energy water waste   \n",
       "32                                           safe   \n",
       "33                considerate constructors scheme   \n",
       "34                        big yellow construction   \n",
       "35                             energy initiatives   \n",
       "36  corporate responsibility report environmental   \n",
       "\n",
       "                                                8  \\\n",
       "0                           store electricity use   \n",
       "1                    responsibility environmental   \n",
       "2                        low environmental impact   \n",
       "3                                emissions carbon   \n",
       "4                            sustainable building   \n",
       "5                          data reviewed deloitte   \n",
       "6                                       volunteer   \n",
       "7                                      big yellow   \n",
       "8                                  energy savings   \n",
       "9   governance environmental stewardship approach   \n",
       "10                                       solar pv   \n",
       "11    responsibility report environment continued   \n",
       "12                       charitable organizations   \n",
       "13                         industrial real estate   \n",
       "14                        big yellow self storage   \n",
       "15               report environmental stewardship   \n",
       "16    responsibility report environment continued   \n",
       "17    ethics governance environmental stewardship   \n",
       "18                                          waste   \n",
       "19                                   related risk   \n",
       "20                   injuries reportable injuries   \n",
       "21                            risks opportunities   \n",
       "22                              senior management   \n",
       "23           esg report environmental performance   \n",
       "24                             career development   \n",
       "25                            employee engagement   \n",
       "26                           energy efficient led   \n",
       "27                               yellow group plc   \n",
       "28                               number employees   \n",
       "29                         industrial real estate   \n",
       "30                                 advisory board   \n",
       "31                             energy consumption   \n",
       "32                                         safety   \n",
       "33                         construction materials   \n",
       "34                               assurance report   \n",
       "35                                  rooftop solar   \n",
       "36        report corporate overview environmental   \n",
       "\n",
       "                                                  9  size  \n",
       "0                                      energy usage   320  \n",
       "1          stewardship social responsibility ethics   250  \n",
       "2                                  waste management   179  \n",
       "3                       carbon reduction commitment   174  \n",
       "4                                        green roof   171  \n",
       "5   responsibility report environmental stewardship   161  \n",
       "6                                         charities   159  \n",
       "7                           big yellow construction   145  \n",
       "8                       renewable energy generation   137  \n",
       "9                           defining report content   124  \n",
       "10                                         mw solar   107  \n",
       "11                             report environmental   106  \n",
       "12                          nonprofit organizations   101  \n",
       "13                                assets management   101  \n",
       "14                                      big yellows    94  \n",
       "15         equities corporate responsibility report    90  \n",
       "16           corporate social responsibility report    90  \n",
       "17             responsibility ethics governance gri    82  \n",
       "18                                      water waste    72  \n",
       "19                   diseases dangerous occurrences    70  \n",
       "20                     number minor injuries number    68  \n",
       "21                             management reporting    68  \n",
       "22                                   time employees    66  \n",
       "23                 report environmental stewardship    58  \n",
       "24                                        workforce    58  \n",
       "25                       employee engagement survey    56  \n",
       "26                                 energy efficient    55  \n",
       "27                                 number employees    55  \n",
       "28                                       year total    52  \n",
       "29                               estate association    51  \n",
       "30                                  audit committee    50  \n",
       "31                                     total energy    48  \n",
       "32                                  level assurance    42  \n",
       "33                              yellow construction    40  \n",
       "34            reporting injuries diseases dangerous    38  \n",
       "35                                energy use carbon    32  \n",
       "36                 corporate overview environmental    30  "
      ]
     },
     "execution_count": 263,
     "metadata": {},
     "output_type": "execute_result"
    }
   ],
   "source": [
    "topic_words, word_scores, topic_nums = model_distilBert.get_topics()\n",
    "topic_sizes,  topic_nums = model_distilBert.get_topic_sizes()\n",
    "topics_top2Vec = pd.DataFrame(topic_words).iloc[:,0:10]\n",
    "topics_top2Vec[\"size\"] = topic_sizes\n",
    "topics_top2Vec"
   ]
  }
 ],
 "metadata": {
  "kernelspec": {
   "display_name": "Python 3",
   "language": "python",
   "name": "python3"
  },
  "language_info": {
   "codemirror_mode": {
    "name": "ipython",
    "version": 3
   },
   "file_extension": ".py",
   "mimetype": "text/x-python",
   "name": "python",
   "nbconvert_exporter": "python",
   "pygments_lexer": "ipython3",
   "version": "3.8.5"
  }
 },
 "nbformat": 4,
 "nbformat_minor": 4
}
