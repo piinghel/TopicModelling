{
 "cells": [
  {
   "cell_type": "code",
   "execution_count": 3,
   "metadata": {},
   "outputs": [],
   "source": [
    "import os \n",
    "os.chdir(\"C:\\\\Users\\\\Pieter-Jan\\\\Documents\\\\Work\\\\Candriam\\\\nlp\\\\ESG\\\\top2Vec\\\\Topic-modelling\")"
   ]
  },
  {
   "cell_type": "code",
   "execution_count": 4,
   "metadata": {},
   "outputs": [],
   "source": [
    "from modules import Top2Vec_custom\n",
    "import pandas as pd\n",
    "import numpy as np\n",
    "from sklearn.metrics.pairwise import cosine_similarity\n",
    "import pickle\n",
    "import plotly.express as px"
   ]
  },
  {
   "cell_type": "code",
   "execution_count": 5,
   "metadata": {},
   "outputs": [],
   "source": [
    "%reload_ext autoreload\n",
    "%autoreload 2"
   ]
  },
  {
   "cell_type": "code",
   "execution_count": 6,
   "metadata": {},
   "outputs": [],
   "source": [
    "df = pd.read_csv(\"data/CRS_processed_PyMuPDF.txt\", sep='\\t')"
   ]
  },
  {
   "cell_type": "code",
   "execution_count": 7,
   "metadata": {},
   "outputs": [
    {
     "data": {
      "text/plain": [
       "(3600, 9)"
      ]
     },
     "execution_count": 7,
     "metadata": {},
     "output_type": "execute_result"
    }
   ],
   "source": [
    "df.shape"
   ]
  },
  {
   "cell_type": "code",
   "execution_count": 8,
   "metadata": {
    "scrolled": true
   },
   "outputs": [
    {
     "data": {
      "text/html": [
       "<div>\n",
       "<style scoped>\n",
       "    .dataframe tbody tr th:only-of-type {\n",
       "        vertical-align: middle;\n",
       "    }\n",
       "\n",
       "    .dataframe tbody tr th {\n",
       "        vertical-align: top;\n",
       "    }\n",
       "\n",
       "    .dataframe thead th {\n",
       "        text-align: right;\n",
       "    }\n",
       "</style>\n",
       "<table border=\"1\" class=\"dataframe\">\n",
       "  <thead>\n",
       "    <tr style=\"text-align: right;\">\n",
       "      <th></th>\n",
       "      <th>company</th>\n",
       "      <th>industry</th>\n",
       "      <th>sector</th>\n",
       "      <th>year</th>\n",
       "      <th>url</th>\n",
       "      <th>filename</th>\n",
       "      <th>paragraph</th>\n",
       "      <th>tot_p</th>\n",
       "      <th>p_nr</th>\n",
       "    </tr>\n",
       "  </thead>\n",
       "  <tbody>\n",
       "    <tr>\n",
       "      <th>0</th>\n",
       "      <td>Alexandria Real Estate Equities, Inc.</td>\n",
       "      <td>REIT - Industrial</td>\n",
       "      <td>Financial</td>\n",
       "      <td>2018.0</td>\n",
       "      <td>https://www.responsibilityreports.com/HostedDa...</td>\n",
       "      <td>AlexandriaRealEstateEquities,Inc.-2018.pdf</td>\n",
       "      <td>CORPORATE RESPONSIBILITY REPORT ALEXANDRIA REA...</td>\n",
       "      <td>111</td>\n",
       "      <td>1</td>\n",
       "    </tr>\n",
       "    <tr>\n",
       "      <th>1</th>\n",
       "      <td>Alexandria Real Estate Equities, Inc.</td>\n",
       "      <td>REIT - Industrial</td>\n",
       "      <td>Financial</td>\n",
       "      <td>2018.0</td>\n",
       "      <td>https://www.responsibilityreports.com/HostedDa...</td>\n",
       "      <td>AlexandriaRealEstateEquities,Inc.-2018.pdf</td>\n",
       "      <td>LARGE CAP EQUITY REIT GOLD AWARD 2015 | 2016 |...</td>\n",
       "      <td>111</td>\n",
       "      <td>2</td>\n",
       "    </tr>\n",
       "  </tbody>\n",
       "</table>\n",
       "</div>"
      ],
      "text/plain": [
       "                                 company           industry     sector  \\\n",
       "0  Alexandria Real Estate Equities, Inc.  REIT - Industrial  Financial   \n",
       "1  Alexandria Real Estate Equities, Inc.  REIT - Industrial  Financial   \n",
       "\n",
       "     year                                                url  \\\n",
       "0  2018.0  https://www.responsibilityreports.com/HostedDa...   \n",
       "1  2018.0  https://www.responsibilityreports.com/HostedDa...   \n",
       "\n",
       "                                     filename  \\\n",
       "0  AlexandriaRealEstateEquities,Inc.-2018.pdf   \n",
       "1  AlexandriaRealEstateEquities,Inc.-2018.pdf   \n",
       "\n",
       "                                           paragraph  tot_p  p_nr  \n",
       "0  CORPORATE RESPONSIBILITY REPORT ALEXANDRIA REA...    111     1  \n",
       "1  LARGE CAP EQUITY REIT GOLD AWARD 2015 | 2016 |...    111     2  "
      ]
     },
     "execution_count": 8,
     "metadata": {},
     "output_type": "execute_result"
    }
   ],
   "source": [
    "df.head(2)"
   ]
  },
  {
   "cell_type": "code",
   "execution_count": 14,
   "metadata": {},
   "outputs": [],
   "source": [
    "paragraphs = df[\"paragraph\"].values.tolist()"
   ]
  },
  {
   "cell_type": "code",
   "execution_count": 16,
   "metadata": {
    "scrolled": false
   },
   "outputs": [
    {
     "name": "stderr",
     "output_type": "stream",
     "text": [
      "2020-12-19 12:51:39,162 - top2vec - INFO - Pre-processing documents for training\n",
      "2020-12-19 12:51:39,162 - top2vec - INFO - Pre-processing documents for training\n",
      "INFO:top2vec:Pre-processing documents for training\n",
      "2020-12-19 12:51:41,020 - top2vec - INFO - Downloading distiluse-base-multilingual-cased model\n",
      "2020-12-19 12:51:41,020 - top2vec - INFO - Downloading distiluse-base-multilingual-cased model\n",
      "INFO:top2vec:Downloading distiluse-base-multilingual-cased model\n",
      "2020-12-19 12:59:13,055 - top2vec - INFO - Creating lower dimension embedding of documents\n",
      "2020-12-19 12:59:13,055 - top2vec - INFO - Creating lower dimension embedding of documents\n",
      "INFO:top2vec:Creating lower dimension embedding of documents\n",
      "2020-12-19 12:59:13,057 - top2vec - INFO - Creating lower dimension embedding of documents\n",
      "2020-12-19 12:59:13,057 - top2vec - INFO - Creating lower dimension embedding of documents\n",
      "INFO:top2vec:Creating lower dimension embedding of documents\n",
      "2020-12-19 12:59:39,758 - top2vec - INFO - Finding dense areas of documents\n",
      "2020-12-19 12:59:39,758 - top2vec - INFO - Finding dense areas of documents\n",
      "INFO:top2vec:Finding dense areas of documents\n",
      "2020-12-19 12:59:39,761 - top2vec - INFO - Finding dense areas of documents\n",
      "2020-12-19 12:59:39,761 - top2vec - INFO - Finding dense areas of documents\n",
      "INFO:top2vec:Finding dense areas of documents\n",
      "2020-12-19 12:59:39,904 - top2vec - INFO - Finding topics\n",
      "2020-12-19 12:59:39,904 - top2vec - INFO - Finding topics\n",
      "INFO:top2vec:Finding topics\n"
     ]
    },
    {
     "name": "stdout",
     "output_type": "stream",
     "text": [
      "Wall time: 8min\n"
     ]
    }
   ],
   "source": [
    "%%time\n",
    "model_distilBert = Top2Vec_custom.Top2Vec(\n",
    "    documents=paragraphs, \n",
    "    embedding_model='distiluse-base-multilingual-cased',\n",
    "    load_doc_embed=False,\n",
    "    save_doc_embed=True,\n",
    "    path_doc_embed=\"output/distBert_embedding.npy\"\n",
    ")"
   ]
  },
  {
   "cell_type": "code",
   "execution_count": 17,
   "metadata": {},
   "outputs": [
    {
     "name": "stderr",
     "output_type": "stream",
     "text": [
      "2020-12-19 12:59:41,214 - top2vec - INFO - Pre-processing documents for training\n",
      "2020-12-19 12:59:41,214 - top2vec - INFO - Pre-processing documents for training\n",
      "INFO:top2vec:Pre-processing documents for training\n",
      "2020-12-19 12:59:43,400 - top2vec - INFO - Downloading distiluse-base-multilingual-cased model\n",
      "2020-12-19 12:59:43,400 - top2vec - INFO - Downloading distiluse-base-multilingual-cased model\n",
      "INFO:top2vec:Downloading distiluse-base-multilingual-cased model\n",
      "2020-12-19 12:59:58,713 - top2vec - INFO - Creating lower dimension embedding of documents\n",
      "2020-12-19 12:59:58,713 - top2vec - INFO - Creating lower dimension embedding of documents\n",
      "INFO:top2vec:Creating lower dimension embedding of documents\n",
      "2020-12-19 12:59:58,716 - top2vec - INFO - Creating lower dimension embedding of documents\n",
      "2020-12-19 12:59:58,716 - top2vec - INFO - Creating lower dimension embedding of documents\n",
      "INFO:top2vec:Creating lower dimension embedding of documents\n",
      "2020-12-19 13:00:19,453 - top2vec - INFO - Finding dense areas of documents\n",
      "2020-12-19 13:00:19,453 - top2vec - INFO - Finding dense areas of documents\n",
      "INFO:top2vec:Finding dense areas of documents\n",
      "2020-12-19 13:00:19,455 - top2vec - INFO - Finding dense areas of documents\n",
      "2020-12-19 13:00:19,455 - top2vec - INFO - Finding dense areas of documents\n",
      "INFO:top2vec:Finding dense areas of documents\n",
      "2020-12-19 13:00:19,593 - top2vec - INFO - Finding topics\n",
      "2020-12-19 13:00:19,593 - top2vec - INFO - Finding topics\n",
      "INFO:top2vec:Finding topics\n"
     ]
    },
    {
     "name": "stdout",
     "output_type": "stream",
     "text": [
      "Wall time: 38.5 s\n"
     ]
    }
   ],
   "source": [
    "%%time\n",
    "model_distilBert = Top2Vec_custom.Top2Vec(\n",
    "    documents=paragraphs, \n",
    "    embedding_model='distiluse-base-multilingual-cased',\n",
    "    load_doc_embed=True,\n",
    "    save_doc_embed=Falselse,\n",
    "    path_doc_embed=\"output/distBert_embedding.npy\"\n",
    ")"
   ]
  },
  {
   "cell_type": "code",
   "execution_count": 19,
   "metadata": {},
   "outputs": [],
   "source": [
    "model_dir = \"output/distilBert_REIT-Industrial.sav\"  \n",
    "with open(model_dir, 'wb') as file:  \n",
    "    pickle.dump(model_distilBert, file)"
   ]
  },
  {
   "cell_type": "code",
   "execution_count": 13,
   "metadata": {},
   "outputs": [
    {
     "ename": "EOFError",
     "evalue": "Ran out of input",
     "output_type": "error",
     "traceback": [
      "\u001b[1;31m---------------------------------------------------------------------------\u001b[0m",
      "\u001b[1;31mEOFError\u001b[0m                                  Traceback (most recent call last)",
      "\u001b[1;32m<ipython-input-13-090aa69ef4ee>\u001b[0m in \u001b[0;36m<module>\u001b[1;34m\u001b[0m\n\u001b[0;32m      1\u001b[0m \u001b[1;32mwith\u001b[0m \u001b[0mopen\u001b[0m\u001b[1;33m(\u001b[0m\u001b[0mmodel_dir\u001b[0m\u001b[1;33m,\u001b[0m \u001b[1;34m'rb'\u001b[0m\u001b[1;33m)\u001b[0m \u001b[1;32mas\u001b[0m \u001b[0mfile\u001b[0m\u001b[1;33m:\u001b[0m\u001b[1;33m\u001b[0m\u001b[1;33m\u001b[0m\u001b[0m\n\u001b[1;32m----> 2\u001b[1;33m     \u001b[0mmodel_distilBert\u001b[0m \u001b[1;33m=\u001b[0m \u001b[0mpickle\u001b[0m\u001b[1;33m.\u001b[0m\u001b[0mload\u001b[0m\u001b[1;33m(\u001b[0m\u001b[0mfile\u001b[0m\u001b[1;33m)\u001b[0m\u001b[1;33m\u001b[0m\u001b[1;33m\u001b[0m\u001b[0m\n\u001b[0m",
      "\u001b[1;31mEOFError\u001b[0m: Ran out of input"
     ]
    }
   ],
   "source": [
    "with open(model_dir, 'rb') as file:  \n",
    "    model_distilBert = pickle.load(file)"
   ]
  },
  {
   "cell_type": "code",
   "execution_count": 253,
   "metadata": {},
   "outputs": [],
   "source": [
    "topic_words, word_scores, topic_nums = model_distilBert.get_topics()"
   ]
  },
  {
   "cell_type": "code",
   "execution_count": 254,
   "metadata": {},
   "outputs": [],
   "source": [
    "topic_sizes,  topic_nums = model_distilBert.get_topic_sizes()"
   ]
  },
  {
   "cell_type": "code",
   "execution_count": 255,
   "metadata": {
    "scrolled": true
   },
   "outputs": [
    {
     "data": {
      "text/html": [
       "<div>\n",
       "<style scoped>\n",
       "    .dataframe tbody tr th:only-of-type {\n",
       "        vertical-align: middle;\n",
       "    }\n",
       "\n",
       "    .dataframe tbody tr th {\n",
       "        vertical-align: top;\n",
       "    }\n",
       "\n",
       "    .dataframe thead th {\n",
       "        text-align: right;\n",
       "    }\n",
       "</style>\n",
       "<table border=\"1\" class=\"dataframe\">\n",
       "  <thead>\n",
       "    <tr style=\"text-align: right;\">\n",
       "      <th></th>\n",
       "      <th>0</th>\n",
       "      <th>1</th>\n",
       "      <th>2</th>\n",
       "      <th>3</th>\n",
       "      <th>4</th>\n",
       "      <th>5</th>\n",
       "      <th>6</th>\n",
       "      <th>7</th>\n",
       "      <th>8</th>\n",
       "      <th>9</th>\n",
       "      <th>size</th>\n",
       "    </tr>\n",
       "  </thead>\n",
       "  <tbody>\n",
       "    <tr>\n",
       "      <th>0</th>\n",
       "      <td>energy use carbon</td>\n",
       "      <td>energy carbon</td>\n",
       "      <td>energy savings</td>\n",
       "      <td>use carbon emissions</td>\n",
       "      <td>energy use kwh</td>\n",
       "      <td>energy consumption</td>\n",
       "      <td>energy efficient lighting</td>\n",
       "      <td>store electricity use</td>\n",
       "      <td>reduce energy</td>\n",
       "      <td>energy usage</td>\n",
       "      <td>335</td>\n",
       "    </tr>\n",
       "    <tr>\n",
       "      <th>1</th>\n",
       "      <td>responsibility report environmental</td>\n",
       "      <td>responsibility report environment</td>\n",
       "      <td>responsibility environmental</td>\n",
       "      <td>environmental stewardship social</td>\n",
       "      <td>corporate social responsibility</td>\n",
       "      <td>corporate overview environmental</td>\n",
       "      <td>social responsibility ethics</td>\n",
       "      <td>environmental social governance</td>\n",
       "      <td>environmental stewardship approach</td>\n",
       "      <td>responsibility report corporate</td>\n",
       "      <td>280</td>\n",
       "    </tr>\n",
       "    <tr>\n",
       "      <th>2</th>\n",
       "      <td>energy use carbon</td>\n",
       "      <td>use carbon emissions</td>\n",
       "      <td>carbon dioxide emissions</td>\n",
       "      <td>carbon pollution</td>\n",
       "      <td>energy carbon</td>\n",
       "      <td>carbon emissions</td>\n",
       "      <td>emissions carbon</td>\n",
       "      <td>reduce carbon</td>\n",
       "      <td>carbon emission</td>\n",
       "      <td>corporate carbon footprint</td>\n",
       "      <td>206</td>\n",
       "    </tr>\n",
       "    <tr>\n",
       "      <th>3</th>\n",
       "      <td>water waste</td>\n",
       "      <td>energy water waste</td>\n",
       "      <td>water conservation</td>\n",
       "      <td>water usage</td>\n",
       "      <td>water efficiency</td>\n",
       "      <td>establishment environmental assessment</td>\n",
       "      <td>waste recycling</td>\n",
       "      <td>water use</td>\n",
       "      <td>environmental management</td>\n",
       "      <td>low environmental impact</td>\n",
       "      <td>188</td>\n",
       "    </tr>\n",
       "    <tr>\n",
       "      <th>4</th>\n",
       "      <td>energy efficient lighting</td>\n",
       "      <td>energy efficient led</td>\n",
       "      <td>renewable energy initiatives</td>\n",
       "      <td>energy efficiency</td>\n",
       "      <td>energy efficient</td>\n",
       "      <td>renewable energy</td>\n",
       "      <td>energy use carbon</td>\n",
       "      <td>efficient lighting</td>\n",
       "      <td>renewable energy generation</td>\n",
       "      <td>energy savings</td>\n",
       "      <td>182</td>\n",
       "    </tr>\n",
       "    <tr>\n",
       "      <th>5</th>\n",
       "      <td>charitable organizations</td>\n",
       "      <td>nonprofit organizations</td>\n",
       "      <td>volunteers</td>\n",
       "      <td>volunteering</td>\n",
       "      <td>volunteer hours</td>\n",
       "      <td>donations</td>\n",
       "      <td>donation</td>\n",
       "      <td>charities</td>\n",
       "      <td>volunteerism</td>\n",
       "      <td>volunteer</td>\n",
       "      <td>153</td>\n",
       "    </tr>\n",
       "    <tr>\n",
       "      <th>6</th>\n",
       "      <td>year big yellow</td>\n",
       "      <td>yellow self storage</td>\n",
       "      <td>big yellow group</td>\n",
       "      <td>yellow group plc</td>\n",
       "      <td>big yellow self</td>\n",
       "      <td>big yellow</td>\n",
       "      <td>big yellow construction</td>\n",
       "      <td>big yellow foundation</td>\n",
       "      <td>march big yellow</td>\n",
       "      <td>big yellows</td>\n",
       "      <td>151</td>\n",
       "    </tr>\n",
       "    <tr>\n",
       "      <th>7</th>\n",
       "      <td>independent assurance report</td>\n",
       "      <td>assurance report</td>\n",
       "      <td>responsibility report continued</td>\n",
       "      <td>data reviewed deloitte</td>\n",
       "      <td>corporate responsibility report</td>\n",
       "      <td>report environmental performance</td>\n",
       "      <td>responsibility report corporate</td>\n",
       "      <td>prologis sustainability report</td>\n",
       "      <td>report environment continued</td>\n",
       "      <td>report content</td>\n",
       "      <td>149</td>\n",
       "    </tr>\n",
       "    <tr>\n",
       "      <th>8</th>\n",
       "      <td>sustainable building certifications</td>\n",
       "      <td>building certifications</td>\n",
       "      <td>green building</td>\n",
       "      <td>leed certification</td>\n",
       "      <td>leed certified</td>\n",
       "      <td>green building council</td>\n",
       "      <td>energy performance certificates</td>\n",
       "      <td>sustainable building</td>\n",
       "      <td>green roof</td>\n",
       "      <td>certification</td>\n",
       "      <td>126</td>\n",
       "    </tr>\n",
       "    <tr>\n",
       "      <th>9</th>\n",
       "      <td>report environmental performance</td>\n",
       "      <td>report environmental stewardship</td>\n",
       "      <td>evaluation management approach</td>\n",
       "      <td>defining report content</td>\n",
       "      <td>esg report environmental</td>\n",
       "      <td>responsibility report environment</td>\n",
       "      <td>report environmental</td>\n",
       "      <td>responsibility report environmental</td>\n",
       "      <td>management reporting</td>\n",
       "      <td>report environment</td>\n",
       "      <td>119</td>\n",
       "    </tr>\n",
       "    <tr>\n",
       "      <th>10</th>\n",
       "      <td>rooftop solar installations</td>\n",
       "      <td>rooftop solar</td>\n",
       "      <td>solar electricity generation</td>\n",
       "      <td>solar energy</td>\n",
       "      <td>solar electricity</td>\n",
       "      <td>solar installations</td>\n",
       "      <td>solar panels</td>\n",
       "      <td>solar generation</td>\n",
       "      <td>solar pv</td>\n",
       "      <td>mw solar</td>\n",
       "      <td>113</td>\n",
       "    </tr>\n",
       "    <tr>\n",
       "      <th>11</th>\n",
       "      <td>management team</td>\n",
       "      <td>csr manager</td>\n",
       "      <td>training development</td>\n",
       "      <td>time employees</td>\n",
       "      <td>senior management</td>\n",
       "      <td>average number staff</td>\n",
       "      <td>career development</td>\n",
       "      <td>number employees</td>\n",
       "      <td>managers</td>\n",
       "      <td>manager</td>\n",
       "      <td>107</td>\n",
       "    </tr>\n",
       "    <tr>\n",
       "      <th>12</th>\n",
       "      <td>alexandria real estate</td>\n",
       "      <td>alexandrias corporate</td>\n",
       "      <td>alexandria real</td>\n",
       "      <td>alexandria</td>\n",
       "      <td>health safety performance</td>\n",
       "      <td>alexandrias</td>\n",
       "      <td>health wellness</td>\n",
       "      <td>charitable organizations</td>\n",
       "      <td>nonprofit organizations</td>\n",
       "      <td>health safety committee</td>\n",
       "      <td>102</td>\n",
       "    </tr>\n",
       "    <tr>\n",
       "      <th>13</th>\n",
       "      <td>report environmental performance</td>\n",
       "      <td>report environment continued</td>\n",
       "      <td>esg report environmental</td>\n",
       "      <td>report environmental stewardship</td>\n",
       "      <td>report environmental</td>\n",
       "      <td>responsibility report environmental</td>\n",
       "      <td>report environment</td>\n",
       "      <td>responsibility report environment</td>\n",
       "      <td>corporate information environmental</td>\n",
       "      <td>environmental assessment</td>\n",
       "      <td>102</td>\n",
       "    </tr>\n",
       "    <tr>\n",
       "      <th>14</th>\n",
       "      <td>big yellow foundation</td>\n",
       "      <td>yellow foundation</td>\n",
       "      <td>year big yellow</td>\n",
       "      <td>big yellow construction</td>\n",
       "      <td>big yellow group</td>\n",
       "      <td>big yellow</td>\n",
       "      <td>yellow group plc</td>\n",
       "      <td>big yellows</td>\n",
       "      <td>charitable organizations</td>\n",
       "      <td>yellow construction</td>\n",
       "      <td>98</td>\n",
       "    </tr>\n",
       "    <tr>\n",
       "      <th>15</th>\n",
       "      <td>report environmental performance</td>\n",
       "      <td>report corporate overview</td>\n",
       "      <td>esg impact report</td>\n",
       "      <td>report environmental stewardship</td>\n",
       "      <td>defining report content</td>\n",
       "      <td>responsibility report environmental</td>\n",
       "      <td>esg report environmental</td>\n",
       "      <td>report environment continued</td>\n",
       "      <td>responsibility report environment</td>\n",
       "      <td>impact report</td>\n",
       "      <td>92</td>\n",
       "    </tr>\n",
       "    <tr>\n",
       "      <th>16</th>\n",
       "      <td>investor relations</td>\n",
       "      <td>customers investors</td>\n",
       "      <td>real estate investment</td>\n",
       "      <td>responsibility report environment</td>\n",
       "      <td>responsibility report environmental</td>\n",
       "      <td>estate investment</td>\n",
       "      <td>corporate responsibility report</td>\n",
       "      <td>responsibility report corporate</td>\n",
       "      <td>year big yellow</td>\n",
       "      <td>quarterly earnings calls</td>\n",
       "      <td>86</td>\n",
       "    </tr>\n",
       "    <tr>\n",
       "      <th>17</th>\n",
       "      <td>code ethics business</td>\n",
       "      <td>ethics business conduct</td>\n",
       "      <td>code ethics</td>\n",
       "      <td>ethics business</td>\n",
       "      <td>ethical standards</td>\n",
       "      <td>ethics governance gri</td>\n",
       "      <td>code conduct</td>\n",
       "      <td>ethics governance environmental</td>\n",
       "      <td>responsibility ethics governance</td>\n",
       "      <td>corrupt practices act</td>\n",
       "      <td>80</td>\n",
       "    </tr>\n",
       "    <tr>\n",
       "      <th>18</th>\n",
       "      <td>waste recycling</td>\n",
       "      <td>waste landfill</td>\n",
       "      <td>recycling</td>\n",
       "      <td>waste management</td>\n",
       "      <td>store waste</td>\n",
       "      <td>construction waste</td>\n",
       "      <td>recycled</td>\n",
       "      <td>recycled content</td>\n",
       "      <td>waste</td>\n",
       "      <td>water waste</td>\n",
       "      <td>73</td>\n",
       "    </tr>\n",
       "    <tr>\n",
       "      <th>19</th>\n",
       "      <td>risk management</td>\n",
       "      <td>evaluation management approach</td>\n",
       "      <td>evaluation management</td>\n",
       "      <td>related risk</td>\n",
       "      <td>dangerous occurrences</td>\n",
       "      <td>management approach components</td>\n",
       "      <td>risks opportunities</td>\n",
       "      <td>management approach</td>\n",
       "      <td>risk</td>\n",
       "      <td>diseases dangerous occurrences</td>\n",
       "      <td>70</td>\n",
       "    </tr>\n",
       "    <tr>\n",
       "      <th>20</th>\n",
       "      <td>number reportable injuries</td>\n",
       "      <td>minor injuries reportable</td>\n",
       "      <td>injuries number reportable</td>\n",
       "      <td>number minor injuries</td>\n",
       "      <td>injuries reportable injuries</td>\n",
       "      <td>minor injuries number</td>\n",
       "      <td>annual injury incidence</td>\n",
       "      <td>reportable injuries</td>\n",
       "      <td>reporting injuries</td>\n",
       "      <td>riddor reporting injuries</td>\n",
       "      <td>67</td>\n",
       "    </tr>\n",
       "    <tr>\n",
       "      <th>21</th>\n",
       "      <td>digital realty esg</td>\n",
       "      <td>digital realty</td>\n",
       "      <td>digital realtys</td>\n",
       "      <td>realty esg report</td>\n",
       "      <td>page digital realty</td>\n",
       "      <td>report environment continued</td>\n",
       "      <td>sustainability reporting</td>\n",
       "      <td>data centers</td>\n",
       "      <td>sustainability report</td>\n",
       "      <td>information environmental stewardship</td>\n",
       "      <td>66</td>\n",
       "    </tr>\n",
       "    <tr>\n",
       "      <th>22</th>\n",
       "      <td>risk management</td>\n",
       "      <td>climate change</td>\n",
       "      <td>risks opportunities</td>\n",
       "      <td>dangerous occurrences</td>\n",
       "      <td>extreme weather events</td>\n",
       "      <td>evaluation management approach</td>\n",
       "      <td>diseases dangerous occurrences</td>\n",
       "      <td>related risk</td>\n",
       "      <td>natural disasters</td>\n",
       "      <td>injuries diseases dangerous</td>\n",
       "      <td>65</td>\n",
       "    </tr>\n",
       "    <tr>\n",
       "      <th>23</th>\n",
       "      <td>staff health safety</td>\n",
       "      <td>time employees</td>\n",
       "      <td>staff health</td>\n",
       "      <td>volunteer hours</td>\n",
       "      <td>retirement</td>\n",
       "      <td>health safety performance</td>\n",
       "      <td>occupational health</td>\n",
       "      <td>prologis employees</td>\n",
       "      <td>number employees</td>\n",
       "      <td>year total</td>\n",
       "      <td>57</td>\n",
       "    </tr>\n",
       "    <tr>\n",
       "      <th>24</th>\n",
       "      <td>board directors</td>\n",
       "      <td>board governance</td>\n",
       "      <td>board governance nomination</td>\n",
       "      <td>governance nomination committee</td>\n",
       "      <td>audit committee</td>\n",
       "      <td>senior management</td>\n",
       "      <td>advisory board</td>\n",
       "      <td>csr manager</td>\n",
       "      <td>board</td>\n",
       "      <td>management approach components</td>\n",
       "      <td>56</td>\n",
       "    </tr>\n",
       "    <tr>\n",
       "      <th>25</th>\n",
       "      <td>time employees</td>\n",
       "      <td>number employees</td>\n",
       "      <td>average number staff</td>\n",
       "      <td>employee turnover</td>\n",
       "      <td>number staff</td>\n",
       "      <td>prologis employees</td>\n",
       "      <td>employees</td>\n",
       "      <td>workforce</td>\n",
       "      <td>employee engagement</td>\n",
       "      <td>employee engagement survey</td>\n",
       "      <td>54</td>\n",
       "    </tr>\n",
       "    <tr>\n",
       "      <th>26</th>\n",
       "      <td>discrimination</td>\n",
       "      <td>employment type</td>\n",
       "      <td>equal opportunity</td>\n",
       "      <td>prologis employees</td>\n",
       "      <td>hire</td>\n",
       "      <td>career development</td>\n",
       "      <td>employee turnover</td>\n",
       "      <td>number employees</td>\n",
       "      <td>workforce</td>\n",
       "      <td>time employees</td>\n",
       "      <td>51</td>\n",
       "    </tr>\n",
       "    <tr>\n",
       "      <th>27</th>\n",
       "      <td>real estate investment</td>\n",
       "      <td>estate investment</td>\n",
       "      <td>real estate equities</td>\n",
       "      <td>property management</td>\n",
       "      <td>industrial real estate</td>\n",
       "      <td>real estate company</td>\n",
       "      <td>investor relations</td>\n",
       "      <td>global real estate</td>\n",
       "      <td>assets management</td>\n",
       "      <td>association real estate</td>\n",
       "      <td>51</td>\n",
       "    </tr>\n",
       "    <tr>\n",
       "      <th>28</th>\n",
       "      <td>association real estate</td>\n",
       "      <td>green building council</td>\n",
       "      <td>real estate association</td>\n",
       "      <td>real estate sustainability</td>\n",
       "      <td>green building</td>\n",
       "      <td>estate association</td>\n",
       "      <td>industrial real estate</td>\n",
       "      <td>global real estate</td>\n",
       "      <td>governance environmental stewardship</td>\n",
       "      <td>logistics real estate</td>\n",
       "      <td>50</td>\n",
       "    </tr>\n",
       "    <tr>\n",
       "      <th>29</th>\n",
       "      <td>global provider</td>\n",
       "      <td>global reporting</td>\n",
       "      <td>global real estate</td>\n",
       "      <td>worlds largest</td>\n",
       "      <td>leading global</td>\n",
       "      <td>business excellence global</td>\n",
       "      <td>prologis global</td>\n",
       "      <td>global portfolio</td>\n",
       "      <td>million square meters</td>\n",
       "      <td>company wide</td>\n",
       "      <td>46</td>\n",
       "    </tr>\n",
       "    <tr>\n",
       "      <th>30</th>\n",
       "      <td>energy use carbon</td>\n",
       "      <td>energy carbon</td>\n",
       "      <td>total energy use</td>\n",
       "      <td>energy use kwh</td>\n",
       "      <td>greenhouse gas emissions</td>\n",
       "      <td>energy water waste</td>\n",
       "      <td>energy consumption</td>\n",
       "      <td>use carbon emissions</td>\n",
       "      <td>total energy</td>\n",
       "      <td>gas ghg emissions</td>\n",
       "      <td>45</td>\n",
       "    </tr>\n",
       "    <tr>\n",
       "      <th>31</th>\n",
       "      <td>green roof</td>\n",
       "      <td>green roofs</td>\n",
       "      <td>rooftop solar</td>\n",
       "      <td>rooftop solar installations</td>\n",
       "      <td>green building council</td>\n",
       "      <td>green building</td>\n",
       "      <td>high wycombe</td>\n",
       "      <td>energy efficient lighting</td>\n",
       "      <td>energy performance certificates</td>\n",
       "      <td>twickenham</td>\n",
       "      <td>40</td>\n",
       "    </tr>\n",
       "    <tr>\n",
       "      <th>32</th>\n",
       "      <td>natural disasters</td>\n",
       "      <td>emergency response</td>\n",
       "      <td>construction waste</td>\n",
       "      <td>disasters</td>\n",
       "      <td>building design</td>\n",
       "      <td>design construction</td>\n",
       "      <td>big yellow construction</td>\n",
       "      <td>construction materials</td>\n",
       "      <td>considerate constructors scheme</td>\n",
       "      <td>construction sites</td>\n",
       "      <td>40</td>\n",
       "    </tr>\n",
       "    <tr>\n",
       "      <th>33</th>\n",
       "      <td>health safety committee</td>\n",
       "      <td>staff health safety</td>\n",
       "      <td>health safety performance</td>\n",
       "      <td>health safety</td>\n",
       "      <td>visitor health safety</td>\n",
       "      <td>safety committee</td>\n",
       "      <td>big yellow construction</td>\n",
       "      <td>yellow construction</td>\n",
       "      <td>assurance report</td>\n",
       "      <td>staff health</td>\n",
       "      <td>36</td>\n",
       "    </tr>\n",
       "    <tr>\n",
       "      <th>34</th>\n",
       "      <td>information security</td>\n",
       "      <td>staff health safety</td>\n",
       "      <td>cybersecurity</td>\n",
       "      <td>security</td>\n",
       "      <td>safety performance</td>\n",
       "      <td>health safety performance</td>\n",
       "      <td>health safety</td>\n",
       "      <td>safe</td>\n",
       "      <td>safety</td>\n",
       "      <td>level assurance</td>\n",
       "      <td>34</td>\n",
       "    </tr>\n",
       "    <tr>\n",
       "      <th>35</th>\n",
       "      <td>waste recycling</td>\n",
       "      <td>recycled content</td>\n",
       "      <td>recycling</td>\n",
       "      <td>recycled</td>\n",
       "      <td>waste landfill</td>\n",
       "      <td>packaging</td>\n",
       "      <td>reduce environmental</td>\n",
       "      <td>corporate overview environmental</td>\n",
       "      <td>report environmental</td>\n",
       "      <td>responsibility report environmental</td>\n",
       "      <td>30</td>\n",
       "    </tr>\n",
       "  </tbody>\n",
       "</table>\n",
       "</div>"
      ],
      "text/plain": [
       "                                      0                                  1  \\\n",
       "0                     energy use carbon                      energy carbon   \n",
       "1   responsibility report environmental  responsibility report environment   \n",
       "2                     energy use carbon               use carbon emissions   \n",
       "3                           water waste                 energy water waste   \n",
       "4             energy efficient lighting               energy efficient led   \n",
       "5              charitable organizations            nonprofit organizations   \n",
       "6                       year big yellow                yellow self storage   \n",
       "7          independent assurance report                   assurance report   \n",
       "8   sustainable building certifications            building certifications   \n",
       "9      report environmental performance   report environmental stewardship   \n",
       "10          rooftop solar installations                      rooftop solar   \n",
       "11                      management team                        csr manager   \n",
       "12               alexandria real estate              alexandrias corporate   \n",
       "13     report environmental performance       report environment continued   \n",
       "14                big yellow foundation                  yellow foundation   \n",
       "15     report environmental performance          report corporate overview   \n",
       "16                   investor relations                customers investors   \n",
       "17                 code ethics business            ethics business conduct   \n",
       "18                      waste recycling                     waste landfill   \n",
       "19                      risk management     evaluation management approach   \n",
       "20           number reportable injuries          minor injuries reportable   \n",
       "21                   digital realty esg                     digital realty   \n",
       "22                      risk management                     climate change   \n",
       "23                  staff health safety                     time employees   \n",
       "24                      board directors                   board governance   \n",
       "25                       time employees                   number employees   \n",
       "26                       discrimination                    employment type   \n",
       "27               real estate investment                  estate investment   \n",
       "28              association real estate             green building council   \n",
       "29                      global provider                   global reporting   \n",
       "30                    energy use carbon                      energy carbon   \n",
       "31                           green roof                        green roofs   \n",
       "32                    natural disasters                 emergency response   \n",
       "33              health safety committee                staff health safety   \n",
       "34                 information security                staff health safety   \n",
       "35                      waste recycling                   recycled content   \n",
       "\n",
       "                                  2                                  3  \\\n",
       "0                    energy savings               use carbon emissions   \n",
       "1      responsibility environmental   environmental stewardship social   \n",
       "2          carbon dioxide emissions                   carbon pollution   \n",
       "3                water conservation                        water usage   \n",
       "4      renewable energy initiatives                  energy efficiency   \n",
       "5                        volunteers                       volunteering   \n",
       "6                  big yellow group                   yellow group plc   \n",
       "7   responsibility report continued             data reviewed deloitte   \n",
       "8                    green building                 leed certification   \n",
       "9    evaluation management approach            defining report content   \n",
       "10     solar electricity generation                       solar energy   \n",
       "11             training development                     time employees   \n",
       "12                  alexandria real                         alexandria   \n",
       "13         esg report environmental   report environmental stewardship   \n",
       "14                  year big yellow            big yellow construction   \n",
       "15                esg impact report   report environmental stewardship   \n",
       "16           real estate investment  responsibility report environment   \n",
       "17                      code ethics                    ethics business   \n",
       "18                        recycling                   waste management   \n",
       "19            evaluation management                       related risk   \n",
       "20       injuries number reportable              number minor injuries   \n",
       "21                  digital realtys                  realty esg report   \n",
       "22              risks opportunities              dangerous occurrences   \n",
       "23                     staff health                    volunteer hours   \n",
       "24      board governance nomination    governance nomination committee   \n",
       "25             average number staff                  employee turnover   \n",
       "26                equal opportunity                 prologis employees   \n",
       "27             real estate equities                property management   \n",
       "28          real estate association         real estate sustainability   \n",
       "29               global real estate                     worlds largest   \n",
       "30                 total energy use                     energy use kwh   \n",
       "31                    rooftop solar        rooftop solar installations   \n",
       "32               construction waste                          disasters   \n",
       "33        health safety performance                      health safety   \n",
       "34                    cybersecurity                           security   \n",
       "35                        recycling                           recycled   \n",
       "\n",
       "                                      4  \\\n",
       "0                        energy use kwh   \n",
       "1       corporate social responsibility   \n",
       "2                         energy carbon   \n",
       "3                      water efficiency   \n",
       "4                      energy efficient   \n",
       "5                       volunteer hours   \n",
       "6                       big yellow self   \n",
       "7       corporate responsibility report   \n",
       "8                        leed certified   \n",
       "9              esg report environmental   \n",
       "10                    solar electricity   \n",
       "11                    senior management   \n",
       "12            health safety performance   \n",
       "13                 report environmental   \n",
       "14                     big yellow group   \n",
       "15              defining report content   \n",
       "16  responsibility report environmental   \n",
       "17                    ethical standards   \n",
       "18                          store waste   \n",
       "19                dangerous occurrences   \n",
       "20         injuries reportable injuries   \n",
       "21                  page digital realty   \n",
       "22               extreme weather events   \n",
       "23                           retirement   \n",
       "24                      audit committee   \n",
       "25                         number staff   \n",
       "26                                 hire   \n",
       "27               industrial real estate   \n",
       "28                       green building   \n",
       "29                       leading global   \n",
       "30             greenhouse gas emissions   \n",
       "31               green building council   \n",
       "32                      building design   \n",
       "33                visitor health safety   \n",
       "34                   safety performance   \n",
       "35                       waste landfill   \n",
       "\n",
       "                                         5                                6  \\\n",
       "0                       energy consumption        energy efficient lighting   \n",
       "1         corporate overview environmental     social responsibility ethics   \n",
       "2                         carbon emissions                 emissions carbon   \n",
       "3   establishment environmental assessment                  waste recycling   \n",
       "4                         renewable energy                energy use carbon   \n",
       "5                                donations                         donation   \n",
       "6                               big yellow          big yellow construction   \n",
       "7         report environmental performance  responsibility report corporate   \n",
       "8                   green building council  energy performance certificates   \n",
       "9        responsibility report environment             report environmental   \n",
       "10                     solar installations                     solar panels   \n",
       "11                    average number staff               career development   \n",
       "12                             alexandrias                  health wellness   \n",
       "13     responsibility report environmental               report environment   \n",
       "14                              big yellow                 yellow group plc   \n",
       "15     responsibility report environmental         esg report environmental   \n",
       "16                       estate investment  corporate responsibility report   \n",
       "17                   ethics governance gri                     code conduct   \n",
       "18                      construction waste                         recycled   \n",
       "19          management approach components              risks opportunities   \n",
       "20                   minor injuries number          annual injury incidence   \n",
       "21            report environment continued         sustainability reporting   \n",
       "22          evaluation management approach   diseases dangerous occurrences   \n",
       "23               health safety performance              occupational health   \n",
       "24                       senior management                   advisory board   \n",
       "25                      prologis employees                        employees   \n",
       "26                      career development                employee turnover   \n",
       "27                     real estate company               investor relations   \n",
       "28                      estate association           industrial real estate   \n",
       "29              business excellence global                  prologis global   \n",
       "30                      energy water waste               energy consumption   \n",
       "31                          green building                     high wycombe   \n",
       "32                     design construction          big yellow construction   \n",
       "33                        safety committee          big yellow construction   \n",
       "34               health safety performance                    health safety   \n",
       "35                               packaging             reduce environmental   \n",
       "\n",
       "                                      7                                     8  \\\n",
       "0                 store electricity use                         reduce energy   \n",
       "1       environmental social governance    environmental stewardship approach   \n",
       "2                         reduce carbon                       carbon emission   \n",
       "3                             water use              environmental management   \n",
       "4                    efficient lighting           renewable energy generation   \n",
       "5                             charities                          volunteerism   \n",
       "6                 big yellow foundation                      march big yellow   \n",
       "7        prologis sustainability report          report environment continued   \n",
       "8                  sustainable building                            green roof   \n",
       "9   responsibility report environmental                  management reporting   \n",
       "10                     solar generation                              solar pv   \n",
       "11                     number employees                              managers   \n",
       "12             charitable organizations               nonprofit organizations   \n",
       "13    responsibility report environment   corporate information environmental   \n",
       "14                          big yellows              charitable organizations   \n",
       "15         report environment continued     responsibility report environment   \n",
       "16      responsibility report corporate                       year big yellow   \n",
       "17      ethics governance environmental      responsibility ethics governance   \n",
       "18                     recycled content                                 waste   \n",
       "19                  management approach                                  risk   \n",
       "20                  reportable injuries                    reporting injuries   \n",
       "21                         data centers                 sustainability report   \n",
       "22                         related risk                     natural disasters   \n",
       "23                   prologis employees                      number employees   \n",
       "24                          csr manager                                 board   \n",
       "25                            workforce                   employee engagement   \n",
       "26                     number employees                             workforce   \n",
       "27                   global real estate                     assets management   \n",
       "28                   global real estate  governance environmental stewardship   \n",
       "29                     global portfolio                 million square meters   \n",
       "30                 use carbon emissions                          total energy   \n",
       "31            energy efficient lighting       energy performance certificates   \n",
       "32               construction materials       considerate constructors scheme   \n",
       "33                  yellow construction                      assurance report   \n",
       "34                                 safe                                safety   \n",
       "35     corporate overview environmental                  report environmental   \n",
       "\n",
       "                                        9  size  \n",
       "0                            energy usage   335  \n",
       "1         responsibility report corporate   280  \n",
       "2              corporate carbon footprint   206  \n",
       "3                low environmental impact   188  \n",
       "4                          energy savings   182  \n",
       "5                               volunteer   153  \n",
       "6                             big yellows   151  \n",
       "7                          report content   149  \n",
       "8                           certification   126  \n",
       "9                      report environment   119  \n",
       "10                               mw solar   113  \n",
       "11                                manager   107  \n",
       "12                health safety committee   102  \n",
       "13               environmental assessment   102  \n",
       "14                    yellow construction    98  \n",
       "15                          impact report    92  \n",
       "16               quarterly earnings calls    86  \n",
       "17                  corrupt practices act    80  \n",
       "18                            water waste    73  \n",
       "19         diseases dangerous occurrences    70  \n",
       "20              riddor reporting injuries    67  \n",
       "21  information environmental stewardship    66  \n",
       "22            injuries diseases dangerous    65  \n",
       "23                             year total    57  \n",
       "24         management approach components    56  \n",
       "25             employee engagement survey    54  \n",
       "26                         time employees    51  \n",
       "27                association real estate    51  \n",
       "28                  logistics real estate    50  \n",
       "29                           company wide    46  \n",
       "30                      gas ghg emissions    45  \n",
       "31                             twickenham    40  \n",
       "32                     construction sites    40  \n",
       "33                           staff health    36  \n",
       "34                        level assurance    34  \n",
       "35    responsibility report environmental    30  "
      ]
     },
     "execution_count": 255,
     "metadata": {},
     "output_type": "execute_result"
    }
   ],
   "source": [
    "topics_top2Vec = pd.DataFrame(topic_words).iloc[:,0:10]\n",
    "topics_top2Vec[\"size\"] = topic_sizes\n",
    "topics_top2Vec"
   ]
  },
  {
   "cell_type": "code",
   "execution_count": 256,
   "metadata": {},
   "outputs": [],
   "source": [
    "keyword_embed = model_distilBert.embed([\"volunteering\"])\n",
    "res = cosine_similarity(keyword_embed, model_distilBert.topic_vectors)"
   ]
  },
  {
   "cell_type": "code",
   "execution_count": 257,
   "metadata": {},
   "outputs": [],
   "source": [
    "scores = pd.DataFrame(res, index=[\"Cosine similiarity\"]).T\n",
    "scores[\"Topic\"] = list(range(0,len(scores)))"
   ]
  },
  {
   "cell_type": "code",
   "execution_count": 258,
   "metadata": {},
   "outputs": [],
   "source": [
    "scores[\"Top words\"] = scores[\"Topic\"].apply(lambda x: list(topics_top2Vec.iloc[x,0:3]))"
   ]
  },
  {
   "cell_type": "code",
   "execution_count": 259,
   "metadata": {
    "scrolled": false
   },
   "outputs": [
    {
     "data": {
      "text/html": [
       "<div>\n",
       "<style scoped>\n",
       "    .dataframe tbody tr th:only-of-type {\n",
       "        vertical-align: middle;\n",
       "    }\n",
       "\n",
       "    .dataframe tbody tr th {\n",
       "        vertical-align: top;\n",
       "    }\n",
       "\n",
       "    .dataframe thead th {\n",
       "        text-align: right;\n",
       "    }\n",
       "</style>\n",
       "<table border=\"1\" class=\"dataframe\">\n",
       "  <thead>\n",
       "    <tr style=\"text-align: right;\">\n",
       "      <th></th>\n",
       "      <th>Cosine similiarity</th>\n",
       "      <th>Topic</th>\n",
       "      <th>Top words</th>\n",
       "    </tr>\n",
       "  </thead>\n",
       "  <tbody>\n",
       "    <tr>\n",
       "      <th>5</th>\n",
       "      <td>0.341900</td>\n",
       "      <td>5</td>\n",
       "      <td>[charitable organizations, nonprofit organizat...</td>\n",
       "    </tr>\n",
       "    <tr>\n",
       "      <th>14</th>\n",
       "      <td>0.278833</td>\n",
       "      <td>14</td>\n",
       "      <td>[big yellow foundation, yellow foundation, yea...</td>\n",
       "    </tr>\n",
       "    <tr>\n",
       "      <th>12</th>\n",
       "      <td>0.078741</td>\n",
       "      <td>12</td>\n",
       "      <td>[alexandria real estate, alexandrias corporate...</td>\n",
       "    </tr>\n",
       "    <tr>\n",
       "      <th>11</th>\n",
       "      <td>0.011052</td>\n",
       "      <td>11</td>\n",
       "      <td>[management team, csr manager, training develo...</td>\n",
       "    </tr>\n",
       "    <tr>\n",
       "      <th>23</th>\n",
       "      <td>0.008431</td>\n",
       "      <td>23</td>\n",
       "      <td>[staff health safety, time employees, staff he...</td>\n",
       "    </tr>\n",
       "    <tr>\n",
       "      <th>28</th>\n",
       "      <td>0.000286</td>\n",
       "      <td>28</td>\n",
       "      <td>[association real estate, green building counc...</td>\n",
       "    </tr>\n",
       "    <tr>\n",
       "      <th>26</th>\n",
       "      <td>-0.017232</td>\n",
       "      <td>26</td>\n",
       "      <td>[discrimination, employment type, equal opport...</td>\n",
       "    </tr>\n",
       "    <tr>\n",
       "      <th>6</th>\n",
       "      <td>-0.025650</td>\n",
       "      <td>6</td>\n",
       "      <td>[year big yellow, yellow self storage, big yel...</td>\n",
       "    </tr>\n",
       "    <tr>\n",
       "      <th>10</th>\n",
       "      <td>-0.027797</td>\n",
       "      <td>10</td>\n",
       "      <td>[rooftop solar installations, rooftop solar, s...</td>\n",
       "    </tr>\n",
       "    <tr>\n",
       "      <th>16</th>\n",
       "      <td>-0.030073</td>\n",
       "      <td>16</td>\n",
       "      <td>[investor relations, customers investors, real...</td>\n",
       "    </tr>\n",
       "  </tbody>\n",
       "</table>\n",
       "</div>"
      ],
      "text/plain": [
       "    Cosine similiarity  Topic  \\\n",
       "5             0.341900      5   \n",
       "14            0.278833     14   \n",
       "12            0.078741     12   \n",
       "11            0.011052     11   \n",
       "23            0.008431     23   \n",
       "28            0.000286     28   \n",
       "26           -0.017232     26   \n",
       "6            -0.025650      6   \n",
       "10           -0.027797     10   \n",
       "16           -0.030073     16   \n",
       "\n",
       "                                            Top words  \n",
       "5   [charitable organizations, nonprofit organizat...  \n",
       "14  [big yellow foundation, yellow foundation, yea...  \n",
       "12  [alexandria real estate, alexandrias corporate...  \n",
       "11  [management team, csr manager, training develo...  \n",
       "23  [staff health safety, time employees, staff he...  \n",
       "28  [association real estate, green building counc...  \n",
       "26  [discrimination, employment type, equal opport...  \n",
       "6   [year big yellow, yellow self storage, big yel...  \n",
       "10  [rooftop solar installations, rooftop solar, s...  \n",
       "16  [investor relations, customers investors, real...  "
      ]
     },
     "execution_count": 259,
     "metadata": {},
     "output_type": "execute_result"
    }
   ],
   "source": [
    "scores.sort_values(by=\"Cosine similiarity\", ascending=False, inplace=True)\n",
    "scores.head(10)"
   ]
  },
  {
   "cell_type": "code",
   "execution_count": 260,
   "metadata": {},
   "outputs": [
    {
     "data": {
      "application/vnd.plotly.v1+json": {
       "config": {
        "plotlyServerURL": "https://plot.ly"
       },
       "data": [
        {
         "alignmentgroup": "True",
         "hovertemplate": "Topic=%{x}<br>Cosine similiarity=%{y}<br>Top words=%{text}<extra></extra>",
         "legendgroup": "",
         "marker": {
          "color": "#636efa"
         },
         "name": "",
         "offsetgroup": "",
         "orientation": "v",
         "showlegend": false,
         "text": [
          [
           "charitable organizations",
           "nonprofit organizations",
           "volunteers"
          ],
          [
           "big yellow foundation",
           "yellow foundation",
           "year big yellow"
          ],
          [
           "alexandria real estate",
           "alexandrias corporate",
           "alexandria real"
          ],
          [
           "management team",
           "csr manager",
           "training development"
          ],
          [
           "staff health safety",
           "time employees",
           "staff health"
          ],
          [
           "association real estate",
           "green building council",
           "real estate association"
          ],
          [
           "discrimination",
           "employment type",
           "equal opportunity"
          ],
          [
           "year big yellow",
           "yellow self storage",
           "big yellow group"
          ],
          [
           "rooftop solar installations",
           "rooftop solar",
           "solar electricity generation"
          ],
          [
           "investor relations",
           "customers investors",
           "real estate investment"
          ]
         ],
         "textposition": "auto",
         "type": "bar",
         "x": [
          5,
          14,
          12,
          11,
          23,
          28,
          26,
          6,
          10,
          16
         ],
         "xaxis": "x",
         "y": [
          0.34190040826797485,
          0.27883341908454895,
          0.07874128222465515,
          0.011051706038415432,
          0.008430983871221542,
          0.0002858629450201988,
          -0.01723223552107811,
          -0.025649938732385635,
          -0.027796627953648567,
          -0.03007343038916588
         ],
         "yaxis": "y"
        }
       ],
       "layout": {
        "barmode": "relative",
        "legend": {
         "tracegroupgap": 0
        },
        "template": {
         "data": {
          "bar": [
           {
            "error_x": {
             "color": "#2a3f5f"
            },
            "error_y": {
             "color": "#2a3f5f"
            },
            "marker": {
             "line": {
              "color": "#E5ECF6",
              "width": 0.5
             }
            },
            "type": "bar"
           }
          ],
          "barpolar": [
           {
            "marker": {
             "line": {
              "color": "#E5ECF6",
              "width": 0.5
             }
            },
            "type": "barpolar"
           }
          ],
          "carpet": [
           {
            "aaxis": {
             "endlinecolor": "#2a3f5f",
             "gridcolor": "white",
             "linecolor": "white",
             "minorgridcolor": "white",
             "startlinecolor": "#2a3f5f"
            },
            "baxis": {
             "endlinecolor": "#2a3f5f",
             "gridcolor": "white",
             "linecolor": "white",
             "minorgridcolor": "white",
             "startlinecolor": "#2a3f5f"
            },
            "type": "carpet"
           }
          ],
          "choropleth": [
           {
            "colorbar": {
             "outlinewidth": 0,
             "ticks": ""
            },
            "type": "choropleth"
           }
          ],
          "contour": [
           {
            "colorbar": {
             "outlinewidth": 0,
             "ticks": ""
            },
            "colorscale": [
             [
              0,
              "#0d0887"
             ],
             [
              0.1111111111111111,
              "#46039f"
             ],
             [
              0.2222222222222222,
              "#7201a8"
             ],
             [
              0.3333333333333333,
              "#9c179e"
             ],
             [
              0.4444444444444444,
              "#bd3786"
             ],
             [
              0.5555555555555556,
              "#d8576b"
             ],
             [
              0.6666666666666666,
              "#ed7953"
             ],
             [
              0.7777777777777778,
              "#fb9f3a"
             ],
             [
              0.8888888888888888,
              "#fdca26"
             ],
             [
              1,
              "#f0f921"
             ]
            ],
            "type": "contour"
           }
          ],
          "contourcarpet": [
           {
            "colorbar": {
             "outlinewidth": 0,
             "ticks": ""
            },
            "type": "contourcarpet"
           }
          ],
          "heatmap": [
           {
            "colorbar": {
             "outlinewidth": 0,
             "ticks": ""
            },
            "colorscale": [
             [
              0,
              "#0d0887"
             ],
             [
              0.1111111111111111,
              "#46039f"
             ],
             [
              0.2222222222222222,
              "#7201a8"
             ],
             [
              0.3333333333333333,
              "#9c179e"
             ],
             [
              0.4444444444444444,
              "#bd3786"
             ],
             [
              0.5555555555555556,
              "#d8576b"
             ],
             [
              0.6666666666666666,
              "#ed7953"
             ],
             [
              0.7777777777777778,
              "#fb9f3a"
             ],
             [
              0.8888888888888888,
              "#fdca26"
             ],
             [
              1,
              "#f0f921"
             ]
            ],
            "type": "heatmap"
           }
          ],
          "heatmapgl": [
           {
            "colorbar": {
             "outlinewidth": 0,
             "ticks": ""
            },
            "colorscale": [
             [
              0,
              "#0d0887"
             ],
             [
              0.1111111111111111,
              "#46039f"
             ],
             [
              0.2222222222222222,
              "#7201a8"
             ],
             [
              0.3333333333333333,
              "#9c179e"
             ],
             [
              0.4444444444444444,
              "#bd3786"
             ],
             [
              0.5555555555555556,
              "#d8576b"
             ],
             [
              0.6666666666666666,
              "#ed7953"
             ],
             [
              0.7777777777777778,
              "#fb9f3a"
             ],
             [
              0.8888888888888888,
              "#fdca26"
             ],
             [
              1,
              "#f0f921"
             ]
            ],
            "type": "heatmapgl"
           }
          ],
          "histogram": [
           {
            "marker": {
             "colorbar": {
              "outlinewidth": 0,
              "ticks": ""
             }
            },
            "type": "histogram"
           }
          ],
          "histogram2d": [
           {
            "colorbar": {
             "outlinewidth": 0,
             "ticks": ""
            },
            "colorscale": [
             [
              0,
              "#0d0887"
             ],
             [
              0.1111111111111111,
              "#46039f"
             ],
             [
              0.2222222222222222,
              "#7201a8"
             ],
             [
              0.3333333333333333,
              "#9c179e"
             ],
             [
              0.4444444444444444,
              "#bd3786"
             ],
             [
              0.5555555555555556,
              "#d8576b"
             ],
             [
              0.6666666666666666,
              "#ed7953"
             ],
             [
              0.7777777777777778,
              "#fb9f3a"
             ],
             [
              0.8888888888888888,
              "#fdca26"
             ],
             [
              1,
              "#f0f921"
             ]
            ],
            "type": "histogram2d"
           }
          ],
          "histogram2dcontour": [
           {
            "colorbar": {
             "outlinewidth": 0,
             "ticks": ""
            },
            "colorscale": [
             [
              0,
              "#0d0887"
             ],
             [
              0.1111111111111111,
              "#46039f"
             ],
             [
              0.2222222222222222,
              "#7201a8"
             ],
             [
              0.3333333333333333,
              "#9c179e"
             ],
             [
              0.4444444444444444,
              "#bd3786"
             ],
             [
              0.5555555555555556,
              "#d8576b"
             ],
             [
              0.6666666666666666,
              "#ed7953"
             ],
             [
              0.7777777777777778,
              "#fb9f3a"
             ],
             [
              0.8888888888888888,
              "#fdca26"
             ],
             [
              1,
              "#f0f921"
             ]
            ],
            "type": "histogram2dcontour"
           }
          ],
          "mesh3d": [
           {
            "colorbar": {
             "outlinewidth": 0,
             "ticks": ""
            },
            "type": "mesh3d"
           }
          ],
          "parcoords": [
           {
            "line": {
             "colorbar": {
              "outlinewidth": 0,
              "ticks": ""
             }
            },
            "type": "parcoords"
           }
          ],
          "pie": [
           {
            "automargin": true,
            "type": "pie"
           }
          ],
          "scatter": [
           {
            "marker": {
             "colorbar": {
              "outlinewidth": 0,
              "ticks": ""
             }
            },
            "type": "scatter"
           }
          ],
          "scatter3d": [
           {
            "line": {
             "colorbar": {
              "outlinewidth": 0,
              "ticks": ""
             }
            },
            "marker": {
             "colorbar": {
              "outlinewidth": 0,
              "ticks": ""
             }
            },
            "type": "scatter3d"
           }
          ],
          "scattercarpet": [
           {
            "marker": {
             "colorbar": {
              "outlinewidth": 0,
              "ticks": ""
             }
            },
            "type": "scattercarpet"
           }
          ],
          "scattergeo": [
           {
            "marker": {
             "colorbar": {
              "outlinewidth": 0,
              "ticks": ""
             }
            },
            "type": "scattergeo"
           }
          ],
          "scattergl": [
           {
            "marker": {
             "colorbar": {
              "outlinewidth": 0,
              "ticks": ""
             }
            },
            "type": "scattergl"
           }
          ],
          "scattermapbox": [
           {
            "marker": {
             "colorbar": {
              "outlinewidth": 0,
              "ticks": ""
             }
            },
            "type": "scattermapbox"
           }
          ],
          "scatterpolar": [
           {
            "marker": {
             "colorbar": {
              "outlinewidth": 0,
              "ticks": ""
             }
            },
            "type": "scatterpolar"
           }
          ],
          "scatterpolargl": [
           {
            "marker": {
             "colorbar": {
              "outlinewidth": 0,
              "ticks": ""
             }
            },
            "type": "scatterpolargl"
           }
          ],
          "scatterternary": [
           {
            "marker": {
             "colorbar": {
              "outlinewidth": 0,
              "ticks": ""
             }
            },
            "type": "scatterternary"
           }
          ],
          "surface": [
           {
            "colorbar": {
             "outlinewidth": 0,
             "ticks": ""
            },
            "colorscale": [
             [
              0,
              "#0d0887"
             ],
             [
              0.1111111111111111,
              "#46039f"
             ],
             [
              0.2222222222222222,
              "#7201a8"
             ],
             [
              0.3333333333333333,
              "#9c179e"
             ],
             [
              0.4444444444444444,
              "#bd3786"
             ],
             [
              0.5555555555555556,
              "#d8576b"
             ],
             [
              0.6666666666666666,
              "#ed7953"
             ],
             [
              0.7777777777777778,
              "#fb9f3a"
             ],
             [
              0.8888888888888888,
              "#fdca26"
             ],
             [
              1,
              "#f0f921"
             ]
            ],
            "type": "surface"
           }
          ],
          "table": [
           {
            "cells": {
             "fill": {
              "color": "#EBF0F8"
             },
             "line": {
              "color": "white"
             }
            },
            "header": {
             "fill": {
              "color": "#C8D4E3"
             },
             "line": {
              "color": "white"
             }
            },
            "type": "table"
           }
          ]
         },
         "layout": {
          "annotationdefaults": {
           "arrowcolor": "#2a3f5f",
           "arrowhead": 0,
           "arrowwidth": 1
          },
          "coloraxis": {
           "colorbar": {
            "outlinewidth": 0,
            "ticks": ""
           }
          },
          "colorscale": {
           "diverging": [
            [
             0,
             "#8e0152"
            ],
            [
             0.1,
             "#c51b7d"
            ],
            [
             0.2,
             "#de77ae"
            ],
            [
             0.3,
             "#f1b6da"
            ],
            [
             0.4,
             "#fde0ef"
            ],
            [
             0.5,
             "#f7f7f7"
            ],
            [
             0.6,
             "#e6f5d0"
            ],
            [
             0.7,
             "#b8e186"
            ],
            [
             0.8,
             "#7fbc41"
            ],
            [
             0.9,
             "#4d9221"
            ],
            [
             1,
             "#276419"
            ]
           ],
           "sequential": [
            [
             0,
             "#0d0887"
            ],
            [
             0.1111111111111111,
             "#46039f"
            ],
            [
             0.2222222222222222,
             "#7201a8"
            ],
            [
             0.3333333333333333,
             "#9c179e"
            ],
            [
             0.4444444444444444,
             "#bd3786"
            ],
            [
             0.5555555555555556,
             "#d8576b"
            ],
            [
             0.6666666666666666,
             "#ed7953"
            ],
            [
             0.7777777777777778,
             "#fb9f3a"
            ],
            [
             0.8888888888888888,
             "#fdca26"
            ],
            [
             1,
             "#f0f921"
            ]
           ],
           "sequentialminus": [
            [
             0,
             "#0d0887"
            ],
            [
             0.1111111111111111,
             "#46039f"
            ],
            [
             0.2222222222222222,
             "#7201a8"
            ],
            [
             0.3333333333333333,
             "#9c179e"
            ],
            [
             0.4444444444444444,
             "#bd3786"
            ],
            [
             0.5555555555555556,
             "#d8576b"
            ],
            [
             0.6666666666666666,
             "#ed7953"
            ],
            [
             0.7777777777777778,
             "#fb9f3a"
            ],
            [
             0.8888888888888888,
             "#fdca26"
            ],
            [
             1,
             "#f0f921"
            ]
           ]
          },
          "colorway": [
           "#636efa",
           "#EF553B",
           "#00cc96",
           "#ab63fa",
           "#FFA15A",
           "#19d3f3",
           "#FF6692",
           "#B6E880",
           "#FF97FF",
           "#FECB52"
          ],
          "font": {
           "color": "#2a3f5f"
          },
          "geo": {
           "bgcolor": "white",
           "lakecolor": "white",
           "landcolor": "#E5ECF6",
           "showlakes": true,
           "showland": true,
           "subunitcolor": "white"
          },
          "hoverlabel": {
           "align": "left"
          },
          "hovermode": "closest",
          "mapbox": {
           "style": "light"
          },
          "paper_bgcolor": "white",
          "plot_bgcolor": "#E5ECF6",
          "polar": {
           "angularaxis": {
            "gridcolor": "white",
            "linecolor": "white",
            "ticks": ""
           },
           "bgcolor": "#E5ECF6",
           "radialaxis": {
            "gridcolor": "white",
            "linecolor": "white",
            "ticks": ""
           }
          },
          "scene": {
           "xaxis": {
            "backgroundcolor": "#E5ECF6",
            "gridcolor": "white",
            "gridwidth": 2,
            "linecolor": "white",
            "showbackground": true,
            "ticks": "",
            "zerolinecolor": "white"
           },
           "yaxis": {
            "backgroundcolor": "#E5ECF6",
            "gridcolor": "white",
            "gridwidth": 2,
            "linecolor": "white",
            "showbackground": true,
            "ticks": "",
            "zerolinecolor": "white"
           },
           "zaxis": {
            "backgroundcolor": "#E5ECF6",
            "gridcolor": "white",
            "gridwidth": 2,
            "linecolor": "white",
            "showbackground": true,
            "ticks": "",
            "zerolinecolor": "white"
           }
          },
          "shapedefaults": {
           "line": {
            "color": "#2a3f5f"
           }
          },
          "ternary": {
           "aaxis": {
            "gridcolor": "white",
            "linecolor": "white",
            "ticks": ""
           },
           "baxis": {
            "gridcolor": "white",
            "linecolor": "white",
            "ticks": ""
           },
           "bgcolor": "#E5ECF6",
           "caxis": {
            "gridcolor": "white",
            "linecolor": "white",
            "ticks": ""
           }
          },
          "title": {
           "x": 0.05
          },
          "xaxis": {
           "automargin": true,
           "gridcolor": "white",
           "linecolor": "white",
           "ticks": "",
           "title": {
            "standoff": 15
           },
           "zerolinecolor": "white",
           "zerolinewidth": 2
          },
          "yaxis": {
           "automargin": true,
           "gridcolor": "white",
           "linecolor": "white",
           "ticks": "",
           "title": {
            "standoff": 15
           },
           "zerolinecolor": "white",
           "zerolinewidth": 2
          }
         }
        },
        "title": {
         "text": "10 highest topic loadings"
        },
        "xaxis": {
         "anchor": "y",
         "domain": [
          0,
          1
         ],
         "title": {
          "text": "Topic"
         },
         "type": "category"
        },
        "yaxis": {
         "anchor": "x",
         "domain": [
          0,
          1
         ],
         "title": {
          "text": "Cosine similiarity"
         }
        }
       }
      },
      "text/html": [
       "<div>                            <div id=\"ae110b68-027d-488c-a464-23d08b467ac4\" class=\"plotly-graph-div\" style=\"height:525px; width:100%;\"></div>            <script type=\"text/javascript\">                require([\"plotly\"], function(Plotly) {                    window.PLOTLYENV=window.PLOTLYENV || {};                                    if (document.getElementById(\"ae110b68-027d-488c-a464-23d08b467ac4\")) {                    Plotly.newPlot(                        \"ae110b68-027d-488c-a464-23d08b467ac4\",                        [{\"alignmentgroup\": \"True\", \"hovertemplate\": \"Topic=%{x}<br>Cosine similiarity=%{y}<br>Top words=%{text}<extra></extra>\", \"legendgroup\": \"\", \"marker\": {\"color\": \"#636efa\"}, \"name\": \"\", \"offsetgroup\": \"\", \"orientation\": \"v\", \"showlegend\": false, \"text\": [[\"charitable organizations\", \"nonprofit organizations\", \"volunteers\"], [\"big yellow foundation\", \"yellow foundation\", \"year big yellow\"], [\"alexandria real estate\", \"alexandrias corporate\", \"alexandria real\"], [\"management team\", \"csr manager\", \"training development\"], [\"staff health safety\", \"time employees\", \"staff health\"], [\"association real estate\", \"green building council\", \"real estate association\"], [\"discrimination\", \"employment type\", \"equal opportunity\"], [\"year big yellow\", \"yellow self storage\", \"big yellow group\"], [\"rooftop solar installations\", \"rooftop solar\", \"solar electricity generation\"], [\"investor relations\", \"customers investors\", \"real estate investment\"]], \"textposition\": \"auto\", \"type\": \"bar\", \"x\": [5, 14, 12, 11, 23, 28, 26, 6, 10, 16], \"xaxis\": \"x\", \"y\": [0.34190040826797485, 0.27883341908454895, 0.07874128222465515, 0.011051706038415432, 0.008430983871221542, 0.0002858629450201988, -0.01723223552107811, -0.025649938732385635, -0.027796627953648567, -0.03007343038916588], \"yaxis\": \"y\"}],                        {\"barmode\": \"relative\", \"legend\": {\"tracegroupgap\": 0}, \"template\": {\"data\": {\"bar\": [{\"error_x\": {\"color\": \"#2a3f5f\"}, \"error_y\": {\"color\": \"#2a3f5f\"}, \"marker\": {\"line\": {\"color\": \"#E5ECF6\", \"width\": 0.5}}, \"type\": \"bar\"}], \"barpolar\": [{\"marker\": {\"line\": {\"color\": \"#E5ECF6\", \"width\": 0.5}}, \"type\": \"barpolar\"}], \"carpet\": [{\"aaxis\": {\"endlinecolor\": \"#2a3f5f\", \"gridcolor\": \"white\", \"linecolor\": \"white\", \"minorgridcolor\": \"white\", \"startlinecolor\": \"#2a3f5f\"}, \"baxis\": {\"endlinecolor\": \"#2a3f5f\", \"gridcolor\": \"white\", \"linecolor\": \"white\", \"minorgridcolor\": \"white\", \"startlinecolor\": \"#2a3f5f\"}, \"type\": \"carpet\"}], \"choropleth\": [{\"colorbar\": {\"outlinewidth\": 0, \"ticks\": \"\"}, \"type\": \"choropleth\"}], \"contour\": [{\"colorbar\": {\"outlinewidth\": 0, \"ticks\": \"\"}, \"colorscale\": [[0.0, \"#0d0887\"], [0.1111111111111111, \"#46039f\"], [0.2222222222222222, \"#7201a8\"], [0.3333333333333333, \"#9c179e\"], [0.4444444444444444, \"#bd3786\"], [0.5555555555555556, \"#d8576b\"], [0.6666666666666666, \"#ed7953\"], [0.7777777777777778, \"#fb9f3a\"], [0.8888888888888888, \"#fdca26\"], [1.0, \"#f0f921\"]], \"type\": \"contour\"}], \"contourcarpet\": [{\"colorbar\": {\"outlinewidth\": 0, \"ticks\": \"\"}, \"type\": \"contourcarpet\"}], \"heatmap\": [{\"colorbar\": {\"outlinewidth\": 0, \"ticks\": \"\"}, \"colorscale\": [[0.0, \"#0d0887\"], [0.1111111111111111, \"#46039f\"], [0.2222222222222222, \"#7201a8\"], [0.3333333333333333, \"#9c179e\"], [0.4444444444444444, \"#bd3786\"], [0.5555555555555556, \"#d8576b\"], [0.6666666666666666, \"#ed7953\"], [0.7777777777777778, \"#fb9f3a\"], [0.8888888888888888, \"#fdca26\"], [1.0, \"#f0f921\"]], \"type\": \"heatmap\"}], \"heatmapgl\": [{\"colorbar\": {\"outlinewidth\": 0, \"ticks\": \"\"}, \"colorscale\": [[0.0, \"#0d0887\"], [0.1111111111111111, \"#46039f\"], [0.2222222222222222, \"#7201a8\"], [0.3333333333333333, \"#9c179e\"], [0.4444444444444444, \"#bd3786\"], [0.5555555555555556, \"#d8576b\"], [0.6666666666666666, \"#ed7953\"], [0.7777777777777778, \"#fb9f3a\"], [0.8888888888888888, \"#fdca26\"], [1.0, \"#f0f921\"]], \"type\": \"heatmapgl\"}], \"histogram\": [{\"marker\": {\"colorbar\": {\"outlinewidth\": 0, \"ticks\": \"\"}}, \"type\": \"histogram\"}], \"histogram2d\": [{\"colorbar\": {\"outlinewidth\": 0, \"ticks\": \"\"}, \"colorscale\": [[0.0, \"#0d0887\"], [0.1111111111111111, \"#46039f\"], [0.2222222222222222, \"#7201a8\"], [0.3333333333333333, \"#9c179e\"], [0.4444444444444444, \"#bd3786\"], [0.5555555555555556, \"#d8576b\"], [0.6666666666666666, \"#ed7953\"], [0.7777777777777778, \"#fb9f3a\"], [0.8888888888888888, \"#fdca26\"], [1.0, \"#f0f921\"]], \"type\": \"histogram2d\"}], \"histogram2dcontour\": [{\"colorbar\": {\"outlinewidth\": 0, \"ticks\": \"\"}, \"colorscale\": [[0.0, \"#0d0887\"], [0.1111111111111111, \"#46039f\"], [0.2222222222222222, \"#7201a8\"], [0.3333333333333333, \"#9c179e\"], [0.4444444444444444, \"#bd3786\"], [0.5555555555555556, \"#d8576b\"], [0.6666666666666666, \"#ed7953\"], [0.7777777777777778, \"#fb9f3a\"], [0.8888888888888888, \"#fdca26\"], [1.0, \"#f0f921\"]], \"type\": \"histogram2dcontour\"}], \"mesh3d\": [{\"colorbar\": {\"outlinewidth\": 0, \"ticks\": \"\"}, \"type\": \"mesh3d\"}], \"parcoords\": [{\"line\": {\"colorbar\": {\"outlinewidth\": 0, \"ticks\": \"\"}}, \"type\": \"parcoords\"}], \"pie\": [{\"automargin\": true, \"type\": \"pie\"}], \"scatter\": [{\"marker\": {\"colorbar\": {\"outlinewidth\": 0, \"ticks\": \"\"}}, \"type\": \"scatter\"}], \"scatter3d\": [{\"line\": {\"colorbar\": {\"outlinewidth\": 0, \"ticks\": \"\"}}, \"marker\": {\"colorbar\": {\"outlinewidth\": 0, \"ticks\": \"\"}}, \"type\": \"scatter3d\"}], \"scattercarpet\": [{\"marker\": {\"colorbar\": {\"outlinewidth\": 0, \"ticks\": \"\"}}, \"type\": \"scattercarpet\"}], \"scattergeo\": [{\"marker\": {\"colorbar\": {\"outlinewidth\": 0, \"ticks\": \"\"}}, \"type\": \"scattergeo\"}], \"scattergl\": [{\"marker\": {\"colorbar\": {\"outlinewidth\": 0, \"ticks\": \"\"}}, \"type\": \"scattergl\"}], \"scattermapbox\": [{\"marker\": {\"colorbar\": {\"outlinewidth\": 0, \"ticks\": \"\"}}, \"type\": \"scattermapbox\"}], \"scatterpolar\": [{\"marker\": {\"colorbar\": {\"outlinewidth\": 0, \"ticks\": \"\"}}, \"type\": \"scatterpolar\"}], \"scatterpolargl\": [{\"marker\": {\"colorbar\": {\"outlinewidth\": 0, \"ticks\": \"\"}}, \"type\": \"scatterpolargl\"}], \"scatterternary\": [{\"marker\": {\"colorbar\": {\"outlinewidth\": 0, \"ticks\": \"\"}}, \"type\": \"scatterternary\"}], \"surface\": [{\"colorbar\": {\"outlinewidth\": 0, \"ticks\": \"\"}, \"colorscale\": [[0.0, \"#0d0887\"], [0.1111111111111111, \"#46039f\"], [0.2222222222222222, \"#7201a8\"], [0.3333333333333333, \"#9c179e\"], [0.4444444444444444, \"#bd3786\"], [0.5555555555555556, \"#d8576b\"], [0.6666666666666666, \"#ed7953\"], [0.7777777777777778, \"#fb9f3a\"], [0.8888888888888888, \"#fdca26\"], [1.0, \"#f0f921\"]], \"type\": \"surface\"}], \"table\": [{\"cells\": {\"fill\": {\"color\": \"#EBF0F8\"}, \"line\": {\"color\": \"white\"}}, \"header\": {\"fill\": {\"color\": \"#C8D4E3\"}, \"line\": {\"color\": \"white\"}}, \"type\": \"table\"}]}, \"layout\": {\"annotationdefaults\": {\"arrowcolor\": \"#2a3f5f\", \"arrowhead\": 0, \"arrowwidth\": 1}, \"coloraxis\": {\"colorbar\": {\"outlinewidth\": 0, \"ticks\": \"\"}}, \"colorscale\": {\"diverging\": [[0, \"#8e0152\"], [0.1, \"#c51b7d\"], [0.2, \"#de77ae\"], [0.3, \"#f1b6da\"], [0.4, \"#fde0ef\"], [0.5, \"#f7f7f7\"], [0.6, \"#e6f5d0\"], [0.7, \"#b8e186\"], [0.8, \"#7fbc41\"], [0.9, \"#4d9221\"], [1, \"#276419\"]], \"sequential\": [[0.0, \"#0d0887\"], [0.1111111111111111, \"#46039f\"], [0.2222222222222222, \"#7201a8\"], [0.3333333333333333, \"#9c179e\"], [0.4444444444444444, \"#bd3786\"], [0.5555555555555556, \"#d8576b\"], [0.6666666666666666, \"#ed7953\"], [0.7777777777777778, \"#fb9f3a\"], [0.8888888888888888, \"#fdca26\"], [1.0, \"#f0f921\"]], \"sequentialminus\": [[0.0, \"#0d0887\"], [0.1111111111111111, \"#46039f\"], [0.2222222222222222, \"#7201a8\"], [0.3333333333333333, \"#9c179e\"], [0.4444444444444444, \"#bd3786\"], [0.5555555555555556, \"#d8576b\"], [0.6666666666666666, \"#ed7953\"], [0.7777777777777778, \"#fb9f3a\"], [0.8888888888888888, \"#fdca26\"], [1.0, \"#f0f921\"]]}, \"colorway\": [\"#636efa\", \"#EF553B\", \"#00cc96\", \"#ab63fa\", \"#FFA15A\", \"#19d3f3\", \"#FF6692\", \"#B6E880\", \"#FF97FF\", \"#FECB52\"], \"font\": {\"color\": \"#2a3f5f\"}, \"geo\": {\"bgcolor\": \"white\", \"lakecolor\": \"white\", \"landcolor\": \"#E5ECF6\", \"showlakes\": true, \"showland\": true, \"subunitcolor\": \"white\"}, \"hoverlabel\": {\"align\": \"left\"}, \"hovermode\": \"closest\", \"mapbox\": {\"style\": \"light\"}, \"paper_bgcolor\": \"white\", \"plot_bgcolor\": \"#E5ECF6\", \"polar\": {\"angularaxis\": {\"gridcolor\": \"white\", \"linecolor\": \"white\", \"ticks\": \"\"}, \"bgcolor\": \"#E5ECF6\", \"radialaxis\": {\"gridcolor\": \"white\", \"linecolor\": \"white\", \"ticks\": \"\"}}, \"scene\": {\"xaxis\": {\"backgroundcolor\": \"#E5ECF6\", \"gridcolor\": \"white\", \"gridwidth\": 2, \"linecolor\": \"white\", \"showbackground\": true, \"ticks\": \"\", \"zerolinecolor\": \"white\"}, \"yaxis\": {\"backgroundcolor\": \"#E5ECF6\", \"gridcolor\": \"white\", \"gridwidth\": 2, \"linecolor\": \"white\", \"showbackground\": true, \"ticks\": \"\", \"zerolinecolor\": \"white\"}, \"zaxis\": {\"backgroundcolor\": \"#E5ECF6\", \"gridcolor\": \"white\", \"gridwidth\": 2, \"linecolor\": \"white\", \"showbackground\": true, \"ticks\": \"\", \"zerolinecolor\": \"white\"}}, \"shapedefaults\": {\"line\": {\"color\": \"#2a3f5f\"}}, \"ternary\": {\"aaxis\": {\"gridcolor\": \"white\", \"linecolor\": \"white\", \"ticks\": \"\"}, \"baxis\": {\"gridcolor\": \"white\", \"linecolor\": \"white\", \"ticks\": \"\"}, \"bgcolor\": \"#E5ECF6\", \"caxis\": {\"gridcolor\": \"white\", \"linecolor\": \"white\", \"ticks\": \"\"}}, \"title\": {\"x\": 0.05}, \"xaxis\": {\"automargin\": true, \"gridcolor\": \"white\", \"linecolor\": \"white\", \"ticks\": \"\", \"title\": {\"standoff\": 15}, \"zerolinecolor\": \"white\", \"zerolinewidth\": 2}, \"yaxis\": {\"automargin\": true, \"gridcolor\": \"white\", \"linecolor\": \"white\", \"ticks\": \"\", \"title\": {\"standoff\": 15}, \"zerolinecolor\": \"white\", \"zerolinewidth\": 2}}}, \"title\": {\"text\": \"10 highest topic loadings\"}, \"xaxis\": {\"anchor\": \"y\", \"domain\": [0.0, 1.0], \"title\": {\"text\": \"Topic\"}, \"type\": \"category\"}, \"yaxis\": {\"anchor\": \"x\", \"domain\": [0.0, 1.0], \"title\": {\"text\": \"Cosine similiarity\"}}},                        {\"responsive\": true}                    ).then(function(){\n",
       "                            \n",
       "var gd = document.getElementById('ae110b68-027d-488c-a464-23d08b467ac4');\n",
       "var x = new MutationObserver(function (mutations, observer) {{\n",
       "        var display = window.getComputedStyle(gd).display;\n",
       "        if (!display || display === 'none') {{\n",
       "            console.log([gd, 'removed!']);\n",
       "            Plotly.purge(gd);\n",
       "            observer.disconnect();\n",
       "        }}\n",
       "}});\n",
       "\n",
       "// Listen for the removal of the full notebook cells\n",
       "var notebookContainer = gd.closest('#notebook-container');\n",
       "if (notebookContainer) {{\n",
       "    x.observe(notebookContainer, {childList: true});\n",
       "}}\n",
       "\n",
       "// Listen for the clearing of the current output cell\n",
       "var outputEl = gd.closest('.output');\n",
       "if (outputEl) {{\n",
       "    x.observe(outputEl, {childList: true});\n",
       "}}\n",
       "\n",
       "                        })                };                });            </script>        </div>"
      ]
     },
     "metadata": {},
     "output_type": "display_data"
    }
   ],
   "source": [
    "fig = px.bar(scores.iloc[0:10,:], x='Topic', y='Cosine similiarity', text=\"Top words\", title='10 highest topic loadings')\n",
    "fig.update_layout(xaxis=dict(type='category'))\n",
    "fig.show()"
   ]
  },
  {
   "cell_type": "code",
   "execution_count": 261,
   "metadata": {},
   "outputs": [
    {
     "name": "stdout",
     "output_type": "stream",
     "text": [
      "Document: 3234, Filename (Company and year): Prologis-2016.pdf, Score: 0.817374587059021\n",
      "-----------\n",
      "Space for Good Prologis developed Space for Good to provide temporary space in our distribution facilities rent-free to help charitable organizations address seasonal and short-term needs and provide disaster relief. Space for Good demonstrates Prologis commitment to corporate citizenship and willingness to form meaningful public/private partnerships on behalf of our local communities. Highlights for 2016 Prologis and the Prologis Foundation made $1.6 million in donations and matching gifts to nonprofit organizations working in the areas of education, human welfare and disaster relief. On IMPACT Day, Prologis employees volunteered 7,000 hours to benefit 60 different nonprofit organizations. Employees volunteered an additional 3,420 hours to various organizations throughout the year. OurSpace for Goodprogram, which provides warehouse spaceat free or reduced rental rate tononprofits and nongovernmental organizations (NGOs), gave82months of rent-free space to 12 non-\n",
      "-----------\n",
      "\n",
      "Document: 3108, Filename (Company and year): Prologis-2015.pdf, Score: 0.8012655973434448\n",
      "-----------\n",
      "IMPACT DAY: OUR GLOBAL DAY OF SERVICE Total volunteer hours 7,000 Nonprofit organizations benefited 65 Employees volunteered 1,400 Employee volunteerism Every year, each employee is given two business days to volunteer at company-sponsored events and one business day to volunteer at the organization of the employees choice Charitable donations More than $1.5 million in grants, donations and matching gifts donated by Prologis and the Prologis Foundation to nonprofit organizations in support of educational, environmental and social causes 105 months of rent-free space to 18 nonprofits, totaling more than $1 million in donated rent as part of our Space for Good program $100,000 to Mercy Corps to help with disaster relief efforts after the April 2015 Nepal earthquake 34 EMPLOYEE VOLUNTEERISM AND GIVING SOCIAL RESPONSIBILITY ETHICS AND GOVERNANCE\n",
      "-----------\n",
      "\n",
      "Document: 2680, Filename (Company and year): Prologis-2012.pdf, Score: 0.798758864402771\n",
      "-----------\n",
      "Some of the organizations which received financial support from the Prologis Foundation in 2012 included: American Red Cross Boys and Girls Clubs Habitat for Humanity Junior Achievement Metro Volunteers Ronald McDonald House Charities Space for Good Prologis developed the Space for Good program to provide warehouse space to charitable organizations in need of such space on temporary basis to address seasonal needs and respond to disaster relief efforts. Space for Good is an example of program that aligns our business with our charitable activities in way that directly benefits the needs of the local communities where we operate. In 2012, Prologis donated more than 4 million square feet (400,000 square meters) of distribution center space on temporary basis to organizations in need. This space represents value of more\n",
      "-----------\n",
      "\n",
      "Document: 2597, Filename (Company and year): Prologis-2012.pdf, Score: 0.7959393262863159\n",
      "-----------\n",
      "Our social responsibility programs further enhance the communities where we live and work. In 2012, the Prologis Foundation provided over $600,000 in grants to nonprofit and charitable organizations that work in the areas of education, human welfare and disaster relief. We helped our employees support the organizations they personally care about through our Employee Volunteer Program, Matching Gift Program and Dollars for Doers Program. Our Space for Good program provided nonprofit organizations with free or discounted use of our vacant distribution center facilities around the world.\n",
      "-----------\n",
      "\n",
      "Document: 2412, Filename (Company and year): Prologis-2010.pdf, Score: 0.78471839427948\n",
      "-----------\n",
      "ProLogis associates volunteered 5,300 hours in their local communities in 2010, supporting organizations such as Junior Achievement, Habitat for Humanity and Ronald McDonald House. 5,300 ProLogis and its associates donated more than $1.4 million in cash and in-kind donations to nonprofit organizations in 2010. $1.4M ProLogis Space For Good program provides warehouse space to nonprofit and charity organizations for free or at reduced rental rate. The program enables ProLogis to leverage its assets and further its commitment to being good corporate citizen. During 2010, ProLogis donated approximately 646,000 square feet of space to 20 nonprofit organizations, including Boy Scouts of America, Project.U.R.E. and Toys for Tots.\n",
      "-----------\n",
      "\n"
     ]
    }
   ],
   "source": [
    "documents, document_scores, document_ids = model_distilBert.search_documents_by_topic(topic_num=5, num_docs=5)\n",
    "for doc, score, doc_id in zip(documents, document_scores, document_ids):\n",
    "    print(f\"Document: {doc_id}, Filename (Company and year): {df.iloc[doc_id,:].filename}, Score: {score}\")\n",
    "    print(\"-----------\")\n",
    "    print(doc)\n",
    "    print(\"-----------\")\n",
    "    print()"
   ]
  },
  {
   "cell_type": "code",
   "execution_count": 262,
   "metadata": {},
   "outputs": [
    {
     "name": "stderr",
     "output_type": "stream",
     "text": [
      "2020-12-17 17:39:48,537 - top2vec - INFO - Pre-processing documents for training\n",
      "2020-12-17 17:39:48,537 - top2vec - INFO - Pre-processing documents for training\n",
      "2020-12-17 17:39:48,537 - top2vec - INFO - Pre-processing documents for training\n",
      "2020-12-17 17:39:48,537 - top2vec - INFO - Pre-processing documents for training\n",
      "2020-12-17 17:39:48,537 - top2vec - INFO - Pre-processing documents for training\n",
      "2020-12-17 17:39:48,537 - top2vec - INFO - Pre-processing documents for training\n",
      "2020-12-17 17:39:48,537 - top2vec - INFO - Pre-processing documents for training\n",
      "2020-12-17 17:39:48,537 - top2vec - INFO - Pre-processing documents for training\n",
      "2020-12-17 17:39:48,537 - top2vec - INFO - Pre-processing documents for training\n",
      "2020-12-17 17:39:48,537 - top2vec - INFO - Pre-processing documents for training\n",
      "2020-12-17 17:39:48,537 - top2vec - INFO - Pre-processing documents for training\n",
      "2020-12-17 17:39:48,537 - top2vec - INFO - Pre-processing documents for training\n",
      "2020-12-17 17:39:48,537 - top2vec - INFO - Pre-processing documents for training\n",
      "2020-12-17 17:39:48,537 - top2vec - INFO - Pre-processing documents for training\n",
      "2020-12-17 17:39:48,537 - top2vec - INFO - Pre-processing documents for training\n",
      "2020-12-17 17:39:48,537 - top2vec - INFO - Pre-processing documents for training\n",
      "2020-12-17 17:39:48,537 - top2vec - INFO - Pre-processing documents for training\n",
      "2020-12-17 17:39:48,537 - top2vec - INFO - Pre-processing documents for training\n",
      "2020-12-17 17:39:48,537 - top2vec - INFO - Pre-processing documents for training\n",
      "2020-12-17 17:39:48,537 - top2vec - INFO - Pre-processing documents for training\n",
      "2020-12-17 17:39:48,537 - top2vec - INFO - Pre-processing documents for training\n",
      "2020-12-17 17:39:48,537 - top2vec - INFO - Pre-processing documents for training\n",
      "2020-12-17 17:39:48,537 - top2vec - INFO - Pre-processing documents for training\n",
      "2020-12-17 17:39:48,537 - top2vec - INFO - Pre-processing documents for training\n",
      "2020-12-17 17:39:48,537 - top2vec - INFO - Pre-processing documents for training\n",
      "2020-12-17 17:39:48,537 - top2vec - INFO - Pre-processing documents for training\n",
      "2020-12-17 17:39:48,537 - top2vec - INFO - Pre-processing documents for training\n",
      "2020-12-17 17:39:48,537 - top2vec - INFO - Pre-processing documents for training\n",
      "2020-12-17 17:39:48,537 - top2vec - INFO - Pre-processing documents for training\n",
      "2020-12-17 17:39:48,537 - top2vec - INFO - Pre-processing documents for training\n",
      "2020-12-17 17:39:48,537 - top2vec - INFO - Pre-processing documents for training\n",
      "2020-12-17 17:39:48,537 - top2vec - INFO - Pre-processing documents for training\n",
      "2020-12-17 17:39:48,537 - top2vec - INFO - Pre-processing documents for training\n",
      "2020-12-17 17:39:48,537 - top2vec - INFO - Pre-processing documents for training\n",
      "2020-12-17 17:39:48,537 - top2vec - INFO - Pre-processing documents for training\n",
      "INFO:top2vec:Pre-processing documents for training\n",
      "2020-12-17 17:40:59,406 - top2vec - INFO - Creating lower dimension embedding of documents\n",
      "2020-12-17 17:40:59,406 - top2vec - INFO - Creating lower dimension embedding of documents\n",
      "2020-12-17 17:40:59,406 - top2vec - INFO - Creating lower dimension embedding of documents\n",
      "2020-12-17 17:40:59,406 - top2vec - INFO - Creating lower dimension embedding of documents\n",
      "2020-12-17 17:40:59,406 - top2vec - INFO - Creating lower dimension embedding of documents\n",
      "2020-12-17 17:40:59,406 - top2vec - INFO - Creating lower dimension embedding of documents\n",
      "2020-12-17 17:40:59,406 - top2vec - INFO - Creating lower dimension embedding of documents\n",
      "2020-12-17 17:40:59,406 - top2vec - INFO - Creating lower dimension embedding of documents\n",
      "2020-12-17 17:40:59,406 - top2vec - INFO - Creating lower dimension embedding of documents\n",
      "2020-12-17 17:40:59,406 - top2vec - INFO - Creating lower dimension embedding of documents\n",
      "2020-12-17 17:40:59,406 - top2vec - INFO - Creating lower dimension embedding of documents\n",
      "2020-12-17 17:40:59,406 - top2vec - INFO - Creating lower dimension embedding of documents\n",
      "2020-12-17 17:40:59,406 - top2vec - INFO - Creating lower dimension embedding of documents\n",
      "2020-12-17 17:40:59,406 - top2vec - INFO - Creating lower dimension embedding of documents\n",
      "2020-12-17 17:40:59,406 - top2vec - INFO - Creating lower dimension embedding of documents\n",
      "2020-12-17 17:40:59,406 - top2vec - INFO - Creating lower dimension embedding of documents\n",
      "2020-12-17 17:40:59,406 - top2vec - INFO - Creating lower dimension embedding of documents\n",
      "2020-12-17 17:40:59,406 - top2vec - INFO - Creating lower dimension embedding of documents\n",
      "2020-12-17 17:40:59,406 - top2vec - INFO - Creating lower dimension embedding of documents\n",
      "2020-12-17 17:40:59,406 - top2vec - INFO - Creating lower dimension embedding of documents\n",
      "2020-12-17 17:40:59,406 - top2vec - INFO - Creating lower dimension embedding of documents\n",
      "2020-12-17 17:40:59,406 - top2vec - INFO - Creating lower dimension embedding of documents\n",
      "2020-12-17 17:40:59,406 - top2vec - INFO - Creating lower dimension embedding of documents\n",
      "2020-12-17 17:40:59,406 - top2vec - INFO - Creating lower dimension embedding of documents\n",
      "2020-12-17 17:40:59,406 - top2vec - INFO - Creating lower dimension embedding of documents\n",
      "2020-12-17 17:40:59,406 - top2vec - INFO - Creating lower dimension embedding of documents\n",
      "2020-12-17 17:40:59,406 - top2vec - INFO - Creating lower dimension embedding of documents\n",
      "2020-12-17 17:40:59,406 - top2vec - INFO - Creating lower dimension embedding of documents\n",
      "2020-12-17 17:40:59,406 - top2vec - INFO - Creating lower dimension embedding of documents\n",
      "2020-12-17 17:40:59,406 - top2vec - INFO - Creating lower dimension embedding of documents\n",
      "2020-12-17 17:40:59,406 - top2vec - INFO - Creating lower dimension embedding of documents\n",
      "2020-12-17 17:40:59,406 - top2vec - INFO - Creating lower dimension embedding of documents\n",
      "2020-12-17 17:40:59,406 - top2vec - INFO - Creating lower dimension embedding of documents\n",
      "2020-12-17 17:40:59,406 - top2vec - INFO - Creating lower dimension embedding of documents\n",
      "2020-12-17 17:40:59,406 - top2vec - INFO - Creating lower dimension embedding of documents\n",
      "INFO:top2vec:Creating lower dimension embedding of documents\n",
      "2020-12-17 17:40:59,489 - top2vec - INFO - Creating lower dimension embedding of documents\n",
      "2020-12-17 17:40:59,489 - top2vec - INFO - Creating lower dimension embedding of documents\n",
      "2020-12-17 17:40:59,489 - top2vec - INFO - Creating lower dimension embedding of documents\n",
      "2020-12-17 17:40:59,489 - top2vec - INFO - Creating lower dimension embedding of documents\n",
      "2020-12-17 17:40:59,489 - top2vec - INFO - Creating lower dimension embedding of documents\n",
      "2020-12-17 17:40:59,489 - top2vec - INFO - Creating lower dimension embedding of documents\n",
      "2020-12-17 17:40:59,489 - top2vec - INFO - Creating lower dimension embedding of documents\n",
      "2020-12-17 17:40:59,489 - top2vec - INFO - Creating lower dimension embedding of documents\n",
      "2020-12-17 17:40:59,489 - top2vec - INFO - Creating lower dimension embedding of documents\n",
      "2020-12-17 17:40:59,489 - top2vec - INFO - Creating lower dimension embedding of documents\n",
      "2020-12-17 17:40:59,489 - top2vec - INFO - Creating lower dimension embedding of documents\n",
      "2020-12-17 17:40:59,489 - top2vec - INFO - Creating lower dimension embedding of documents\n",
      "2020-12-17 17:40:59,489 - top2vec - INFO - Creating lower dimension embedding of documents\n",
      "2020-12-17 17:40:59,489 - top2vec - INFO - Creating lower dimension embedding of documents\n",
      "2020-12-17 17:40:59,489 - top2vec - INFO - Creating lower dimension embedding of documents\n",
      "2020-12-17 17:40:59,489 - top2vec - INFO - Creating lower dimension embedding of documents\n",
      "2020-12-17 17:40:59,489 - top2vec - INFO - Creating lower dimension embedding of documents\n",
      "2020-12-17 17:40:59,489 - top2vec - INFO - Creating lower dimension embedding of documents\n",
      "2020-12-17 17:40:59,489 - top2vec - INFO - Creating lower dimension embedding of documents\n",
      "2020-12-17 17:40:59,489 - top2vec - INFO - Creating lower dimension embedding of documents\n",
      "2020-12-17 17:40:59,489 - top2vec - INFO - Creating lower dimension embedding of documents\n",
      "2020-12-17 17:40:59,489 - top2vec - INFO - Creating lower dimension embedding of documents\n",
      "2020-12-17 17:40:59,489 - top2vec - INFO - Creating lower dimension embedding of documents\n"
     ]
    },
    {
     "name": "stderr",
     "output_type": "stream",
     "text": [
      "2020-12-17 17:40:59,489 - top2vec - INFO - Creating lower dimension embedding of documents\n",
      "2020-12-17 17:40:59,489 - top2vec - INFO - Creating lower dimension embedding of documents\n",
      "2020-12-17 17:40:59,489 - top2vec - INFO - Creating lower dimension embedding of documents\n",
      "2020-12-17 17:40:59,489 - top2vec - INFO - Creating lower dimension embedding of documents\n",
      "2020-12-17 17:40:59,489 - top2vec - INFO - Creating lower dimension embedding of documents\n",
      "2020-12-17 17:40:59,489 - top2vec - INFO - Creating lower dimension embedding of documents\n",
      "2020-12-17 17:40:59,489 - top2vec - INFO - Creating lower dimension embedding of documents\n",
      "2020-12-17 17:40:59,489 - top2vec - INFO - Creating lower dimension embedding of documents\n",
      "2020-12-17 17:40:59,489 - top2vec - INFO - Creating lower dimension embedding of documents\n",
      "2020-12-17 17:40:59,489 - top2vec - INFO - Creating lower dimension embedding of documents\n",
      "2020-12-17 17:40:59,489 - top2vec - INFO - Creating lower dimension embedding of documents\n",
      "2020-12-17 17:40:59,489 - top2vec - INFO - Creating lower dimension embedding of documents\n",
      "INFO:top2vec:Creating lower dimension embedding of documents\n",
      "2020-12-17 17:42:28,665 - top2vec - INFO - Finding dense areas of documents\n",
      "2020-12-17 17:42:28,665 - top2vec - INFO - Finding dense areas of documents\n",
      "2020-12-17 17:42:28,665 - top2vec - INFO - Finding dense areas of documents\n",
      "2020-12-17 17:42:28,665 - top2vec - INFO - Finding dense areas of documents\n",
      "2020-12-17 17:42:28,665 - top2vec - INFO - Finding dense areas of documents\n",
      "2020-12-17 17:42:28,665 - top2vec - INFO - Finding dense areas of documents\n",
      "2020-12-17 17:42:28,665 - top2vec - INFO - Finding dense areas of documents\n",
      "2020-12-17 17:42:28,665 - top2vec - INFO - Finding dense areas of documents\n",
      "2020-12-17 17:42:28,665 - top2vec - INFO - Finding dense areas of documents\n",
      "2020-12-17 17:42:28,665 - top2vec - INFO - Finding dense areas of documents\n",
      "2020-12-17 17:42:28,665 - top2vec - INFO - Finding dense areas of documents\n",
      "2020-12-17 17:42:28,665 - top2vec - INFO - Finding dense areas of documents\n",
      "2020-12-17 17:42:28,665 - top2vec - INFO - Finding dense areas of documents\n",
      "2020-12-17 17:42:28,665 - top2vec - INFO - Finding dense areas of documents\n",
      "2020-12-17 17:42:28,665 - top2vec - INFO - Finding dense areas of documents\n",
      "2020-12-17 17:42:28,665 - top2vec - INFO - Finding dense areas of documents\n",
      "2020-12-17 17:42:28,665 - top2vec - INFO - Finding dense areas of documents\n",
      "2020-12-17 17:42:28,665 - top2vec - INFO - Finding dense areas of documents\n",
      "2020-12-17 17:42:28,665 - top2vec - INFO - Finding dense areas of documents\n",
      "2020-12-17 17:42:28,665 - top2vec - INFO - Finding dense areas of documents\n",
      "2020-12-17 17:42:28,665 - top2vec - INFO - Finding dense areas of documents\n",
      "2020-12-17 17:42:28,665 - top2vec - INFO - Finding dense areas of documents\n",
      "2020-12-17 17:42:28,665 - top2vec - INFO - Finding dense areas of documents\n",
      "2020-12-17 17:42:28,665 - top2vec - INFO - Finding dense areas of documents\n",
      "2020-12-17 17:42:28,665 - top2vec - INFO - Finding dense areas of documents\n",
      "2020-12-17 17:42:28,665 - top2vec - INFO - Finding dense areas of documents\n",
      "2020-12-17 17:42:28,665 - top2vec - INFO - Finding dense areas of documents\n",
      "2020-12-17 17:42:28,665 - top2vec - INFO - Finding dense areas of documents\n",
      "2020-12-17 17:42:28,665 - top2vec - INFO - Finding dense areas of documents\n",
      "2020-12-17 17:42:28,665 - top2vec - INFO - Finding dense areas of documents\n",
      "2020-12-17 17:42:28,665 - top2vec - INFO - Finding dense areas of documents\n",
      "2020-12-17 17:42:28,665 - top2vec - INFO - Finding dense areas of documents\n",
      "2020-12-17 17:42:28,665 - top2vec - INFO - Finding dense areas of documents\n",
      "2020-12-17 17:42:28,665 - top2vec - INFO - Finding dense areas of documents\n",
      "2020-12-17 17:42:28,665 - top2vec - INFO - Finding dense areas of documents\n",
      "INFO:top2vec:Finding dense areas of documents\n",
      "2020-12-17 17:42:28,717 - top2vec - INFO - Finding dense areas of documents\n",
      "2020-12-17 17:42:28,717 - top2vec - INFO - Finding dense areas of documents\n",
      "2020-12-17 17:42:28,717 - top2vec - INFO - Finding dense areas of documents\n",
      "2020-12-17 17:42:28,717 - top2vec - INFO - Finding dense areas of documents\n",
      "2020-12-17 17:42:28,717 - top2vec - INFO - Finding dense areas of documents\n",
      "2020-12-17 17:42:28,717 - top2vec - INFO - Finding dense areas of documents\n",
      "2020-12-17 17:42:28,717 - top2vec - INFO - Finding dense areas of documents\n",
      "2020-12-17 17:42:28,717 - top2vec - INFO - Finding dense areas of documents\n",
      "2020-12-17 17:42:28,717 - top2vec - INFO - Finding dense areas of documents\n",
      "2020-12-17 17:42:28,717 - top2vec - INFO - Finding dense areas of documents\n",
      "2020-12-17 17:42:28,717 - top2vec - INFO - Finding dense areas of documents\n",
      "2020-12-17 17:42:28,717 - top2vec - INFO - Finding dense areas of documents\n",
      "2020-12-17 17:42:28,717 - top2vec - INFO - Finding dense areas of documents\n",
      "2020-12-17 17:42:28,717 - top2vec - INFO - Finding dense areas of documents\n",
      "2020-12-17 17:42:28,717 - top2vec - INFO - Finding dense areas of documents\n",
      "2020-12-17 17:42:28,717 - top2vec - INFO - Finding dense areas of documents\n",
      "2020-12-17 17:42:28,717 - top2vec - INFO - Finding dense areas of documents\n",
      "2020-12-17 17:42:28,717 - top2vec - INFO - Finding dense areas of documents\n",
      "2020-12-17 17:42:28,717 - top2vec - INFO - Finding dense areas of documents\n",
      "2020-12-17 17:42:28,717 - top2vec - INFO - Finding dense areas of documents\n",
      "2020-12-17 17:42:28,717 - top2vec - INFO - Finding dense areas of documents\n",
      "2020-12-17 17:42:28,717 - top2vec - INFO - Finding dense areas of documents\n",
      "2020-12-17 17:42:28,717 - top2vec - INFO - Finding dense areas of documents\n",
      "2020-12-17 17:42:28,717 - top2vec - INFO - Finding dense areas of documents\n",
      "2020-12-17 17:42:28,717 - top2vec - INFO - Finding dense areas of documents\n",
      "2020-12-17 17:42:28,717 - top2vec - INFO - Finding dense areas of documents\n",
      "2020-12-17 17:42:28,717 - top2vec - INFO - Finding dense areas of documents\n",
      "2020-12-17 17:42:28,717 - top2vec - INFO - Finding dense areas of documents\n",
      "2020-12-17 17:42:28,717 - top2vec - INFO - Finding dense areas of documents\n",
      "2020-12-17 17:42:28,717 - top2vec - INFO - Finding dense areas of documents\n",
      "2020-12-17 17:42:28,717 - top2vec - INFO - Finding dense areas of documents\n",
      "2020-12-17 17:42:28,717 - top2vec - INFO - Finding dense areas of documents\n",
      "2020-12-17 17:42:28,717 - top2vec - INFO - Finding dense areas of documents\n",
      "2020-12-17 17:42:28,717 - top2vec - INFO - Finding dense areas of documents\n",
      "2020-12-17 17:42:28,717 - top2vec - INFO - Finding dense areas of documents\n",
      "INFO:top2vec:Finding dense areas of documents\n",
      "2020-12-17 17:42:30,918 - top2vec - INFO - Finding topics\n",
      "2020-12-17 17:42:30,918 - top2vec - INFO - Finding topics\n",
      "2020-12-17 17:42:30,918 - top2vec - INFO - Finding topics\n",
      "2020-12-17 17:42:30,918 - top2vec - INFO - Finding topics\n",
      "2020-12-17 17:42:30,918 - top2vec - INFO - Finding topics\n",
      "2020-12-17 17:42:30,918 - top2vec - INFO - Finding topics\n",
      "2020-12-17 17:42:30,918 - top2vec - INFO - Finding topics\n",
      "2020-12-17 17:42:30,918 - top2vec - INFO - Finding topics\n",
      "2020-12-17 17:42:30,918 - top2vec - INFO - Finding topics\n",
      "2020-12-17 17:42:30,918 - top2vec - INFO - Finding topics\n",
      "2020-12-17 17:42:30,918 - top2vec - INFO - Finding topics\n",
      "2020-12-17 17:42:30,918 - top2vec - INFO - Finding topics\n",
      "2020-12-17 17:42:30,918 - top2vec - INFO - Finding topics\n",
      "2020-12-17 17:42:30,918 - top2vec - INFO - Finding topics\n",
      "2020-12-17 17:42:30,918 - top2vec - INFO - Finding topics\n",
      "2020-12-17 17:42:30,918 - top2vec - INFO - Finding topics\n",
      "2020-12-17 17:42:30,918 - top2vec - INFO - Finding topics\n",
      "2020-12-17 17:42:30,918 - top2vec - INFO - Finding topics\n",
      "2020-12-17 17:42:30,918 - top2vec - INFO - Finding topics\n",
      "2020-12-17 17:42:30,918 - top2vec - INFO - Finding topics\n",
      "2020-12-17 17:42:30,918 - top2vec - INFO - Finding topics\n",
      "2020-12-17 17:42:30,918 - top2vec - INFO - Finding topics\n",
      "2020-12-17 17:42:30,918 - top2vec - INFO - Finding topics\n",
      "2020-12-17 17:42:30,918 - top2vec - INFO - Finding topics\n",
      "2020-12-17 17:42:30,918 - top2vec - INFO - Finding topics\n",
      "2020-12-17 17:42:30,918 - top2vec - INFO - Finding topics\n",
      "2020-12-17 17:42:30,918 - top2vec - INFO - Finding topics\n",
      "2020-12-17 17:42:30,918 - top2vec - INFO - Finding topics\n",
      "2020-12-17 17:42:30,918 - top2vec - INFO - Finding topics\n"
     ]
    },
    {
     "name": "stderr",
     "output_type": "stream",
     "text": [
      "2020-12-17 17:42:30,918 - top2vec - INFO - Finding topics\n",
      "2020-12-17 17:42:30,918 - top2vec - INFO - Finding topics\n",
      "2020-12-17 17:42:30,918 - top2vec - INFO - Finding topics\n",
      "2020-12-17 17:42:30,918 - top2vec - INFO - Finding topics\n",
      "2020-12-17 17:42:30,918 - top2vec - INFO - Finding topics\n",
      "2020-12-17 17:42:30,918 - top2vec - INFO - Finding topics\n",
      "INFO:top2vec:Finding topics\n"
     ]
    }
   ],
   "source": [
    "model_distilBert.n_components = 5\n",
    "model_distilBert.ngram_range = (1,4)\n",
    "model_distilBert._update_steps(documents=paragraphs, step=1)"
   ]
  },
  {
   "cell_type": "code",
   "execution_count": 263,
   "metadata": {},
   "outputs": [
    {
     "data": {
      "text/html": [
       "<div>\n",
       "<style scoped>\n",
       "    .dataframe tbody tr th:only-of-type {\n",
       "        vertical-align: middle;\n",
       "    }\n",
       "\n",
       "    .dataframe tbody tr th {\n",
       "        vertical-align: top;\n",
       "    }\n",
       "\n",
       "    .dataframe thead th {\n",
       "        text-align: right;\n",
       "    }\n",
       "</style>\n",
       "<table border=\"1\" class=\"dataframe\">\n",
       "  <thead>\n",
       "    <tr style=\"text-align: right;\">\n",
       "      <th></th>\n",
       "      <th>0</th>\n",
       "      <th>1</th>\n",
       "      <th>2</th>\n",
       "      <th>3</th>\n",
       "      <th>4</th>\n",
       "      <th>5</th>\n",
       "      <th>6</th>\n",
       "      <th>7</th>\n",
       "      <th>8</th>\n",
       "      <th>9</th>\n",
       "      <th>size</th>\n",
       "    </tr>\n",
       "  </thead>\n",
       "  <tbody>\n",
       "    <tr>\n",
       "      <th>0</th>\n",
       "      <td>energy use carbon emissions</td>\n",
       "      <td>energy use carbon</td>\n",
       "      <td>energy carbon</td>\n",
       "      <td>energy savings</td>\n",
       "      <td>use carbon emissions</td>\n",
       "      <td>energy use kwh</td>\n",
       "      <td>energy consumption</td>\n",
       "      <td>energy efficient lighting</td>\n",
       "      <td>store electricity use</td>\n",
       "      <td>energy usage</td>\n",
       "      <td>320</td>\n",
       "    </tr>\n",
       "    <tr>\n",
       "      <th>1</th>\n",
       "      <td>environmental stewardship social responsibility</td>\n",
       "      <td>corporate responsibility report environmental</td>\n",
       "      <td>responsibility ethics governance environmental</td>\n",
       "      <td>social responsibility report environment</td>\n",
       "      <td>responsibility report environment continued</td>\n",
       "      <td>responsibility report environmental stewardship</td>\n",
       "      <td>responsibility report environmental</td>\n",
       "      <td>corporate overview environmental stewardship</td>\n",
       "      <td>responsibility environmental</td>\n",
       "      <td>stewardship social responsibility ethics</td>\n",
       "      <td>250</td>\n",
       "    </tr>\n",
       "    <tr>\n",
       "      <th>2</th>\n",
       "      <td>water waste</td>\n",
       "      <td>energy water waste</td>\n",
       "      <td>water conservation</td>\n",
       "      <td>water usage</td>\n",
       "      <td>water efficiency</td>\n",
       "      <td>waste recycling</td>\n",
       "      <td>establishment environmental assessment</td>\n",
       "      <td>environmental management</td>\n",
       "      <td>low environmental impact</td>\n",
       "      <td>waste management</td>\n",
       "      <td>179</td>\n",
       "    </tr>\n",
       "    <tr>\n",
       "      <th>3</th>\n",
       "      <td>energy use carbon emissions</td>\n",
       "      <td>energy use carbon</td>\n",
       "      <td>use carbon emissions</td>\n",
       "      <td>reduce carbon</td>\n",
       "      <td>carbon pollution</td>\n",
       "      <td>carbon dioxide emissions</td>\n",
       "      <td>energy carbon</td>\n",
       "      <td>carbon emissions</td>\n",
       "      <td>emissions carbon</td>\n",
       "      <td>carbon reduction commitment</td>\n",
       "      <td>174</td>\n",
       "    </tr>\n",
       "    <tr>\n",
       "      <th>4</th>\n",
       "      <td>sustainable building certifications</td>\n",
       "      <td>building certifications</td>\n",
       "      <td>energy performance certificates</td>\n",
       "      <td>green building</td>\n",
       "      <td>green building council</td>\n",
       "      <td>leed certification</td>\n",
       "      <td>report environment continued</td>\n",
       "      <td>leed certified</td>\n",
       "      <td>sustainable building</td>\n",
       "      <td>green roof</td>\n",
       "      <td>171</td>\n",
       "    </tr>\n",
       "    <tr>\n",
       "      <th>5</th>\n",
       "      <td>independent assurance report</td>\n",
       "      <td>assurance report</td>\n",
       "      <td>page independent assurance report</td>\n",
       "      <td>responsibility report continued</td>\n",
       "      <td>responsibility report environment continued</td>\n",
       "      <td>responsibility report corporate overview</td>\n",
       "      <td>data reviewed deloitte llp</td>\n",
       "      <td>prologis corporate responsibility report</td>\n",
       "      <td>data reviewed deloitte</td>\n",
       "      <td>responsibility report environmental stewardship</td>\n",
       "      <td>161</td>\n",
       "    </tr>\n",
       "    <tr>\n",
       "      <th>6</th>\n",
       "      <td>charitable organizations</td>\n",
       "      <td>volunteers</td>\n",
       "      <td>nonprofit organizations</td>\n",
       "      <td>volunteering</td>\n",
       "      <td>volunteer hours</td>\n",
       "      <td>donations</td>\n",
       "      <td>donation</td>\n",
       "      <td>volunteerism</td>\n",
       "      <td>volunteer</td>\n",
       "      <td>charities</td>\n",
       "      <td>159</td>\n",
       "    </tr>\n",
       "    <tr>\n",
       "      <th>7</th>\n",
       "      <td>big yellow self storage</td>\n",
       "      <td>big yellow group plc</td>\n",
       "      <td>yellow group plc corporate</td>\n",
       "      <td>yellow self storage</td>\n",
       "      <td>year big yellow</td>\n",
       "      <td>big yellow self</td>\n",
       "      <td>big yellow group</td>\n",
       "      <td>yellow group plc</td>\n",
       "      <td>big yellow</td>\n",
       "      <td>big yellow construction</td>\n",
       "      <td>145</td>\n",
       "    </tr>\n",
       "    <tr>\n",
       "      <th>8</th>\n",
       "      <td>energy efficient lighting</td>\n",
       "      <td>energy efficient led</td>\n",
       "      <td>energy efficiency</td>\n",
       "      <td>energy efficient</td>\n",
       "      <td>efficient lighting</td>\n",
       "      <td>renewable energy initiatives</td>\n",
       "      <td>portfolio energy</td>\n",
       "      <td>renewable energy</td>\n",
       "      <td>energy savings</td>\n",
       "      <td>renewable energy generation</td>\n",
       "      <td>137</td>\n",
       "    </tr>\n",
       "    <tr>\n",
       "      <th>9</th>\n",
       "      <td>report environmental performance page</td>\n",
       "      <td>report environmental stewardship page</td>\n",
       "      <td>report corporate overview environmental</td>\n",
       "      <td>esg report environmental performance</td>\n",
       "      <td>report environmental performance</td>\n",
       "      <td>governance gri content index</td>\n",
       "      <td>corporate responsibility report environmental</td>\n",
       "      <td>report environmental stewardship</td>\n",
       "      <td>governance environmental stewardship approach</td>\n",
       "      <td>defining report content</td>\n",
       "      <td>124</td>\n",
       "    </tr>\n",
       "    <tr>\n",
       "      <th>10</th>\n",
       "      <td>rooftop solar installations</td>\n",
       "      <td>rooftop solar</td>\n",
       "      <td>solar electricity generation</td>\n",
       "      <td>solar energy</td>\n",
       "      <td>solar electricity</td>\n",
       "      <td>solar installations</td>\n",
       "      <td>solar panels</td>\n",
       "      <td>solar generation</td>\n",
       "      <td>solar pv</td>\n",
       "      <td>mw solar</td>\n",
       "      <td>107</td>\n",
       "    </tr>\n",
       "    <tr>\n",
       "      <th>11</th>\n",
       "      <td>esg report environmental performance</td>\n",
       "      <td>report environmental performance</td>\n",
       "      <td>report corporate overview environmental</td>\n",
       "      <td>report environmental performance page</td>\n",
       "      <td>corporate responsibility report environmental</td>\n",
       "      <td>report environment continued</td>\n",
       "      <td>esg report environmental</td>\n",
       "      <td>report environmental stewardship</td>\n",
       "      <td>responsibility report environment continued</td>\n",
       "      <td>report environmental</td>\n",
       "      <td>106</td>\n",
       "    </tr>\n",
       "    <tr>\n",
       "      <th>12</th>\n",
       "      <td>alexandria real estate</td>\n",
       "      <td>alexandria real estate equities</td>\n",
       "      <td>alexandrias corporate</td>\n",
       "      <td>alexandria real</td>\n",
       "      <td>alexandria</td>\n",
       "      <td>health safety performance</td>\n",
       "      <td>alexandrias</td>\n",
       "      <td>health wellness</td>\n",
       "      <td>charitable organizations</td>\n",
       "      <td>nonprofit organizations</td>\n",
       "      <td>101</td>\n",
       "    </tr>\n",
       "    <tr>\n",
       "      <th>13</th>\n",
       "      <td>global real estate</td>\n",
       "      <td>real estate equities corporate</td>\n",
       "      <td>real estate investment</td>\n",
       "      <td>global real estate sustainability</td>\n",
       "      <td>property management</td>\n",
       "      <td>real estate company</td>\n",
       "      <td>estate investment</td>\n",
       "      <td>real estate equities</td>\n",
       "      <td>industrial real estate</td>\n",
       "      <td>assets management</td>\n",
       "      <td>101</td>\n",
       "    </tr>\n",
       "    <tr>\n",
       "      <th>14</th>\n",
       "      <td>big yellow foundation</td>\n",
       "      <td>yellow foundation</td>\n",
       "      <td>year big yellow</td>\n",
       "      <td>big yellow group plc</td>\n",
       "      <td>big yellow construction</td>\n",
       "      <td>big yellow group</td>\n",
       "      <td>big yellow</td>\n",
       "      <td>yellow group plc corporate</td>\n",
       "      <td>big yellow self storage</td>\n",
       "      <td>big yellows</td>\n",
       "      <td>94</td>\n",
       "    </tr>\n",
       "    <tr>\n",
       "      <th>15</th>\n",
       "      <td>report corporate overview environmental</td>\n",
       "      <td>corporate responsibility report environmental</td>\n",
       "      <td>esg report environmental performance</td>\n",
       "      <td>report environmental performance</td>\n",
       "      <td>report environmental performance page</td>\n",
       "      <td>esg impact report</td>\n",
       "      <td>responsibility report corporate overview</td>\n",
       "      <td>report corporate overview</td>\n",
       "      <td>report environmental stewardship</td>\n",
       "      <td>equities corporate responsibility report</td>\n",
       "      <td>90</td>\n",
       "    </tr>\n",
       "    <tr>\n",
       "      <th>16</th>\n",
       "      <td>investor relations</td>\n",
       "      <td>customers investors</td>\n",
       "      <td>corporate responsibility report environmental</td>\n",
       "      <td>prologis corporate responsibility report</td>\n",
       "      <td>responsibility report corporate overview</td>\n",
       "      <td>equities corporate responsibility report</td>\n",
       "      <td>social responsibility report environment</td>\n",
       "      <td>real estate investment</td>\n",
       "      <td>responsibility report environment continued</td>\n",
       "      <td>corporate social responsibility report</td>\n",
       "      <td>90</td>\n",
       "    </tr>\n",
       "    <tr>\n",
       "      <th>17</th>\n",
       "      <td>code ethics business conduct</td>\n",
       "      <td>code ethics business</td>\n",
       "      <td>ethics business conduct</td>\n",
       "      <td>code ethics</td>\n",
       "      <td>ethics business</td>\n",
       "      <td>ethical standards</td>\n",
       "      <td>ethics governance gri</td>\n",
       "      <td>ethics governance gri index</td>\n",
       "      <td>ethics governance environmental stewardship</td>\n",
       "      <td>responsibility ethics governance gri</td>\n",
       "      <td>82</td>\n",
       "    </tr>\n",
       "    <tr>\n",
       "      <th>18</th>\n",
       "      <td>waste recycling</td>\n",
       "      <td>waste landfill</td>\n",
       "      <td>recycling</td>\n",
       "      <td>waste management</td>\n",
       "      <td>store waste</td>\n",
       "      <td>construction waste</td>\n",
       "      <td>recycled</td>\n",
       "      <td>recycled content</td>\n",
       "      <td>waste</td>\n",
       "      <td>water waste</td>\n",
       "      <td>72</td>\n",
       "    </tr>\n",
       "    <tr>\n",
       "      <th>19</th>\n",
       "      <td>risk management</td>\n",
       "      <td>climate change</td>\n",
       "      <td>risks opportunities</td>\n",
       "      <td>dangerous occurrences</td>\n",
       "      <td>injuries diseases dangerous occurrences</td>\n",
       "      <td>extreme weather events</td>\n",
       "      <td>evaluation management approach</td>\n",
       "      <td>reporting injuries diseases dangerous</td>\n",
       "      <td>related risk</td>\n",
       "      <td>diseases dangerous occurrences</td>\n",
       "      <td>70</td>\n",
       "    </tr>\n",
       "    <tr>\n",
       "      <th>20</th>\n",
       "      <td>minor injuries number reportable</td>\n",
       "      <td>injuries number reportable injuries</td>\n",
       "      <td>minor injuries reportable injuries</td>\n",
       "      <td>number reportable injuries</td>\n",
       "      <td>minor injuries reportable</td>\n",
       "      <td>injuries number reportable</td>\n",
       "      <td>number reportable injuries riddor</td>\n",
       "      <td>number minor injuries</td>\n",
       "      <td>injuries reportable injuries</td>\n",
       "      <td>number minor injuries number</td>\n",
       "      <td>68</td>\n",
       "    </tr>\n",
       "    <tr>\n",
       "      <th>21</th>\n",
       "      <td>risk management</td>\n",
       "      <td>evaluation management approach</td>\n",
       "      <td>evaluation management</td>\n",
       "      <td>management approach components</td>\n",
       "      <td>related risk</td>\n",
       "      <td>management approach</td>\n",
       "      <td>dangerous occurrences</td>\n",
       "      <td>injuries diseases dangerous occurrences</td>\n",
       "      <td>risks opportunities</td>\n",
       "      <td>management reporting</td>\n",
       "      <td>68</td>\n",
       "    </tr>\n",
       "    <tr>\n",
       "      <th>22</th>\n",
       "      <td>training development</td>\n",
       "      <td>management team</td>\n",
       "      <td>career development</td>\n",
       "      <td>csr manager</td>\n",
       "      <td>development programme</td>\n",
       "      <td>manager</td>\n",
       "      <td>learning development</td>\n",
       "      <td>managers</td>\n",
       "      <td>senior management</td>\n",
       "      <td>time employees</td>\n",
       "      <td>66</td>\n",
       "    </tr>\n",
       "    <tr>\n",
       "      <th>23</th>\n",
       "      <td>energy use carbon emissions</td>\n",
       "      <td>energy use carbon</td>\n",
       "      <td>esg report environmental</td>\n",
       "      <td>use carbon emissions</td>\n",
       "      <td>report environmental</td>\n",
       "      <td>report corporate overview environmental</td>\n",
       "      <td>greenhouse gas ghg emissions</td>\n",
       "      <td>greenhouse gas emissions</td>\n",
       "      <td>esg report environmental performance</td>\n",
       "      <td>report environmental stewardship</td>\n",
       "      <td>58</td>\n",
       "    </tr>\n",
       "    <tr>\n",
       "      <th>24</th>\n",
       "      <td>employment type</td>\n",
       "      <td>discrimination</td>\n",
       "      <td>prologis employees</td>\n",
       "      <td>number employees</td>\n",
       "      <td>employee turnover</td>\n",
       "      <td>hire</td>\n",
       "      <td>time employees</td>\n",
       "      <td>yellow group plc corporate</td>\n",
       "      <td>career development</td>\n",
       "      <td>workforce</td>\n",
       "      <td>58</td>\n",
       "    </tr>\n",
       "    <tr>\n",
       "      <th>25</th>\n",
       "      <td>time employees</td>\n",
       "      <td>number employees</td>\n",
       "      <td>average number staff</td>\n",
       "      <td>employee turnover</td>\n",
       "      <td>number staff</td>\n",
       "      <td>prologis employees</td>\n",
       "      <td>employees</td>\n",
       "      <td>workforce</td>\n",
       "      <td>employee engagement</td>\n",
       "      <td>employee engagement survey</td>\n",
       "      <td>56</td>\n",
       "    </tr>\n",
       "    <tr>\n",
       "      <th>26</th>\n",
       "      <td>energy performance certificates</td>\n",
       "      <td>green roof</td>\n",
       "      <td>energy efficient lighting</td>\n",
       "      <td>green roofs</td>\n",
       "      <td>rooftop solar</td>\n",
       "      <td>green building council</td>\n",
       "      <td>rooftop solar installations</td>\n",
       "      <td>green building</td>\n",
       "      <td>energy efficient led</td>\n",
       "      <td>energy efficient</td>\n",
       "      <td>55</td>\n",
       "    </tr>\n",
       "    <tr>\n",
       "      <th>27</th>\n",
       "      <td>employee engagement survey</td>\n",
       "      <td>employee engagement</td>\n",
       "      <td>yellow group plc corporate</td>\n",
       "      <td>time employees</td>\n",
       "      <td>employees communities</td>\n",
       "      <td>year big yellow</td>\n",
       "      <td>big yellow group plc</td>\n",
       "      <td>employee turnover</td>\n",
       "      <td>yellow group plc</td>\n",
       "      <td>number employees</td>\n",
       "      <td>55</td>\n",
       "    </tr>\n",
       "    <tr>\n",
       "      <th>28</th>\n",
       "      <td>staff health safety</td>\n",
       "      <td>time employees</td>\n",
       "      <td>staff health</td>\n",
       "      <td>volunteer hours</td>\n",
       "      <td>retirement</td>\n",
       "      <td>health safety performance</td>\n",
       "      <td>occupational health</td>\n",
       "      <td>prologis employees</td>\n",
       "      <td>number employees</td>\n",
       "      <td>year total</td>\n",
       "      <td>52</td>\n",
       "    </tr>\n",
       "    <tr>\n",
       "      <th>29</th>\n",
       "      <td>green building council</td>\n",
       "      <td>association real estate</td>\n",
       "      <td>real estate association</td>\n",
       "      <td>global real estate sustainability</td>\n",
       "      <td>real estate equities corporate</td>\n",
       "      <td>green building</td>\n",
       "      <td>real estate sustainability</td>\n",
       "      <td>real estate sustainability benchmark</td>\n",
       "      <td>industrial real estate</td>\n",
       "      <td>estate association</td>\n",
       "      <td>51</td>\n",
       "    </tr>\n",
       "    <tr>\n",
       "      <th>30</th>\n",
       "      <td>board governance nomination committee</td>\n",
       "      <td>board directors</td>\n",
       "      <td>board governance nomination</td>\n",
       "      <td>board governance</td>\n",
       "      <td>governance nomination committee</td>\n",
       "      <td>senior management</td>\n",
       "      <td>management approach components</td>\n",
       "      <td>csr manager</td>\n",
       "      <td>advisory board</td>\n",
       "      <td>audit committee</td>\n",
       "      <td>50</td>\n",
       "    </tr>\n",
       "    <tr>\n",
       "      <th>31</th>\n",
       "      <td>energy use carbon emissions</td>\n",
       "      <td>energy use carbon</td>\n",
       "      <td>energy carbon</td>\n",
       "      <td>total energy use</td>\n",
       "      <td>greenhouse gas ghg emissions</td>\n",
       "      <td>energy use kwh</td>\n",
       "      <td>greenhouse gas emissions</td>\n",
       "      <td>energy water waste</td>\n",
       "      <td>energy consumption</td>\n",
       "      <td>total energy</td>\n",
       "      <td>48</td>\n",
       "    </tr>\n",
       "    <tr>\n",
       "      <th>32</th>\n",
       "      <td>information security</td>\n",
       "      <td>staff health safety</td>\n",
       "      <td>cybersecurity</td>\n",
       "      <td>safety performance</td>\n",
       "      <td>security</td>\n",
       "      <td>health safety performance</td>\n",
       "      <td>health safety</td>\n",
       "      <td>safe</td>\n",
       "      <td>safety</td>\n",
       "      <td>level assurance</td>\n",
       "      <td>42</td>\n",
       "    </tr>\n",
       "    <tr>\n",
       "      <th>33</th>\n",
       "      <td>natural disasters</td>\n",
       "      <td>emergency response</td>\n",
       "      <td>construction waste</td>\n",
       "      <td>disasters</td>\n",
       "      <td>building design</td>\n",
       "      <td>design construction</td>\n",
       "      <td>big yellow construction</td>\n",
       "      <td>considerate constructors scheme</td>\n",
       "      <td>construction materials</td>\n",
       "      <td>yellow construction</td>\n",
       "      <td>40</td>\n",
       "    </tr>\n",
       "    <tr>\n",
       "      <th>34</th>\n",
       "      <td>health safety committee</td>\n",
       "      <td>staff health safety</td>\n",
       "      <td>visitor health safety</td>\n",
       "      <td>health safety performance</td>\n",
       "      <td>health safety</td>\n",
       "      <td>safety committee</td>\n",
       "      <td>yellow construction</td>\n",
       "      <td>big yellow construction</td>\n",
       "      <td>assurance report</td>\n",
       "      <td>reporting injuries diseases dangerous</td>\n",
       "      <td>38</td>\n",
       "    </tr>\n",
       "    <tr>\n",
       "      <th>35</th>\n",
       "      <td>renewable energy initiatives</td>\n",
       "      <td>building research establishment environmental</td>\n",
       "      <td>research establishment environmental</td>\n",
       "      <td>corporate responsibility report environmental</td>\n",
       "      <td>research establishment environmental assessment</td>\n",
       "      <td>energy use carbon emissions</td>\n",
       "      <td>rooftop solar installations</td>\n",
       "      <td>energy initiatives</td>\n",
       "      <td>rooftop solar</td>\n",
       "      <td>energy use carbon</td>\n",
       "      <td>32</td>\n",
       "    </tr>\n",
       "    <tr>\n",
       "      <th>36</th>\n",
       "      <td>waste recycling</td>\n",
       "      <td>recycled content</td>\n",
       "      <td>recycling</td>\n",
       "      <td>recycled</td>\n",
       "      <td>waste landfill</td>\n",
       "      <td>packaging</td>\n",
       "      <td>reduce environmental</td>\n",
       "      <td>corporate responsibility report environmental</td>\n",
       "      <td>report corporate overview environmental</td>\n",
       "      <td>corporate overview environmental</td>\n",
       "      <td>30</td>\n",
       "    </tr>\n",
       "  </tbody>\n",
       "</table>\n",
       "</div>"
      ],
      "text/plain": [
       "                                                  0  \\\n",
       "0                       energy use carbon emissions   \n",
       "1   environmental stewardship social responsibility   \n",
       "2                                       water waste   \n",
       "3                       energy use carbon emissions   \n",
       "4               sustainable building certifications   \n",
       "5                      independent assurance report   \n",
       "6                          charitable organizations   \n",
       "7                           big yellow self storage   \n",
       "8                         energy efficient lighting   \n",
       "9             report environmental performance page   \n",
       "10                      rooftop solar installations   \n",
       "11             esg report environmental performance   \n",
       "12                           alexandria real estate   \n",
       "13                               global real estate   \n",
       "14                            big yellow foundation   \n",
       "15          report corporate overview environmental   \n",
       "16                               investor relations   \n",
       "17                     code ethics business conduct   \n",
       "18                                  waste recycling   \n",
       "19                                  risk management   \n",
       "20                 minor injuries number reportable   \n",
       "21                                  risk management   \n",
       "22                             training development   \n",
       "23                      energy use carbon emissions   \n",
       "24                                  employment type   \n",
       "25                                   time employees   \n",
       "26                  energy performance certificates   \n",
       "27                       employee engagement survey   \n",
       "28                              staff health safety   \n",
       "29                           green building council   \n",
       "30            board governance nomination committee   \n",
       "31                      energy use carbon emissions   \n",
       "32                             information security   \n",
       "33                                natural disasters   \n",
       "34                          health safety committee   \n",
       "35                     renewable energy initiatives   \n",
       "36                                  waste recycling   \n",
       "\n",
       "                                                1  \\\n",
       "0                               energy use carbon   \n",
       "1   corporate responsibility report environmental   \n",
       "2                              energy water waste   \n",
       "3                               energy use carbon   \n",
       "4                         building certifications   \n",
       "5                                assurance report   \n",
       "6                                      volunteers   \n",
       "7                            big yellow group plc   \n",
       "8                            energy efficient led   \n",
       "9           report environmental stewardship page   \n",
       "10                                  rooftop solar   \n",
       "11               report environmental performance   \n",
       "12                alexandria real estate equities   \n",
       "13                 real estate equities corporate   \n",
       "14                              yellow foundation   \n",
       "15  corporate responsibility report environmental   \n",
       "16                            customers investors   \n",
       "17                           code ethics business   \n",
       "18                                 waste landfill   \n",
       "19                                 climate change   \n",
       "20            injuries number reportable injuries   \n",
       "21                 evaluation management approach   \n",
       "22                                management team   \n",
       "23                              energy use carbon   \n",
       "24                                 discrimination   \n",
       "25                               number employees   \n",
       "26                                     green roof   \n",
       "27                            employee engagement   \n",
       "28                                 time employees   \n",
       "29                        association real estate   \n",
       "30                                board directors   \n",
       "31                              energy use carbon   \n",
       "32                            staff health safety   \n",
       "33                             emergency response   \n",
       "34                            staff health safety   \n",
       "35  building research establishment environmental   \n",
       "36                               recycled content   \n",
       "\n",
       "                                                 2  \\\n",
       "0                                    energy carbon   \n",
       "1   responsibility ethics governance environmental   \n",
       "2                               water conservation   \n",
       "3                             use carbon emissions   \n",
       "4                  energy performance certificates   \n",
       "5                page independent assurance report   \n",
       "6                          nonprofit organizations   \n",
       "7                       yellow group plc corporate   \n",
       "8                                energy efficiency   \n",
       "9          report corporate overview environmental   \n",
       "10                    solar electricity generation   \n",
       "11         report corporate overview environmental   \n",
       "12                           alexandrias corporate   \n",
       "13                          real estate investment   \n",
       "14                                 year big yellow   \n",
       "15            esg report environmental performance   \n",
       "16   corporate responsibility report environmental   \n",
       "17                         ethics business conduct   \n",
       "18                                       recycling   \n",
       "19                             risks opportunities   \n",
       "20              minor injuries reportable injuries   \n",
       "21                           evaluation management   \n",
       "22                              career development   \n",
       "23                        esg report environmental   \n",
       "24                              prologis employees   \n",
       "25                            average number staff   \n",
       "26                       energy efficient lighting   \n",
       "27                      yellow group plc corporate   \n",
       "28                                    staff health   \n",
       "29                         real estate association   \n",
       "30                     board governance nomination   \n",
       "31                                   energy carbon   \n",
       "32                                   cybersecurity   \n",
       "33                              construction waste   \n",
       "34                           visitor health safety   \n",
       "35            research establishment environmental   \n",
       "36                                       recycling   \n",
       "\n",
       "                                                3  \\\n",
       "0                                  energy savings   \n",
       "1        social responsibility report environment   \n",
       "2                                     water usage   \n",
       "3                                   reduce carbon   \n",
       "4                                  green building   \n",
       "5                 responsibility report continued   \n",
       "6                                    volunteering   \n",
       "7                             yellow self storage   \n",
       "8                                energy efficient   \n",
       "9            esg report environmental performance   \n",
       "10                                   solar energy   \n",
       "11          report environmental performance page   \n",
       "12                                alexandria real   \n",
       "13              global real estate sustainability   \n",
       "14                           big yellow group plc   \n",
       "15               report environmental performance   \n",
       "16       prologis corporate responsibility report   \n",
       "17                                    code ethics   \n",
       "18                               waste management   \n",
       "19                          dangerous occurrences   \n",
       "20                     number reportable injuries   \n",
       "21                 management approach components   \n",
       "22                                    csr manager   \n",
       "23                           use carbon emissions   \n",
       "24                               number employees   \n",
       "25                              employee turnover   \n",
       "26                                    green roofs   \n",
       "27                                 time employees   \n",
       "28                                volunteer hours   \n",
       "29              global real estate sustainability   \n",
       "30                               board governance   \n",
       "31                               total energy use   \n",
       "32                             safety performance   \n",
       "33                                      disasters   \n",
       "34                      health safety performance   \n",
       "35  corporate responsibility report environmental   \n",
       "36                                       recycled   \n",
       "\n",
       "                                                  4  \\\n",
       "0                              use carbon emissions   \n",
       "1       responsibility report environment continued   \n",
       "2                                  water efficiency   \n",
       "3                                  carbon pollution   \n",
       "4                            green building council   \n",
       "5       responsibility report environment continued   \n",
       "6                                   volunteer hours   \n",
       "7                                   year big yellow   \n",
       "8                                efficient lighting   \n",
       "9                  report environmental performance   \n",
       "10                                solar electricity   \n",
       "11    corporate responsibility report environmental   \n",
       "12                                       alexandria   \n",
       "13                              property management   \n",
       "14                          big yellow construction   \n",
       "15            report environmental performance page   \n",
       "16         responsibility report corporate overview   \n",
       "17                                  ethics business   \n",
       "18                                      store waste   \n",
       "19          injuries diseases dangerous occurrences   \n",
       "20                        minor injuries reportable   \n",
       "21                                     related risk   \n",
       "22                            development programme   \n",
       "23                             report environmental   \n",
       "24                                employee turnover   \n",
       "25                                     number staff   \n",
       "26                                    rooftop solar   \n",
       "27                            employees communities   \n",
       "28                                       retirement   \n",
       "29                   real estate equities corporate   \n",
       "30                  governance nomination committee   \n",
       "31                     greenhouse gas ghg emissions   \n",
       "32                                         security   \n",
       "33                                  building design   \n",
       "34                                    health safety   \n",
       "35  research establishment environmental assessment   \n",
       "36                                   waste landfill   \n",
       "\n",
       "                                                  5  \\\n",
       "0                                    energy use kwh   \n",
       "1   responsibility report environmental stewardship   \n",
       "2                                   waste recycling   \n",
       "3                          carbon dioxide emissions   \n",
       "4                                leed certification   \n",
       "5          responsibility report corporate overview   \n",
       "6                                         donations   \n",
       "7                                   big yellow self   \n",
       "8                      renewable energy initiatives   \n",
       "9                      governance gri content index   \n",
       "10                              solar installations   \n",
       "11                     report environment continued   \n",
       "12                        health safety performance   \n",
       "13                              real estate company   \n",
       "14                                 big yellow group   \n",
       "15                                esg impact report   \n",
       "16         equities corporate responsibility report   \n",
       "17                                ethical standards   \n",
       "18                               construction waste   \n",
       "19                           extreme weather events   \n",
       "20                       injuries number reportable   \n",
       "21                              management approach   \n",
       "22                                          manager   \n",
       "23          report corporate overview environmental   \n",
       "24                                             hire   \n",
       "25                               prologis employees   \n",
       "26                           green building council   \n",
       "27                                  year big yellow   \n",
       "28                        health safety performance   \n",
       "29                                   green building   \n",
       "30                                senior management   \n",
       "31                                   energy use kwh   \n",
       "32                        health safety performance   \n",
       "33                              design construction   \n",
       "34                                 safety committee   \n",
       "35                      energy use carbon emissions   \n",
       "36                                        packaging   \n",
       "\n",
       "                                                6  \\\n",
       "0                              energy consumption   \n",
       "1             responsibility report environmental   \n",
       "2          establishment environmental assessment   \n",
       "3                                   energy carbon   \n",
       "4                    report environment continued   \n",
       "5                      data reviewed deloitte llp   \n",
       "6                                        donation   \n",
       "7                                big yellow group   \n",
       "8                                portfolio energy   \n",
       "9   corporate responsibility report environmental   \n",
       "10                                   solar panels   \n",
       "11                       esg report environmental   \n",
       "12                                    alexandrias   \n",
       "13                              estate investment   \n",
       "14                                     big yellow   \n",
       "15       responsibility report corporate overview   \n",
       "16       social responsibility report environment   \n",
       "17                          ethics governance gri   \n",
       "18                                       recycled   \n",
       "19                 evaluation management approach   \n",
       "20              number reportable injuries riddor   \n",
       "21                          dangerous occurrences   \n",
       "22                           learning development   \n",
       "23                   greenhouse gas ghg emissions   \n",
       "24                                 time employees   \n",
       "25                                      employees   \n",
       "26                    rooftop solar installations   \n",
       "27                           big yellow group plc   \n",
       "28                            occupational health   \n",
       "29                     real estate sustainability   \n",
       "30                 management approach components   \n",
       "31                       greenhouse gas emissions   \n",
       "32                                  health safety   \n",
       "33                        big yellow construction   \n",
       "34                            yellow construction   \n",
       "35                    rooftop solar installations   \n",
       "36                           reduce environmental   \n",
       "\n",
       "                                                7  \\\n",
       "0                       energy efficient lighting   \n",
       "1    corporate overview environmental stewardship   \n",
       "2                        environmental management   \n",
       "3                                carbon emissions   \n",
       "4                                  leed certified   \n",
       "5        prologis corporate responsibility report   \n",
       "6                                    volunteerism   \n",
       "7                                yellow group plc   \n",
       "8                                renewable energy   \n",
       "9                report environmental stewardship   \n",
       "10                               solar generation   \n",
       "11               report environmental stewardship   \n",
       "12                                health wellness   \n",
       "13                           real estate equities   \n",
       "14                     yellow group plc corporate   \n",
       "15                      report corporate overview   \n",
       "16                         real estate investment   \n",
       "17                    ethics governance gri index   \n",
       "18                               recycled content   \n",
       "19          reporting injuries diseases dangerous   \n",
       "20                          number minor injuries   \n",
       "21        injuries diseases dangerous occurrences   \n",
       "22                                       managers   \n",
       "23                       greenhouse gas emissions   \n",
       "24                     yellow group plc corporate   \n",
       "25                                      workforce   \n",
       "26                                 green building   \n",
       "27                              employee turnover   \n",
       "28                             prologis employees   \n",
       "29           real estate sustainability benchmark   \n",
       "30                                    csr manager   \n",
       "31                             energy water waste   \n",
       "32                                           safe   \n",
       "33                considerate constructors scheme   \n",
       "34                        big yellow construction   \n",
       "35                             energy initiatives   \n",
       "36  corporate responsibility report environmental   \n",
       "\n",
       "                                                8  \\\n",
       "0                           store electricity use   \n",
       "1                    responsibility environmental   \n",
       "2                        low environmental impact   \n",
       "3                                emissions carbon   \n",
       "4                            sustainable building   \n",
       "5                          data reviewed deloitte   \n",
       "6                                       volunteer   \n",
       "7                                      big yellow   \n",
       "8                                  energy savings   \n",
       "9   governance environmental stewardship approach   \n",
       "10                                       solar pv   \n",
       "11    responsibility report environment continued   \n",
       "12                       charitable organizations   \n",
       "13                         industrial real estate   \n",
       "14                        big yellow self storage   \n",
       "15               report environmental stewardship   \n",
       "16    responsibility report environment continued   \n",
       "17    ethics governance environmental stewardship   \n",
       "18                                          waste   \n",
       "19                                   related risk   \n",
       "20                   injuries reportable injuries   \n",
       "21                            risks opportunities   \n",
       "22                              senior management   \n",
       "23           esg report environmental performance   \n",
       "24                             career development   \n",
       "25                            employee engagement   \n",
       "26                           energy efficient led   \n",
       "27                               yellow group plc   \n",
       "28                               number employees   \n",
       "29                         industrial real estate   \n",
       "30                                 advisory board   \n",
       "31                             energy consumption   \n",
       "32                                         safety   \n",
       "33                         construction materials   \n",
       "34                               assurance report   \n",
       "35                                  rooftop solar   \n",
       "36        report corporate overview environmental   \n",
       "\n",
       "                                                  9  size  \n",
       "0                                      energy usage   320  \n",
       "1          stewardship social responsibility ethics   250  \n",
       "2                                  waste management   179  \n",
       "3                       carbon reduction commitment   174  \n",
       "4                                        green roof   171  \n",
       "5   responsibility report environmental stewardship   161  \n",
       "6                                         charities   159  \n",
       "7                           big yellow construction   145  \n",
       "8                       renewable energy generation   137  \n",
       "9                           defining report content   124  \n",
       "10                                         mw solar   107  \n",
       "11                             report environmental   106  \n",
       "12                          nonprofit organizations   101  \n",
       "13                                assets management   101  \n",
       "14                                      big yellows    94  \n",
       "15         equities corporate responsibility report    90  \n",
       "16           corporate social responsibility report    90  \n",
       "17             responsibility ethics governance gri    82  \n",
       "18                                      water waste    72  \n",
       "19                   diseases dangerous occurrences    70  \n",
       "20                     number minor injuries number    68  \n",
       "21                             management reporting    68  \n",
       "22                                   time employees    66  \n",
       "23                 report environmental stewardship    58  \n",
       "24                                        workforce    58  \n",
       "25                       employee engagement survey    56  \n",
       "26                                 energy efficient    55  \n",
       "27                                 number employees    55  \n",
       "28                                       year total    52  \n",
       "29                               estate association    51  \n",
       "30                                  audit committee    50  \n",
       "31                                     total energy    48  \n",
       "32                                  level assurance    42  \n",
       "33                              yellow construction    40  \n",
       "34            reporting injuries diseases dangerous    38  \n",
       "35                                energy use carbon    32  \n",
       "36                 corporate overview environmental    30  "
      ]
     },
     "execution_count": 263,
     "metadata": {},
     "output_type": "execute_result"
    }
   ],
   "source": [
    "topic_words, word_scores, topic_nums = model_distilBert.get_topics()\n",
    "topic_sizes,  topic_nums = model_distilBert.get_topic_sizes()\n",
    "topics_top2Vec = pd.DataFrame(topic_words).iloc[:,0:10]\n",
    "topics_top2Vec[\"size\"] = topic_sizes\n",
    "topics_top2Vec"
   ]
  }
 ],
 "metadata": {
  "kernelspec": {
   "display_name": "Python 3",
   "language": "python",
   "name": "python3"
  },
  "language_info": {
   "codemirror_mode": {
    "name": "ipython",
    "version": 3
   },
   "file_extension": ".py",
   "mimetype": "text/x-python",
   "name": "python",
   "nbconvert_exporter": "python",
   "pygments_lexer": "ipython3",
   "version": "3.8.5"
  }
 },
 "nbformat": 4,
 "nbformat_minor": 4
}
